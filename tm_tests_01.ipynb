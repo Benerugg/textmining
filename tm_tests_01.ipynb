{
  "cells": [
    {
      "cell_type": "code",
      "execution_count": null,
      "id": "0bca5933",
      "metadata": {
        "id": "0bca5933"
      },
      "outputs": [],
      "source": [
        "# !pip install nltk gensim wordcloud scikit-learn matplotlib seaborn\n"
      ]
    },
    {
      "cell_type": "code",
      "source": [
        "# pip install --force-reinstall --no-cache-dir pandas matplotlib seaborn scikit-learn"
      ],
      "metadata": {
        "id": "umv5_v4UfnJQ"
      },
      "id": "umv5_v4UfnJQ",
      "execution_count": null,
      "outputs": []
    },
    {
      "cell_type": "code",
      "source": [
        "import pandas as pd\n",
        "import numpy as np\n",
        "import matplotlib.pyplot as plt\n",
        "import seaborn as sns\n",
        "import re\n",
        "import nltk\n",
        "\n",
        "from collections import Counter\n",
        "from sklearn.model_selection import train_test_split\n",
        "from sklearn.feature_extraction.text import CountVectorizer\n",
        "\n",
        "from nltk.tokenize import word_tokenize"
      ],
      "metadata": {
        "id": "mllGmj99WNvZ"
      },
      "id": "mllGmj99WNvZ",
      "execution_count": 1,
      "outputs": []
    },
    {
      "cell_type": "code",
      "source": [
        "# Cell 3: Import and download nltk resources\n",
        "import nltk\n",
        "\n",
        "# Download with explicit download path and verification\n",
        "import os\n",
        "nltk_data_path = '/root/nltk_data'\n",
        "os.makedirs(nltk_data_path, exist_ok=True)\n",
        "\n",
        "print(\"Downloading NLTK resources...\")\n",
        "nltk.download('punkt', download_dir=nltk_data_path)\n",
        "nltk.download('stopwords', download_dir=nltk_data_path)\n",
        "nltk.download('wordnet', download_dir=nltk_data_path)\n",
        "\n",
        "# Verify downloads\n",
        "for resource in ['punkt', 'stopwords', 'wordnet']:\n",
        "    try:\n",
        "        nltk.data.find(f'tokenizers/{resource}') if resource == 'punkt' else nltk.data.find(f'corpora/{resource}')\n",
        "        print(f\"✓ {resource} successfully downloaded\")\n",
        "    except LookupError:\n",
        "        print(f\"✗ {resource} not found - trying to download again\")\n",
        "        nltk.download(resource, quiet=False, download_dir=nltk_data_path)\n",
        "\n",
        "# Import NLTK modules\n",
        "from nltk.corpus import stopwords\n",
        "from nltk.stem import SnowballStemmer, WordNetLemmatizer\n",
        "from nltk.tokenize import word_tokenize"
      ],
      "metadata": {
        "id": "0olJXqZKWQU8",
        "outputId": "fca92c6f-11f5-49b8-918c-9c16cd15b162",
        "colab": {
          "base_uri": "https://localhost:8080/"
        }
      },
      "id": "0olJXqZKWQU8",
      "execution_count": 2,
      "outputs": [
        {
          "output_type": "stream",
          "name": "stdout",
          "text": [
            "Downloading NLTK resources...\n"
          ]
        },
        {
          "output_type": "stream",
          "name": "stderr",
          "text": [
            "[nltk_data] Downloading package punkt to /root/nltk_data...\n",
            "[nltk_data]   Unzipping tokenizers/punkt.zip.\n",
            "[nltk_data] Downloading package stopwords to /root/nltk_data...\n",
            "[nltk_data]   Unzipping corpora/stopwords.zip.\n",
            "[nltk_data] Downloading package wordnet to /root/nltk_data...\n"
          ]
        },
        {
          "output_type": "stream",
          "name": "stdout",
          "text": [
            "✓ punkt successfully downloaded\n",
            "✓ stopwords successfully downloaded\n",
            "✗ wordnet not found - trying to download again\n"
          ]
        },
        {
          "output_type": "stream",
          "name": "stderr",
          "text": [
            "[nltk_data] Downloading package wordnet to /root/nltk_data...\n",
            "[nltk_data]   Package wordnet is already up-to-date!\n"
          ]
        }
      ]
    },
    {
      "cell_type": "code",
      "source": [
        "# Cell 4: Set random seed and visualization styles\n",
        "import random\n",
        "random.seed(42)\n",
        "np.random.seed(42)\n",
        "\n",
        "# Set up matplotlib for better visualizations\n",
        "plt.style.use('ggplot')\n",
        "sns.set(style='whitegrid')"
      ],
      "metadata": {
        "id": "nOZk-epgWSMm"
      },
      "id": "nOZk-epgWSMm",
      "execution_count": 3,
      "outputs": []
    },
    {
      "cell_type": "code",
      "source": [
        "try:\n",
        "    train_data = pd.read_csv(f'/content/train.csv')\n",
        "    print(\"Successfully loaded training data\")\n",
        "except FileNotFoundError:\n",
        "    print(\"Training data file not found. Please upload the 'train.csv' file to your Colab environment.\")\n",
        "    from google.colab import files\n",
        "    uploaded = files.upload()\n",
        "    train_data = pd.read_csv('train.csv')\n"
      ],
      "metadata": {
        "id": "KH9ArwzgWWSo",
        "outputId": "b2e930f1-4ff8-4b95-838d-1f4a0f5b4d69",
        "colab": {
          "base_uri": "https://localhost:8080/",
          "height": 95
        }
      },
      "id": "KH9ArwzgWWSo",
      "execution_count": 4,
      "outputs": [
        {
          "output_type": "stream",
          "name": "stdout",
          "text": [
            "Training data file not found. Please upload the 'train.csv' file to your Colab environment.\n"
          ]
        },
        {
          "output_type": "display_data",
          "data": {
            "text/plain": [
              "<IPython.core.display.HTML object>"
            ],
            "text/html": [
              "\n",
              "     <input type=\"file\" id=\"files-41065e60-f4cb-4f4d-a33a-7760f727a7be\" name=\"files[]\" multiple disabled\n",
              "        style=\"border:none\" />\n",
              "     <output id=\"result-41065e60-f4cb-4f4d-a33a-7760f727a7be\">\n",
              "      Upload widget is only available when the cell has been executed in the\n",
              "      current browser session. Please rerun this cell to enable.\n",
              "      </output>\n",
              "      <script>// Copyright 2017 Google LLC\n",
              "//\n",
              "// Licensed under the Apache License, Version 2.0 (the \"License\");\n",
              "// you may not use this file except in compliance with the License.\n",
              "// You may obtain a copy of the License at\n",
              "//\n",
              "//      http://www.apache.org/licenses/LICENSE-2.0\n",
              "//\n",
              "// Unless required by applicable law or agreed to in writing, software\n",
              "// distributed under the License is distributed on an \"AS IS\" BASIS,\n",
              "// WITHOUT WARRANTIES OR CONDITIONS OF ANY KIND, either express or implied.\n",
              "// See the License for the specific language governing permissions and\n",
              "// limitations under the License.\n",
              "\n",
              "/**\n",
              " * @fileoverview Helpers for google.colab Python module.\n",
              " */\n",
              "(function(scope) {\n",
              "function span(text, styleAttributes = {}) {\n",
              "  const element = document.createElement('span');\n",
              "  element.textContent = text;\n",
              "  for (const key of Object.keys(styleAttributes)) {\n",
              "    element.style[key] = styleAttributes[key];\n",
              "  }\n",
              "  return element;\n",
              "}\n",
              "\n",
              "// Max number of bytes which will be uploaded at a time.\n",
              "const MAX_PAYLOAD_SIZE = 100 * 1024;\n",
              "\n",
              "function _uploadFiles(inputId, outputId) {\n",
              "  const steps = uploadFilesStep(inputId, outputId);\n",
              "  const outputElement = document.getElementById(outputId);\n",
              "  // Cache steps on the outputElement to make it available for the next call\n",
              "  // to uploadFilesContinue from Python.\n",
              "  outputElement.steps = steps;\n",
              "\n",
              "  return _uploadFilesContinue(outputId);\n",
              "}\n",
              "\n",
              "// This is roughly an async generator (not supported in the browser yet),\n",
              "// where there are multiple asynchronous steps and the Python side is going\n",
              "// to poll for completion of each step.\n",
              "// This uses a Promise to block the python side on completion of each step,\n",
              "// then passes the result of the previous step as the input to the next step.\n",
              "function _uploadFilesContinue(outputId) {\n",
              "  const outputElement = document.getElementById(outputId);\n",
              "  const steps = outputElement.steps;\n",
              "\n",
              "  const next = steps.next(outputElement.lastPromiseValue);\n",
              "  return Promise.resolve(next.value.promise).then((value) => {\n",
              "    // Cache the last promise value to make it available to the next\n",
              "    // step of the generator.\n",
              "    outputElement.lastPromiseValue = value;\n",
              "    return next.value.response;\n",
              "  });\n",
              "}\n",
              "\n",
              "/**\n",
              " * Generator function which is called between each async step of the upload\n",
              " * process.\n",
              " * @param {string} inputId Element ID of the input file picker element.\n",
              " * @param {string} outputId Element ID of the output display.\n",
              " * @return {!Iterable<!Object>} Iterable of next steps.\n",
              " */\n",
              "function* uploadFilesStep(inputId, outputId) {\n",
              "  const inputElement = document.getElementById(inputId);\n",
              "  inputElement.disabled = false;\n",
              "\n",
              "  const outputElement = document.getElementById(outputId);\n",
              "  outputElement.innerHTML = '';\n",
              "\n",
              "  const pickedPromise = new Promise((resolve) => {\n",
              "    inputElement.addEventListener('change', (e) => {\n",
              "      resolve(e.target.files);\n",
              "    });\n",
              "  });\n",
              "\n",
              "  const cancel = document.createElement('button');\n",
              "  inputElement.parentElement.appendChild(cancel);\n",
              "  cancel.textContent = 'Cancel upload';\n",
              "  const cancelPromise = new Promise((resolve) => {\n",
              "    cancel.onclick = () => {\n",
              "      resolve(null);\n",
              "    };\n",
              "  });\n",
              "\n",
              "  // Wait for the user to pick the files.\n",
              "  const files = yield {\n",
              "    promise: Promise.race([pickedPromise, cancelPromise]),\n",
              "    response: {\n",
              "      action: 'starting',\n",
              "    }\n",
              "  };\n",
              "\n",
              "  cancel.remove();\n",
              "\n",
              "  // Disable the input element since further picks are not allowed.\n",
              "  inputElement.disabled = true;\n",
              "\n",
              "  if (!files) {\n",
              "    return {\n",
              "      response: {\n",
              "        action: 'complete',\n",
              "      }\n",
              "    };\n",
              "  }\n",
              "\n",
              "  for (const file of files) {\n",
              "    const li = document.createElement('li');\n",
              "    li.append(span(file.name, {fontWeight: 'bold'}));\n",
              "    li.append(span(\n",
              "        `(${file.type || 'n/a'}) - ${file.size} bytes, ` +\n",
              "        `last modified: ${\n",
              "            file.lastModifiedDate ? file.lastModifiedDate.toLocaleDateString() :\n",
              "                                    'n/a'} - `));\n",
              "    const percent = span('0% done');\n",
              "    li.appendChild(percent);\n",
              "\n",
              "    outputElement.appendChild(li);\n",
              "\n",
              "    const fileDataPromise = new Promise((resolve) => {\n",
              "      const reader = new FileReader();\n",
              "      reader.onload = (e) => {\n",
              "        resolve(e.target.result);\n",
              "      };\n",
              "      reader.readAsArrayBuffer(file);\n",
              "    });\n",
              "    // Wait for the data to be ready.\n",
              "    let fileData = yield {\n",
              "      promise: fileDataPromise,\n",
              "      response: {\n",
              "        action: 'continue',\n",
              "      }\n",
              "    };\n",
              "\n",
              "    // Use a chunked sending to avoid message size limits. See b/62115660.\n",
              "    let position = 0;\n",
              "    do {\n",
              "      const length = Math.min(fileData.byteLength - position, MAX_PAYLOAD_SIZE);\n",
              "      const chunk = new Uint8Array(fileData, position, length);\n",
              "      position += length;\n",
              "\n",
              "      const base64 = btoa(String.fromCharCode.apply(null, chunk));\n",
              "      yield {\n",
              "        response: {\n",
              "          action: 'append',\n",
              "          file: file.name,\n",
              "          data: base64,\n",
              "        },\n",
              "      };\n",
              "\n",
              "      let percentDone = fileData.byteLength === 0 ?\n",
              "          100 :\n",
              "          Math.round((position / fileData.byteLength) * 100);\n",
              "      percent.textContent = `${percentDone}% done`;\n",
              "\n",
              "    } while (position < fileData.byteLength);\n",
              "  }\n",
              "\n",
              "  // All done.\n",
              "  yield {\n",
              "    response: {\n",
              "      action: 'complete',\n",
              "    }\n",
              "  };\n",
              "}\n",
              "\n",
              "scope.google = scope.google || {};\n",
              "scope.google.colab = scope.google.colab || {};\n",
              "scope.google.colab._files = {\n",
              "  _uploadFiles,\n",
              "  _uploadFilesContinue,\n",
              "};\n",
              "})(self);\n",
              "</script> "
            ]
          },
          "metadata": {}
        },
        {
          "output_type": "stream",
          "name": "stdout",
          "text": [
            "Saving train.csv to train.csv\n"
          ]
        }
      ]
    },
    {
      "cell_type": "markdown",
      "source": [
        "# **Pre-Processing**\n"
      ],
      "metadata": {
        "id": "TOYvxsFlizVz"
      },
      "id": "TOYvxsFlizVz"
    },
    {
      "cell_type": "markdown",
      "source": [
        "Basic Cleaning of text"
      ],
      "metadata": {
        "id": "WseqISt3fOx-"
      },
      "id": "WseqISt3fOx-"
    },
    {
      "cell_type": "code",
      "source": [
        "def clean_text(text):\n",
        "    \"\"\"\n",
        "    Clean the text by:\n",
        "    1. Converting to lowercase\n",
        "    2. Removing URLs\n",
        "    3. Removing user mentions (@user)\n",
        "    4. Removing hashtags\n",
        "    5. Removing non-alphanumeric characters\n",
        "    \"\"\"\n",
        "    # Convert to string if not already\n",
        "    text = str(text)\n",
        "\n",
        "    # Convert to lowercase\n",
        "    text = text.lower()\n",
        "\n",
        "    # Remove URLs\n",
        "    text = re.sub(r'http\\S+|www\\S+|https\\S+', '', text)\n",
        "\n",
        "    # Remove user mentions\n",
        "    text = re.sub(r'@\\w+', '', text)\n",
        "\n",
        "    # Remove hashtags (keeping the content without #)\n",
        "    text = re.sub(r'#(\\w+)', r'\\1', text)\n",
        "\n",
        "    # Remove non-alphanumeric characters (keeping spaces)\n",
        "    text = re.sub(r'[^\\w\\s]', '', text)\n",
        "\n",
        "    # Remove extra whitespace\n",
        "    text = re.sub(r'\\s+', ' ', text).strip()\n",
        "\n",
        "    return text"
      ],
      "metadata": {
        "id": "pwjicqYaX8c_"
      },
      "id": "pwjicqYaX8c_",
      "execution_count": 5,
      "outputs": []
    },
    {
      "cell_type": "code",
      "source": [
        "print(\"Applying basic text cleaning...\")\n",
        "train_data['cleaned_text'] = train_data['text'].apply(clean_text)\n"
      ],
      "metadata": {
        "colab": {
          "base_uri": "https://localhost:8080/"
        },
        "id": "HixoQFoGbplC",
        "outputId": "20235939-b005-4950-f112-ca60f03bdb33"
      },
      "id": "HixoQFoGbplC",
      "execution_count": 6,
      "outputs": [
        {
          "output_type": "stream",
          "name": "stdout",
          "text": [
            "Applying basic text cleaning...\n"
          ]
        }
      ]
    },
    {
      "cell_type": "markdown",
      "source": [
        "Tokenization"
      ],
      "metadata": {
        "id": "Rf2AuYKSfIrC"
      },
      "id": "Rf2AuYKSfIrC"
    },
    {
      "cell_type": "markdown",
      "source": [
        "instead of the simple tokenization, the text.split. We can still fget back to that if it works better in the model. For now I Made text from the original Pre-Processing. So people can choose to use this pipeline of pre-processing, or use the old pre-processing. To get the old. \"cmmnd / \" the tokenization below and \"de-cmnd /\" the old pre-processing steps."
      ],
      "metadata": {
        "id": "J-f902Rqhj1H"
      },
      "id": "J-f902Rqhj1H"
    },
    {
      "cell_type": "code",
      "source": [
        "from nltk.tokenize import wordpunct_tokenize\n",
        "\n",
        "def tokenize_text(text):\n",
        "    \"\"\"\n",
        "    Tokenize using NLTK's wordpunct_tokenize (no download needed).\n",
        "    \"\"\"\n",
        "    return wordpunct_tokenize(text)\n",
        "\n",
        "train_data['tokens'] = train_data['cleaned_text'].apply(tokenize_text)"
      ],
      "metadata": {
        "id": "krJE31cffKlM"
      },
      "id": "krJE31cffKlM",
      "execution_count": 7,
      "outputs": []
    },
    {
      "cell_type": "code",
      "source": [
        "train_data[['cleaned_text', 'tokens']].head(5)"
      ],
      "metadata": {
        "colab": {
          "base_uri": "https://localhost:8080/",
          "height": 206
        },
        "id": "IguMEWNUfulY",
        "outputId": "4be72e5e-2cc2-428d-9219-3c2727774e83"
      },
      "id": "IguMEWNUfulY",
      "execution_count": 8,
      "outputs": [
        {
          "output_type": "execute_result",
          "data": {
            "text/plain": [
              "                                        cleaned_text  \\\n",
              "0  bynd jpmorgan reels in expectations on beyond ...   \n",
              "1  ccl rcl nomura points to bookings weakness at ...   \n",
              "2  cx cemex cut at credit suisse jp morgan on wea...   \n",
              "3                  ess btig research cuts to neutral   \n",
              "4       fnko funko slides after piper jaffray pt cut   \n",
              "\n",
              "                                              tokens  \n",
              "0  [bynd, jpmorgan, reels, in, expectations, on, ...  \n",
              "1  [ccl, rcl, nomura, points, to, bookings, weakn...  \n",
              "2  [cx, cemex, cut, at, credit, suisse, jp, morga...  \n",
              "3           [ess, btig, research, cuts, to, neutral]  \n",
              "4  [fnko, funko, slides, after, piper, jaffray, p...  "
            ],
            "text/html": [
              "\n",
              "  <div id=\"df-2dad5d6f-ab78-4041-93af-e165a2790042\" class=\"colab-df-container\">\n",
              "    <div>\n",
              "<style scoped>\n",
              "    .dataframe tbody tr th:only-of-type {\n",
              "        vertical-align: middle;\n",
              "    }\n",
              "\n",
              "    .dataframe tbody tr th {\n",
              "        vertical-align: top;\n",
              "    }\n",
              "\n",
              "    .dataframe thead th {\n",
              "        text-align: right;\n",
              "    }\n",
              "</style>\n",
              "<table border=\"1\" class=\"dataframe\">\n",
              "  <thead>\n",
              "    <tr style=\"text-align: right;\">\n",
              "      <th></th>\n",
              "      <th>cleaned_text</th>\n",
              "      <th>tokens</th>\n",
              "    </tr>\n",
              "  </thead>\n",
              "  <tbody>\n",
              "    <tr>\n",
              "      <th>0</th>\n",
              "      <td>bynd jpmorgan reels in expectations on beyond ...</td>\n",
              "      <td>[bynd, jpmorgan, reels, in, expectations, on, ...</td>\n",
              "    </tr>\n",
              "    <tr>\n",
              "      <th>1</th>\n",
              "      <td>ccl rcl nomura points to bookings weakness at ...</td>\n",
              "      <td>[ccl, rcl, nomura, points, to, bookings, weakn...</td>\n",
              "    </tr>\n",
              "    <tr>\n",
              "      <th>2</th>\n",
              "      <td>cx cemex cut at credit suisse jp morgan on wea...</td>\n",
              "      <td>[cx, cemex, cut, at, credit, suisse, jp, morga...</td>\n",
              "    </tr>\n",
              "    <tr>\n",
              "      <th>3</th>\n",
              "      <td>ess btig research cuts to neutral</td>\n",
              "      <td>[ess, btig, research, cuts, to, neutral]</td>\n",
              "    </tr>\n",
              "    <tr>\n",
              "      <th>4</th>\n",
              "      <td>fnko funko slides after piper jaffray pt cut</td>\n",
              "      <td>[fnko, funko, slides, after, piper, jaffray, p...</td>\n",
              "    </tr>\n",
              "  </tbody>\n",
              "</table>\n",
              "</div>\n",
              "    <div class=\"colab-df-buttons\">\n",
              "\n",
              "  <div class=\"colab-df-container\">\n",
              "    <button class=\"colab-df-convert\" onclick=\"convertToInteractive('df-2dad5d6f-ab78-4041-93af-e165a2790042')\"\n",
              "            title=\"Convert this dataframe to an interactive table.\"\n",
              "            style=\"display:none;\">\n",
              "\n",
              "  <svg xmlns=\"http://www.w3.org/2000/svg\" height=\"24px\" viewBox=\"0 -960 960 960\">\n",
              "    <path d=\"M120-120v-720h720v720H120Zm60-500h600v-160H180v160Zm220 220h160v-160H400v160Zm0 220h160v-160H400v160ZM180-400h160v-160H180v160Zm440 0h160v-160H620v160ZM180-180h160v-160H180v160Zm440 0h160v-160H620v160Z\"/>\n",
              "  </svg>\n",
              "    </button>\n",
              "\n",
              "  <style>\n",
              "    .colab-df-container {\n",
              "      display:flex;\n",
              "      gap: 12px;\n",
              "    }\n",
              "\n",
              "    .colab-df-convert {\n",
              "      background-color: #E8F0FE;\n",
              "      border: none;\n",
              "      border-radius: 50%;\n",
              "      cursor: pointer;\n",
              "      display: none;\n",
              "      fill: #1967D2;\n",
              "      height: 32px;\n",
              "      padding: 0 0 0 0;\n",
              "      width: 32px;\n",
              "    }\n",
              "\n",
              "    .colab-df-convert:hover {\n",
              "      background-color: #E2EBFA;\n",
              "      box-shadow: 0px 1px 2px rgba(60, 64, 67, 0.3), 0px 1px 3px 1px rgba(60, 64, 67, 0.15);\n",
              "      fill: #174EA6;\n",
              "    }\n",
              "\n",
              "    .colab-df-buttons div {\n",
              "      margin-bottom: 4px;\n",
              "    }\n",
              "\n",
              "    [theme=dark] .colab-df-convert {\n",
              "      background-color: #3B4455;\n",
              "      fill: #D2E3FC;\n",
              "    }\n",
              "\n",
              "    [theme=dark] .colab-df-convert:hover {\n",
              "      background-color: #434B5C;\n",
              "      box-shadow: 0px 1px 3px 1px rgba(0, 0, 0, 0.15);\n",
              "      filter: drop-shadow(0px 1px 2px rgba(0, 0, 0, 0.3));\n",
              "      fill: #FFFFFF;\n",
              "    }\n",
              "  </style>\n",
              "\n",
              "    <script>\n",
              "      const buttonEl =\n",
              "        document.querySelector('#df-2dad5d6f-ab78-4041-93af-e165a2790042 button.colab-df-convert');\n",
              "      buttonEl.style.display =\n",
              "        google.colab.kernel.accessAllowed ? 'block' : 'none';\n",
              "\n",
              "      async function convertToInteractive(key) {\n",
              "        const element = document.querySelector('#df-2dad5d6f-ab78-4041-93af-e165a2790042');\n",
              "        const dataTable =\n",
              "          await google.colab.kernel.invokeFunction('convertToInteractive',\n",
              "                                                    [key], {});\n",
              "        if (!dataTable) return;\n",
              "\n",
              "        const docLinkHtml = 'Like what you see? Visit the ' +\n",
              "          '<a target=\"_blank\" href=https://colab.research.google.com/notebooks/data_table.ipynb>data table notebook</a>'\n",
              "          + ' to learn more about interactive tables.';\n",
              "        element.innerHTML = '';\n",
              "        dataTable['output_type'] = 'display_data';\n",
              "        await google.colab.output.renderOutput(dataTable, element);\n",
              "        const docLink = document.createElement('div');\n",
              "        docLink.innerHTML = docLinkHtml;\n",
              "        element.appendChild(docLink);\n",
              "      }\n",
              "    </script>\n",
              "  </div>\n",
              "\n",
              "\n",
              "    <div id=\"df-f3251280-593c-4671-b6e5-785597c74ed7\">\n",
              "      <button class=\"colab-df-quickchart\" onclick=\"quickchart('df-f3251280-593c-4671-b6e5-785597c74ed7')\"\n",
              "                title=\"Suggest charts\"\n",
              "                style=\"display:none;\">\n",
              "\n",
              "<svg xmlns=\"http://www.w3.org/2000/svg\" height=\"24px\"viewBox=\"0 0 24 24\"\n",
              "     width=\"24px\">\n",
              "    <g>\n",
              "        <path d=\"M19 3H5c-1.1 0-2 .9-2 2v14c0 1.1.9 2 2 2h14c1.1 0 2-.9 2-2V5c0-1.1-.9-2-2-2zM9 17H7v-7h2v7zm4 0h-2V7h2v10zm4 0h-2v-4h2v4z\"/>\n",
              "    </g>\n",
              "</svg>\n",
              "      </button>\n",
              "\n",
              "<style>\n",
              "  .colab-df-quickchart {\n",
              "      --bg-color: #E8F0FE;\n",
              "      --fill-color: #1967D2;\n",
              "      --hover-bg-color: #E2EBFA;\n",
              "      --hover-fill-color: #174EA6;\n",
              "      --disabled-fill-color: #AAA;\n",
              "      --disabled-bg-color: #DDD;\n",
              "  }\n",
              "\n",
              "  [theme=dark] .colab-df-quickchart {\n",
              "      --bg-color: #3B4455;\n",
              "      --fill-color: #D2E3FC;\n",
              "      --hover-bg-color: #434B5C;\n",
              "      --hover-fill-color: #FFFFFF;\n",
              "      --disabled-bg-color: #3B4455;\n",
              "      --disabled-fill-color: #666;\n",
              "  }\n",
              "\n",
              "  .colab-df-quickchart {\n",
              "    background-color: var(--bg-color);\n",
              "    border: none;\n",
              "    border-radius: 50%;\n",
              "    cursor: pointer;\n",
              "    display: none;\n",
              "    fill: var(--fill-color);\n",
              "    height: 32px;\n",
              "    padding: 0;\n",
              "    width: 32px;\n",
              "  }\n",
              "\n",
              "  .colab-df-quickchart:hover {\n",
              "    background-color: var(--hover-bg-color);\n",
              "    box-shadow: 0 1px 2px rgba(60, 64, 67, 0.3), 0 1px 3px 1px rgba(60, 64, 67, 0.15);\n",
              "    fill: var(--button-hover-fill-color);\n",
              "  }\n",
              "\n",
              "  .colab-df-quickchart-complete:disabled,\n",
              "  .colab-df-quickchart-complete:disabled:hover {\n",
              "    background-color: var(--disabled-bg-color);\n",
              "    fill: var(--disabled-fill-color);\n",
              "    box-shadow: none;\n",
              "  }\n",
              "\n",
              "  .colab-df-spinner {\n",
              "    border: 2px solid var(--fill-color);\n",
              "    border-color: transparent;\n",
              "    border-bottom-color: var(--fill-color);\n",
              "    animation:\n",
              "      spin 1s steps(1) infinite;\n",
              "  }\n",
              "\n",
              "  @keyframes spin {\n",
              "    0% {\n",
              "      border-color: transparent;\n",
              "      border-bottom-color: var(--fill-color);\n",
              "      border-left-color: var(--fill-color);\n",
              "    }\n",
              "    20% {\n",
              "      border-color: transparent;\n",
              "      border-left-color: var(--fill-color);\n",
              "      border-top-color: var(--fill-color);\n",
              "    }\n",
              "    30% {\n",
              "      border-color: transparent;\n",
              "      border-left-color: var(--fill-color);\n",
              "      border-top-color: var(--fill-color);\n",
              "      border-right-color: var(--fill-color);\n",
              "    }\n",
              "    40% {\n",
              "      border-color: transparent;\n",
              "      border-right-color: var(--fill-color);\n",
              "      border-top-color: var(--fill-color);\n",
              "    }\n",
              "    60% {\n",
              "      border-color: transparent;\n",
              "      border-right-color: var(--fill-color);\n",
              "    }\n",
              "    80% {\n",
              "      border-color: transparent;\n",
              "      border-right-color: var(--fill-color);\n",
              "      border-bottom-color: var(--fill-color);\n",
              "    }\n",
              "    90% {\n",
              "      border-color: transparent;\n",
              "      border-bottom-color: var(--fill-color);\n",
              "    }\n",
              "  }\n",
              "</style>\n",
              "\n",
              "      <script>\n",
              "        async function quickchart(key) {\n",
              "          const quickchartButtonEl =\n",
              "            document.querySelector('#' + key + ' button');\n",
              "          quickchartButtonEl.disabled = true;  // To prevent multiple clicks.\n",
              "          quickchartButtonEl.classList.add('colab-df-spinner');\n",
              "          try {\n",
              "            const charts = await google.colab.kernel.invokeFunction(\n",
              "                'suggestCharts', [key], {});\n",
              "          } catch (error) {\n",
              "            console.error('Error during call to suggestCharts:', error);\n",
              "          }\n",
              "          quickchartButtonEl.classList.remove('colab-df-spinner');\n",
              "          quickchartButtonEl.classList.add('colab-df-quickchart-complete');\n",
              "        }\n",
              "        (() => {\n",
              "          let quickchartButtonEl =\n",
              "            document.querySelector('#df-f3251280-593c-4671-b6e5-785597c74ed7 button');\n",
              "          quickchartButtonEl.style.display =\n",
              "            google.colab.kernel.accessAllowed ? 'block' : 'none';\n",
              "        })();\n",
              "      </script>\n",
              "    </div>\n",
              "\n",
              "    </div>\n",
              "  </div>\n"
            ],
            "application/vnd.google.colaboratory.intrinsic+json": {
              "type": "dataframe",
              "summary": "{\n  \"name\": \"train_data[['cleaned_text', 'tokens']]\",\n  \"rows\": 5,\n  \"fields\": [\n    {\n      \"column\": \"cleaned_text\",\n      \"properties\": {\n        \"dtype\": \"string\",\n        \"num_unique_values\": 5,\n        \"samples\": [\n          \"ccl rcl nomura points to bookings weakness at carnival and royal caribbean\",\n          \"fnko funko slides after piper jaffray pt cut\",\n          \"cx cemex cut at credit suisse jp morgan on weak building outlook\"\n        ],\n        \"semantic_type\": \"\",\n        \"description\": \"\"\n      }\n    },\n    {\n      \"column\": \"tokens\",\n      \"properties\": {\n        \"dtype\": \"object\",\n        \"semantic_type\": \"\",\n        \"description\": \"\"\n      }\n    }\n  ]\n}"
            }
          },
          "metadata": {},
          "execution_count": 8
        }
      ]
    },
    {
      "cell_type": "markdown",
      "source": [
        "Stop word removal"
      ],
      "metadata": {
        "id": "kw3YhOylhBTr"
      },
      "id": "kw3YhOylhBTr"
    },
    {
      "cell_type": "code",
      "source": [
        "# #Define stopword removal function\n",
        "# def remove_stopwords(text, stop_words=None):\n",
        "#     \"\"\"Remove stopwords from text\"\"\"\n",
        "#     if stop_words is None:\n",
        "#         stop_words = set(stopwords.words('english'))\n",
        "\n",
        "#     # Use simple split instead of word_tokenize\n",
        "#     word_tokens = text.split()\n",
        "#     filtered_text = [word for word in word_tokens if word.lower() not in stop_words]\n",
        "#     return ' '.join(filtered_text)"
      ],
      "metadata": {
        "id": "iMiu_wS3YD5x"
      },
      "id": "iMiu_wS3YD5x",
      "execution_count": null,
      "outputs": []
    },
    {
      "cell_type": "code",
      "source": [
        "# # Apply stopword removal\n",
        "# print(\"Removing stopwords...\")\n",
        "# train_data['text_no_stopwords'] = train_data['cleaned_text'].apply(remove_stopwords)\n"
      ],
      "metadata": {
        "id": "L8-Liow1bwXT"
      },
      "id": "L8-Liow1bwXT",
      "execution_count": null,
      "outputs": []
    },
    {
      "cell_type": "code",
      "source": [
        "# Define stopword removal function for token lists\n",
        "def remove_stopwords_from_tokens(tokens, stop_words=None):\n",
        "    \"\"\"Remove stopwords from a list of tokens\"\"\"\n",
        "    if stop_words is None:\n",
        "        stop_words = set(stopwords.words('english'))\n",
        "\n",
        "    return [word for word in tokens if word.lower() not in stop_words]\n",
        "\n",
        "# Apply to tokenized column\n",
        "print(\"Removing stopwords...\")\n",
        "train_data['filtered_tokens'] = train_data['tokens'].apply(remove_stopwords_from_tokens)"
      ],
      "metadata": {
        "colab": {
          "base_uri": "https://localhost:8080/"
        },
        "id": "K3ukVRU6h0bh",
        "outputId": "cd13cd25-a83d-402f-eda1-9d3b7447e85d"
      },
      "id": "K3ukVRU6h0bh",
      "execution_count": 9,
      "outputs": [
        {
          "output_type": "stream",
          "name": "stdout",
          "text": [
            "Removing stopwords...\n"
          ]
        }
      ]
    },
    {
      "cell_type": "markdown",
      "source": [
        "### Wether we use Stemming or Lemmatization, it matters:\n",
        "Yes, order matters — and here’s the correct order to follow:\n",
        "\n",
        "Text cleaning (✅ you've done this already)\n",
        "\n",
        "Stopword removal\n",
        "\n",
        "(EITHER) Lemmatization OR Stemming ← choose one\n",
        "\n",
        "You're currently doing both — that’s fine for testing, but for your final model, you should pick:\n",
        "\n",
        "Lemmatization if you're using ML with semantic features (TF-IDF, embeddings)\n",
        "\n",
        "Stemming if you’re doing simpler, brute-force BoW models"
      ],
      "metadata": {
        "id": "2V01Vvfrdznd"
      },
      "id": "2V01Vvfrdznd"
    },
    {
      "cell_type": "markdown",
      "source": [
        "Lemmatization"
      ],
      "metadata": {
        "id": "Dlmnq-dIiGic"
      },
      "id": "Dlmnq-dIiGic"
    },
    {
      "cell_type": "code",
      "source": [
        "# # Define lemmatization function\n",
        "# def lemmatize_text(text):\n",
        "#     \"\"\"Apply lemmatization to text\"\"\"\n",
        "#     lemmatizer = WordNetLemmatizer()\n",
        "#     # Use simple split instead of word_tokenize\n",
        "#     word_tokens = text.split()\n",
        "#     lemmatized_text = [lemmatizer.lemmatize(word) for word in word_tokens]\n",
        "#     return ' '.join(lemmatized_text)"
      ],
      "metadata": {
        "id": "cmqsGXmlYIcc"
      },
      "id": "cmqsGXmlYIcc",
      "execution_count": null,
      "outputs": []
    },
    {
      "cell_type": "code",
      "source": [
        "# # Apply lemmatization\n",
        "# print(\"Applying lemmatization...\")\n",
        "# train_data['lemmatized_text'] = train_data['text_no_stopwords'].apply(lemmatize_text)\n",
        "# print(\"Preprocessing complete.\")"
      ],
      "metadata": {
        "id": "-mGbKvbjb9jI"
      },
      "id": "-mGbKvbjb9jI",
      "execution_count": null,
      "outputs": []
    },
    {
      "cell_type": "code",
      "source": [
        "# Define lemmatization function for token lists\n",
        "def lemmatize_tokens(tokens):\n",
        "    \"\"\"Lemmatize a list of tokens\"\"\"\n",
        "    lemmatizer = WordNetLemmatizer()\n",
        "    return [lemmatizer.lemmatize(word) for word in tokens]\n",
        "\n",
        "# Apply to filtered tokens\n",
        "print(\"Applying lemmatization...\")\n",
        "train_data['lemmatized_tokens'] = train_data['filtered_tokens'].apply(lemmatize_tokens)\n",
        "print(\"Preprocessing complete.\")"
      ],
      "metadata": {
        "colab": {
          "base_uri": "https://localhost:8080/"
        },
        "id": "B0uMO5GJiWbt",
        "outputId": "7ad73d86-61fe-4b5d-def4-8098b6b8cdc9"
      },
      "id": "B0uMO5GJiWbt",
      "execution_count": 10,
      "outputs": [
        {
          "output_type": "stream",
          "name": "stdout",
          "text": [
            "Applying lemmatization...\n",
            "Preprocessing complete.\n"
          ]
        }
      ]
    },
    {
      "cell_type": "markdown",
      "source": [
        "Stemming"
      ],
      "metadata": {
        "id": "LMxoGtMxiIP-"
      },
      "id": "LMxoGtMxiIP-"
    },
    {
      "cell_type": "code",
      "source": [
        "# # Define stemming function\n",
        "# def stem_text(text):\n",
        "#     \"\"\"Apply stemming to text\"\"\"\n",
        "#     stemmer = SnowballStemmer('english')\n",
        "#     # Use simple split instead of word_tokenize\n",
        "#     word_tokens = text.split()\n",
        "#     stemmed_text = [stemmer.stem(word) for word in word_tokens]\n",
        "#     return ' '.join(stemmed_text)"
      ],
      "metadata": {
        "id": "sZBl88XiYGz_"
      },
      "id": "sZBl88XiYGz_",
      "execution_count": null,
      "outputs": []
    },
    {
      "cell_type": "code",
      "source": [
        "# # Apply stemming\n",
        "# print(\"Applying stemming...\")\n",
        "# train_data['stemmed_text'] = train_data['text_no_stopwords'].apply(stem_text)\n"
      ],
      "metadata": {
        "id": "vz29QpdFb4S1"
      },
      "id": "vz29QpdFb4S1",
      "execution_count": null,
      "outputs": []
    },
    {
      "cell_type": "code",
      "source": [
        "# Define stemming function for token lists\n",
        "def stem_tokens(tokens):\n",
        "    \"\"\"Apply stemming to a list of tokens\"\"\"\n",
        "    stemmer = SnowballStemmer('english')\n",
        "    return [stemmer.stem(word) for word in tokens]\n",
        "\n",
        "# Apply to filtered tokens\n",
        "print(\"Applying stemming...\")\n",
        "train_data['stemmed_tokens'] = train_data['filtered_tokens'].apply(stem_tokens)"
      ],
      "metadata": {
        "colab": {
          "base_uri": "https://localhost:8080/"
        },
        "id": "fF217T4bipab",
        "outputId": "9a587d89-081a-4f3b-e2cf-1960575c8c9c"
      },
      "id": "fF217T4bipab",
      "execution_count": 11,
      "outputs": [
        {
          "output_type": "stream",
          "name": "stdout",
          "text": [
            "Applying stemming...\n"
          ]
        }
      ]
    },
    {
      "cell_type": "code",
      "source": [],
      "metadata": {
        "id": "I3gzxkKZjAaB"
      },
      "id": "I3gzxkKZjAaB",
      "execution_count": null,
      "outputs": []
    },
    {
      "cell_type": "markdown",
      "source": [
        "### Sanity check/pre-processing check"
      ],
      "metadata": {
        "id": "cpxgGtbEkTod"
      },
      "id": "cpxgGtbEkTod"
    },
    {
      "cell_type": "code",
      "source": [
        "# sample_indices = random.sample(range(len(train_data)), 3)\n",
        "# for idx in sample_indices:\n",
        "#     print(f\"Original: {train_data.loc[idx, 'text']}\")\n",
        "#     print(f\"Cleaned: {train_data.loc[idx, 'cleaned_text']}\")\n",
        "#     print(f\"No Stopwords: {train_data.loc[idx, 'text_no_stopwords']}\")\n",
        "#     print(f\"Stemmed: {train_data.loc[idx, 'stemmed_text']}\")\n",
        "#     print(f\"Lemmatized: {train_data.loc[idx, 'lemmatized_text']}\")\n",
        "#     print(\"-\" * 100)\n"
      ],
      "metadata": {
        "id": "wsrgEh5oYRIi"
      },
      "id": "wsrgEh5oYRIi",
      "execution_count": null,
      "outputs": []
    },
    {
      "cell_type": "code",
      "source": [
        "# Sample 3 random rows\n",
        "sample_indices = random.sample(range(len(train_data)), 3)\n",
        "\n",
        "# Print transformations for each sampled row\n",
        "for idx in sample_indices:\n",
        "    print(f\"Original: {train_data.loc[idx, 'text']}\")\n",
        "    print(f\"Cleaned: {train_data.loc[idx, 'cleaned_text']}\")\n",
        "    print(f\"Tokens: {train_data.loc[idx, 'tokens']}\")\n",
        "    print(f\"No Stopwords (filtered_tokens): {train_data.loc[idx, 'filtered_tokens']}\")\n",
        "    print(f\"Stemmed: {train_data.loc[idx, 'stemmed_tokens']}\")\n",
        "    print(f\"Lemmatized: {train_data.loc[idx, 'lemmatized_tokens']}\")\n",
        "    print(\"_\" * 100)"
      ],
      "metadata": {
        "colab": {
          "base_uri": "https://localhost:8080/"
        },
        "id": "v2yZo0wAmoMO",
        "outputId": "4612fd2d-7491-4c7c-9825-62e5aab2e557"
      },
      "id": "v2yZo0wAmoMO",
      "execution_count": 12,
      "outputs": [
        {
          "output_type": "stream",
          "name": "stdout",
          "text": [
            "Original: Report: FreightCar America Closing Roanoke Plant\n",
            "Cleaned: report freightcar america closing roanoke plant\n",
            "Tokens: ['report', 'freightcar', 'america', 'closing', 'roanoke', 'plant']\n",
            "No Stopwords (filtered_tokens): ['report', 'freightcar', 'america', 'closing', 'roanoke', 'plant']\n",
            "Stemmed: ['report', 'freightcar', 'america', 'close', 'roanok', 'plant']\n",
            "Lemmatized: ['report', 'freightcar', 'america', 'closing', 'roanoke', 'plant']\n",
            "____________________________________________________________________________________________________\n",
            "Original: Former Fed chief Bernanke sees bad year, no quick recovery #economy #MarketScreener https://t.co/YaN7qVv5aq https://t.co/zn3oEbjuL7\n",
            "Cleaned: former fed chief bernanke sees bad year no quick recovery economy marketscreener\n",
            "Tokens: ['former', 'fed', 'chief', 'bernanke', 'sees', 'bad', 'year', 'no', 'quick', 'recovery', 'economy', 'marketscreener']\n",
            "No Stopwords (filtered_tokens): ['former', 'fed', 'chief', 'bernanke', 'sees', 'bad', 'year', 'quick', 'recovery', 'economy', 'marketscreener']\n",
            "Stemmed: ['former', 'fed', 'chief', 'bernank', 'see', 'bad', 'year', 'quick', 'recoveri', 'economi', 'marketscreen']\n",
            "Lemmatized: ['former', 'fed', 'chief', 'bernanke', 'see', 'bad', 'year', 'quick', 'recovery', 'economy', 'marketscreener']\n",
            "____________________________________________________________________________________________________\n",
            "Original: Going cashless may be convenient for some people, but for others, it makes businesses inaccessible.… https://t.co/HvFfdRDt7f\n",
            "Cleaned: going cashless may be convenient for some people but for others it makes businesses inaccessible\n",
            "Tokens: ['going', 'cashless', 'may', 'be', 'convenient', 'for', 'some', 'people', 'but', 'for', 'others', 'it', 'makes', 'businesses', 'inaccessible']\n",
            "No Stopwords (filtered_tokens): ['going', 'cashless', 'may', 'convenient', 'people', 'others', 'makes', 'businesses', 'inaccessible']\n",
            "Stemmed: ['go', 'cashless', 'may', 'conveni', 'peopl', 'other', 'make', 'busi', 'inaccess']\n",
            "Lemmatized: ['going', 'cashless', 'may', 'convenient', 'people', 'others', 'make', 'business', 'inaccessible']\n",
            "____________________________________________________________________________________________________\n"
          ]
        }
      ]
    },
    {
      "cell_type": "markdown",
      "source": [
        "Uni,Bi & Tri-gram check"
      ],
      "metadata": {
        "id": "dxSjHuu2kbUz"
      },
      "id": "dxSjHuu2kbUz"
    },
    {
      "cell_type": "code",
      "source": [
        "# def get_top_ngrams_by_label(data, text_col='lemmatized_text', label_col='label', ngram_range=(1,3), top_n=10):\n",
        "#     \"\"\"\n",
        "#     Get top n-grams (1–3 by default) with counts per sentiment label.\n",
        "#     Returns a DataFrame with columns: Bearish (0), Bullish (1), Neutral (2)\n",
        "#     \"\"\"\n",
        "#     top_ngrams = {}\n",
        "\n",
        "#     for sentiment in sorted(data[label_col].unique()):\n",
        "#         subset = data[data[label_col] == sentiment][text_col]\n",
        "#         vectorizer = CountVectorizer(ngram_range=ngram_range)\n",
        "#         X = vectorizer.fit_transform(subset)\n",
        "\n",
        "#         sum_words = X.sum(axis=0)\n",
        "#         word_freq = [(word, sum_words[0, idx]) for word, idx in vectorizer.vocabulary_.items()]\n",
        "#         word_freq = sorted(word_freq, key=lambda x: x[1], reverse=True)[:top_n]\n",
        "\n",
        "#         top_ngrams[sentiment] = [f\"{phrase} ({count})\" for phrase, count in word_freq]\n",
        "\n",
        "#     df_top = pd.DataFrame(top_ngrams)\n",
        "#     df_top.columns = ['Bearish (0)', 'Bullish (1)', 'Neutral (2)']\n",
        "#     return df_top\n",
        "\n",
        "# top_ngrams_post_preprocessing = get_top_ngrams_by_label(train_data, text_col='lemmatized_text', ngram_range=(1, 3), top_n=15)\n",
        "# display(top_ngrams_post_preprocessing)"
      ],
      "metadata": {
        "id": "2V4_vn4Dkx8P"
      },
      "id": "2V4_vn4Dkx8P",
      "execution_count": null,
      "outputs": []
    },
    {
      "cell_type": "code",
      "source": [
        "def get_top_ngrams_by_label(data, token_col, label_col='label', ngram_range=(1, 3), top_n=10):\n",
        "    \"\"\"\n",
        "    Get the top n-grams per sentiment label from a token-based column.\n",
        "\n",
        "    Parameters:\n",
        "    - data: pd.DataFrame\n",
        "    - token_col: str, name of column containing list of tokens (e.g., 'lemmatized_tokens', 'stemmed_tokens')\n",
        "    - label_col: str, name of sentiment column (default: 'label')\n",
        "    - ngram_range: tuple, e.g., (1, 3) for unigrams + bigrams + trigrams\n",
        "    - top_n: int, number of top phrases to show per class\n",
        "\n",
        "    Returns:\n",
        "    - DataFrame with top n-grams per sentiment (columns: label names)\n",
        "    \"\"\"\n",
        "    top_ngrams = {}\n",
        "\n",
        "    for label in sorted(data[label_col].unique()):\n",
        "        # Join token lists into text per row\n",
        "        subset_tokens = data[data[label_col] == label][token_col]\n",
        "        subset_texts = subset_tokens.apply(lambda tokens: ' '.join(tokens))\n",
        "\n",
        "        # Create vectorizer and count frequencies\n",
        "        vectorizer = CountVectorizer(ngram_range=ngram_range, stop_words='english')\n",
        "        X = vectorizer.fit_transform(subset_texts)\n",
        "\n",
        "        sum_words = X.sum(axis=0)\n",
        "        word_freq = [(word, int(sum_words[0, idx])) for word, idx in vectorizer.vocabulary_.items()]\n",
        "        word_freq = sorted(word_freq, key=lambda x: x[1], reverse=True)[:top_n]\n",
        "\n",
        "        top_ngrams[label] = [f\"{word} ({count})\" for word, count in word_freq]\n",
        "\n",
        "    # Optional: Rename columns to human-readable labels\n",
        "    label_names = {0: 'Bearish (0)', 1: 'Bullish (1)', 2: 'Neutral (2)'}\n",
        "    df_top = pd.DataFrame(top_ngrams)\n",
        "    df_top.rename(columns=label_names, inplace=True)\n",
        "\n",
        "    return df_top"
      ],
      "metadata": {
        "id": "VtaHL0a5n8Aa"
      },
      "id": "VtaHL0a5n8Aa",
      "execution_count": 13,
      "outputs": []
    },
    {
      "cell_type": "markdown",
      "source": [
        "Example usage with lemmatized_tokens"
      ],
      "metadata": {
        "id": "_iPjHUuyonLz"
      },
      "id": "_iPjHUuyonLz"
    },
    {
      "cell_type": "code",
      "source": [
        "top_ngrams_post = get_top_ngrams_by_label(\n",
        "    train_data,\n",
        "    token_col='lemmatized_tokens',  # you can also pass 'stemmed_tokens'\n",
        "    ngram_range=(1, 3),\n",
        "    top_n=15\n",
        ")\n",
        "\n",
        "display(top_ngrams_post)"
      ],
      "metadata": {
        "colab": {
          "base_uri": "https://localhost:8080/",
          "height": 520
        },
        "id": "sS7w4U8an_IO",
        "outputId": "0ab33ee6-07be-4ea7-e442-353f8e90bc84"
      },
      "id": "sS7w4U8an_IO",
      "execution_count": 14,
      "outputs": [
        {
          "output_type": "display_data",
          "data": {
            "text/plain": [
              "         Bearish (0)              Bullish (1)                 Neutral (2)\n",
              "0        stock (211)              stock (369)                 stock (742)\n",
              "1         miss (105)               beat (194)        marketscreener (375)\n",
              "2        market (98)             market (166)                result (320)\n",
              "3           cut (97)              price (156)                report (299)\n",
              "4         price (93)              share (144)                   new (285)\n",
              "5           oil (80)             target (122)  stock marketscreener (282)\n",
              "6   coronavirus (79)            revenue (110)                market (274)\n",
              "7         share (78)       price target (106)                   say (269)\n",
              "8         china (77)                 new (97)              earnings (256)\n",
              "9       economy (68)                 eps (92)                  2019 (245)\n",
              "10         fall (57)               trade (81)              dividend (232)\n",
              "11          say (56)              raised (78)                  2020 (206)\n",
              "12      revenue (55)                high (78)               economy (191)\n",
              "13         sale (54)         stock price (77)                  fund (182)\n",
              "14       target (52)  stock price target (76)              declares (182)"
            ],
            "text/html": [
              "\n",
              "  <div id=\"df-ecb2c989-4381-451e-8065-f578db344eeb\" class=\"colab-df-container\">\n",
              "    <div>\n",
              "<style scoped>\n",
              "    .dataframe tbody tr th:only-of-type {\n",
              "        vertical-align: middle;\n",
              "    }\n",
              "\n",
              "    .dataframe tbody tr th {\n",
              "        vertical-align: top;\n",
              "    }\n",
              "\n",
              "    .dataframe thead th {\n",
              "        text-align: right;\n",
              "    }\n",
              "</style>\n",
              "<table border=\"1\" class=\"dataframe\">\n",
              "  <thead>\n",
              "    <tr style=\"text-align: right;\">\n",
              "      <th></th>\n",
              "      <th>Bearish (0)</th>\n",
              "      <th>Bullish (1)</th>\n",
              "      <th>Neutral (2)</th>\n",
              "    </tr>\n",
              "  </thead>\n",
              "  <tbody>\n",
              "    <tr>\n",
              "      <th>0</th>\n",
              "      <td>stock (211)</td>\n",
              "      <td>stock (369)</td>\n",
              "      <td>stock (742)</td>\n",
              "    </tr>\n",
              "    <tr>\n",
              "      <th>1</th>\n",
              "      <td>miss (105)</td>\n",
              "      <td>beat (194)</td>\n",
              "      <td>marketscreener (375)</td>\n",
              "    </tr>\n",
              "    <tr>\n",
              "      <th>2</th>\n",
              "      <td>market (98)</td>\n",
              "      <td>market (166)</td>\n",
              "      <td>result (320)</td>\n",
              "    </tr>\n",
              "    <tr>\n",
              "      <th>3</th>\n",
              "      <td>cut (97)</td>\n",
              "      <td>price (156)</td>\n",
              "      <td>report (299)</td>\n",
              "    </tr>\n",
              "    <tr>\n",
              "      <th>4</th>\n",
              "      <td>price (93)</td>\n",
              "      <td>share (144)</td>\n",
              "      <td>new (285)</td>\n",
              "    </tr>\n",
              "    <tr>\n",
              "      <th>5</th>\n",
              "      <td>oil (80)</td>\n",
              "      <td>target (122)</td>\n",
              "      <td>stock marketscreener (282)</td>\n",
              "    </tr>\n",
              "    <tr>\n",
              "      <th>6</th>\n",
              "      <td>coronavirus (79)</td>\n",
              "      <td>revenue (110)</td>\n",
              "      <td>market (274)</td>\n",
              "    </tr>\n",
              "    <tr>\n",
              "      <th>7</th>\n",
              "      <td>share (78)</td>\n",
              "      <td>price target (106)</td>\n",
              "      <td>say (269)</td>\n",
              "    </tr>\n",
              "    <tr>\n",
              "      <th>8</th>\n",
              "      <td>china (77)</td>\n",
              "      <td>new (97)</td>\n",
              "      <td>earnings (256)</td>\n",
              "    </tr>\n",
              "    <tr>\n",
              "      <th>9</th>\n",
              "      <td>economy (68)</td>\n",
              "      <td>eps (92)</td>\n",
              "      <td>2019 (245)</td>\n",
              "    </tr>\n",
              "    <tr>\n",
              "      <th>10</th>\n",
              "      <td>fall (57)</td>\n",
              "      <td>trade (81)</td>\n",
              "      <td>dividend (232)</td>\n",
              "    </tr>\n",
              "    <tr>\n",
              "      <th>11</th>\n",
              "      <td>say (56)</td>\n",
              "      <td>raised (78)</td>\n",
              "      <td>2020 (206)</td>\n",
              "    </tr>\n",
              "    <tr>\n",
              "      <th>12</th>\n",
              "      <td>revenue (55)</td>\n",
              "      <td>high (78)</td>\n",
              "      <td>economy (191)</td>\n",
              "    </tr>\n",
              "    <tr>\n",
              "      <th>13</th>\n",
              "      <td>sale (54)</td>\n",
              "      <td>stock price (77)</td>\n",
              "      <td>fund (182)</td>\n",
              "    </tr>\n",
              "    <tr>\n",
              "      <th>14</th>\n",
              "      <td>target (52)</td>\n",
              "      <td>stock price target (76)</td>\n",
              "      <td>declares (182)</td>\n",
              "    </tr>\n",
              "  </tbody>\n",
              "</table>\n",
              "</div>\n",
              "    <div class=\"colab-df-buttons\">\n",
              "\n",
              "  <div class=\"colab-df-container\">\n",
              "    <button class=\"colab-df-convert\" onclick=\"convertToInteractive('df-ecb2c989-4381-451e-8065-f578db344eeb')\"\n",
              "            title=\"Convert this dataframe to an interactive table.\"\n",
              "            style=\"display:none;\">\n",
              "\n",
              "  <svg xmlns=\"http://www.w3.org/2000/svg\" height=\"24px\" viewBox=\"0 -960 960 960\">\n",
              "    <path d=\"M120-120v-720h720v720H120Zm60-500h600v-160H180v160Zm220 220h160v-160H400v160Zm0 220h160v-160H400v160ZM180-400h160v-160H180v160Zm440 0h160v-160H620v160ZM180-180h160v-160H180v160Zm440 0h160v-160H620v160Z\"/>\n",
              "  </svg>\n",
              "    </button>\n",
              "\n",
              "  <style>\n",
              "    .colab-df-container {\n",
              "      display:flex;\n",
              "      gap: 12px;\n",
              "    }\n",
              "\n",
              "    .colab-df-convert {\n",
              "      background-color: #E8F0FE;\n",
              "      border: none;\n",
              "      border-radius: 50%;\n",
              "      cursor: pointer;\n",
              "      display: none;\n",
              "      fill: #1967D2;\n",
              "      height: 32px;\n",
              "      padding: 0 0 0 0;\n",
              "      width: 32px;\n",
              "    }\n",
              "\n",
              "    .colab-df-convert:hover {\n",
              "      background-color: #E2EBFA;\n",
              "      box-shadow: 0px 1px 2px rgba(60, 64, 67, 0.3), 0px 1px 3px 1px rgba(60, 64, 67, 0.15);\n",
              "      fill: #174EA6;\n",
              "    }\n",
              "\n",
              "    .colab-df-buttons div {\n",
              "      margin-bottom: 4px;\n",
              "    }\n",
              "\n",
              "    [theme=dark] .colab-df-convert {\n",
              "      background-color: #3B4455;\n",
              "      fill: #D2E3FC;\n",
              "    }\n",
              "\n",
              "    [theme=dark] .colab-df-convert:hover {\n",
              "      background-color: #434B5C;\n",
              "      box-shadow: 0px 1px 3px 1px rgba(0, 0, 0, 0.15);\n",
              "      filter: drop-shadow(0px 1px 2px rgba(0, 0, 0, 0.3));\n",
              "      fill: #FFFFFF;\n",
              "    }\n",
              "  </style>\n",
              "\n",
              "    <script>\n",
              "      const buttonEl =\n",
              "        document.querySelector('#df-ecb2c989-4381-451e-8065-f578db344eeb button.colab-df-convert');\n",
              "      buttonEl.style.display =\n",
              "        google.colab.kernel.accessAllowed ? 'block' : 'none';\n",
              "\n",
              "      async function convertToInteractive(key) {\n",
              "        const element = document.querySelector('#df-ecb2c989-4381-451e-8065-f578db344eeb');\n",
              "        const dataTable =\n",
              "          await google.colab.kernel.invokeFunction('convertToInteractive',\n",
              "                                                    [key], {});\n",
              "        if (!dataTable) return;\n",
              "\n",
              "        const docLinkHtml = 'Like what you see? Visit the ' +\n",
              "          '<a target=\"_blank\" href=https://colab.research.google.com/notebooks/data_table.ipynb>data table notebook</a>'\n",
              "          + ' to learn more about interactive tables.';\n",
              "        element.innerHTML = '';\n",
              "        dataTable['output_type'] = 'display_data';\n",
              "        await google.colab.output.renderOutput(dataTable, element);\n",
              "        const docLink = document.createElement('div');\n",
              "        docLink.innerHTML = docLinkHtml;\n",
              "        element.appendChild(docLink);\n",
              "      }\n",
              "    </script>\n",
              "  </div>\n",
              "\n",
              "\n",
              "    <div id=\"df-56d1e024-691a-473b-ba1d-1d308ec0b8c8\">\n",
              "      <button class=\"colab-df-quickchart\" onclick=\"quickchart('df-56d1e024-691a-473b-ba1d-1d308ec0b8c8')\"\n",
              "                title=\"Suggest charts\"\n",
              "                style=\"display:none;\">\n",
              "\n",
              "<svg xmlns=\"http://www.w3.org/2000/svg\" height=\"24px\"viewBox=\"0 0 24 24\"\n",
              "     width=\"24px\">\n",
              "    <g>\n",
              "        <path d=\"M19 3H5c-1.1 0-2 .9-2 2v14c0 1.1.9 2 2 2h14c1.1 0 2-.9 2-2V5c0-1.1-.9-2-2-2zM9 17H7v-7h2v7zm4 0h-2V7h2v10zm4 0h-2v-4h2v4z\"/>\n",
              "    </g>\n",
              "</svg>\n",
              "      </button>\n",
              "\n",
              "<style>\n",
              "  .colab-df-quickchart {\n",
              "      --bg-color: #E8F0FE;\n",
              "      --fill-color: #1967D2;\n",
              "      --hover-bg-color: #E2EBFA;\n",
              "      --hover-fill-color: #174EA6;\n",
              "      --disabled-fill-color: #AAA;\n",
              "      --disabled-bg-color: #DDD;\n",
              "  }\n",
              "\n",
              "  [theme=dark] .colab-df-quickchart {\n",
              "      --bg-color: #3B4455;\n",
              "      --fill-color: #D2E3FC;\n",
              "      --hover-bg-color: #434B5C;\n",
              "      --hover-fill-color: #FFFFFF;\n",
              "      --disabled-bg-color: #3B4455;\n",
              "      --disabled-fill-color: #666;\n",
              "  }\n",
              "\n",
              "  .colab-df-quickchart {\n",
              "    background-color: var(--bg-color);\n",
              "    border: none;\n",
              "    border-radius: 50%;\n",
              "    cursor: pointer;\n",
              "    display: none;\n",
              "    fill: var(--fill-color);\n",
              "    height: 32px;\n",
              "    padding: 0;\n",
              "    width: 32px;\n",
              "  }\n",
              "\n",
              "  .colab-df-quickchart:hover {\n",
              "    background-color: var(--hover-bg-color);\n",
              "    box-shadow: 0 1px 2px rgba(60, 64, 67, 0.3), 0 1px 3px 1px rgba(60, 64, 67, 0.15);\n",
              "    fill: var(--button-hover-fill-color);\n",
              "  }\n",
              "\n",
              "  .colab-df-quickchart-complete:disabled,\n",
              "  .colab-df-quickchart-complete:disabled:hover {\n",
              "    background-color: var(--disabled-bg-color);\n",
              "    fill: var(--disabled-fill-color);\n",
              "    box-shadow: none;\n",
              "  }\n",
              "\n",
              "  .colab-df-spinner {\n",
              "    border: 2px solid var(--fill-color);\n",
              "    border-color: transparent;\n",
              "    border-bottom-color: var(--fill-color);\n",
              "    animation:\n",
              "      spin 1s steps(1) infinite;\n",
              "  }\n",
              "\n",
              "  @keyframes spin {\n",
              "    0% {\n",
              "      border-color: transparent;\n",
              "      border-bottom-color: var(--fill-color);\n",
              "      border-left-color: var(--fill-color);\n",
              "    }\n",
              "    20% {\n",
              "      border-color: transparent;\n",
              "      border-left-color: var(--fill-color);\n",
              "      border-top-color: var(--fill-color);\n",
              "    }\n",
              "    30% {\n",
              "      border-color: transparent;\n",
              "      border-left-color: var(--fill-color);\n",
              "      border-top-color: var(--fill-color);\n",
              "      border-right-color: var(--fill-color);\n",
              "    }\n",
              "    40% {\n",
              "      border-color: transparent;\n",
              "      border-right-color: var(--fill-color);\n",
              "      border-top-color: var(--fill-color);\n",
              "    }\n",
              "    60% {\n",
              "      border-color: transparent;\n",
              "      border-right-color: var(--fill-color);\n",
              "    }\n",
              "    80% {\n",
              "      border-color: transparent;\n",
              "      border-right-color: var(--fill-color);\n",
              "      border-bottom-color: var(--fill-color);\n",
              "    }\n",
              "    90% {\n",
              "      border-color: transparent;\n",
              "      border-bottom-color: var(--fill-color);\n",
              "    }\n",
              "  }\n",
              "</style>\n",
              "\n",
              "      <script>\n",
              "        async function quickchart(key) {\n",
              "          const quickchartButtonEl =\n",
              "            document.querySelector('#' + key + ' button');\n",
              "          quickchartButtonEl.disabled = true;  // To prevent multiple clicks.\n",
              "          quickchartButtonEl.classList.add('colab-df-spinner');\n",
              "          try {\n",
              "            const charts = await google.colab.kernel.invokeFunction(\n",
              "                'suggestCharts', [key], {});\n",
              "          } catch (error) {\n",
              "            console.error('Error during call to suggestCharts:', error);\n",
              "          }\n",
              "          quickchartButtonEl.classList.remove('colab-df-spinner');\n",
              "          quickchartButtonEl.classList.add('colab-df-quickchart-complete');\n",
              "        }\n",
              "        (() => {\n",
              "          let quickchartButtonEl =\n",
              "            document.querySelector('#df-56d1e024-691a-473b-ba1d-1d308ec0b8c8 button');\n",
              "          quickchartButtonEl.style.display =\n",
              "            google.colab.kernel.accessAllowed ? 'block' : 'none';\n",
              "        })();\n",
              "      </script>\n",
              "    </div>\n",
              "\n",
              "  <div id=\"id_1df644aa-f8ca-4485-84f5-658e35151733\">\n",
              "    <style>\n",
              "      .colab-df-generate {\n",
              "        background-color: #E8F0FE;\n",
              "        border: none;\n",
              "        border-radius: 50%;\n",
              "        cursor: pointer;\n",
              "        display: none;\n",
              "        fill: #1967D2;\n",
              "        height: 32px;\n",
              "        padding: 0 0 0 0;\n",
              "        width: 32px;\n",
              "      }\n",
              "\n",
              "      .colab-df-generate:hover {\n",
              "        background-color: #E2EBFA;\n",
              "        box-shadow: 0px 1px 2px rgba(60, 64, 67, 0.3), 0px 1px 3px 1px rgba(60, 64, 67, 0.15);\n",
              "        fill: #174EA6;\n",
              "      }\n",
              "\n",
              "      [theme=dark] .colab-df-generate {\n",
              "        background-color: #3B4455;\n",
              "        fill: #D2E3FC;\n",
              "      }\n",
              "\n",
              "      [theme=dark] .colab-df-generate:hover {\n",
              "        background-color: #434B5C;\n",
              "        box-shadow: 0px 1px 3px 1px rgba(0, 0, 0, 0.15);\n",
              "        filter: drop-shadow(0px 1px 2px rgba(0, 0, 0, 0.3));\n",
              "        fill: #FFFFFF;\n",
              "      }\n",
              "    </style>\n",
              "    <button class=\"colab-df-generate\" onclick=\"generateWithVariable('top_ngrams_post')\"\n",
              "            title=\"Generate code using this dataframe.\"\n",
              "            style=\"display:none;\">\n",
              "\n",
              "  <svg xmlns=\"http://www.w3.org/2000/svg\" height=\"24px\"viewBox=\"0 0 24 24\"\n",
              "       width=\"24px\">\n",
              "    <path d=\"M7,19H8.4L18.45,9,17,7.55,7,17.6ZM5,21V16.75L18.45,3.32a2,2,0,0,1,2.83,0l1.4,1.43a1.91,1.91,0,0,1,.58,1.4,1.91,1.91,0,0,1-.58,1.4L9.25,21ZM18.45,9,17,7.55Zm-12,3A5.31,5.31,0,0,0,4.9,8.1,5.31,5.31,0,0,0,1,6.5,5.31,5.31,0,0,0,4.9,4.9,5.31,5.31,0,0,0,6.5,1,5.31,5.31,0,0,0,8.1,4.9,5.31,5.31,0,0,0,12,6.5,5.46,5.46,0,0,0,6.5,12Z\"/>\n",
              "  </svg>\n",
              "    </button>\n",
              "    <script>\n",
              "      (() => {\n",
              "      const buttonEl =\n",
              "        document.querySelector('#id_1df644aa-f8ca-4485-84f5-658e35151733 button.colab-df-generate');\n",
              "      buttonEl.style.display =\n",
              "        google.colab.kernel.accessAllowed ? 'block' : 'none';\n",
              "\n",
              "      buttonEl.onclick = () => {\n",
              "        google.colab.notebook.generateWithVariable('top_ngrams_post');\n",
              "      }\n",
              "      })();\n",
              "    </script>\n",
              "  </div>\n",
              "\n",
              "    </div>\n",
              "  </div>\n"
            ],
            "application/vnd.google.colaboratory.intrinsic+json": {
              "type": "dataframe",
              "variable_name": "top_ngrams_post",
              "summary": "{\n  \"name\": \"top_ngrams_post\",\n  \"rows\": 15,\n  \"fields\": [\n    {\n      \"column\": \"Bearish (0)\",\n      \"properties\": {\n        \"dtype\": \"string\",\n        \"num_unique_values\": 15,\n        \"samples\": [\n          \"economy (68)\",\n          \"say (56)\",\n          \"stock (211)\"\n        ],\n        \"semantic_type\": \"\",\n        \"description\": \"\"\n      }\n    },\n    {\n      \"column\": \"Bullish (1)\",\n      \"properties\": {\n        \"dtype\": \"string\",\n        \"num_unique_values\": 15,\n        \"samples\": [\n          \"eps (92)\",\n          \"raised (78)\",\n          \"stock (369)\"\n        ],\n        \"semantic_type\": \"\",\n        \"description\": \"\"\n      }\n    },\n    {\n      \"column\": \"Neutral (2)\",\n      \"properties\": {\n        \"dtype\": \"string\",\n        \"num_unique_values\": 15,\n        \"samples\": [\n          \"2019 (245)\",\n          \"2020 (206)\",\n          \"stock (742)\"\n        ],\n        \"semantic_type\": \"\",\n        \"description\": \"\"\n      }\n    }\n  ]\n}"
            }
          },
          "metadata": {}
        }
      ]
    },
    {
      "cell_type": "markdown",
      "source": [
        "If new pre-processing used, first run cell below. When use old pre-processing don't."
      ],
      "metadata": {
        "id": "8kLyosQYpZEx"
      },
      "id": "8kLyosQYpZEx"
    },
    {
      "cell_type": "code",
      "source": [
        "train_data['lemmatized_text'] = train_data['lemmatized_tokens'].apply(lambda tokens: ' '.join(tokens))"
      ],
      "metadata": {
        "id": "-alL5yQapW5P"
      },
      "id": "-alL5yQapW5P",
      "execution_count": 15,
      "outputs": []
    },
    {
      "cell_type": "code",
      "source": [
        "X = train_data['lemmatized_text']  # We'll use lemmatized text for feature engineering\n",
        "y = train_data['label']\n",
        "\n",
        "X_train, X_val, y_train, y_val = train_test_split(X, y, test_size=0.2, random_state=42, stratify=y)\n",
        "\n",
        "# Check the split\n",
        "print(f\"Training set size: {X_train.shape[0]}\")\n",
        "print(f\"Validation set size: {X_val.shape[0]}\")\n",
        "print(f\"Training label distribution: {y_train.value_counts().sort_index().tolist()}\")\n",
        "print(f\"Validation label distribution: {y_val.value_counts().sort_index().tolist()}\")\n"
      ],
      "metadata": {
        "id": "PyYrpiWbeBcB",
        "outputId": "863dd872-4222-43e9-c79e-e14f14a8bd2f",
        "colab": {
          "base_uri": "https://localhost:8080/"
        }
      },
      "id": "PyYrpiWbeBcB",
      "execution_count": 16,
      "outputs": [
        {
          "output_type": "stream",
          "name": "stdout",
          "text": [
            "Training set size: 7634\n",
            "Validation set size: 1909\n",
            "Training label distribution: [1154, 1538, 4942]\n",
            "Validation label distribution: [288, 385, 1236]\n"
          ]
        }
      ]
    },
    {
      "cell_type": "markdown",
      "source": [
        "# **Feature Engineering**\n"
      ],
      "metadata": {
        "id": "O0AMhPYseToC"
      },
      "id": "O0AMhPYseToC"
    },
    {
      "cell_type": "code",
      "source": [
        "# Cell 30: Import necessary libraries for feature engineering\n",
        "from sklearn.feature_extraction.text import CountVectorizer, TfidfVectorizer\n",
        "import numpy as np\n",
        "\n",
        "# Try to fix gensim compatibility issue by reinstalling\n",
        "!pip install --force-reinstall gensim\n",
        "\n",
        "# Now try importing again\n",
        "try:\n",
        "    from gensim.models import Word2Vec\n",
        "    GENSIM_AVAILABLE = True\n",
        "except Exception as e:\n",
        "    print(f\"Could not import Word2Vec: {e}\")\n",
        "    print(\"Will continue without Word2Vec features\")\n",
        "    GENSIM_AVAILABLE = False\n",
        "\n",
        "print(\"Starting Feature Engineering...\")"
      ],
      "metadata": {
        "id": "IMCzDP15eY-F",
        "outputId": "8dfb2ec3-abca-458d-8561-52fdfad15f26",
        "colab": {
          "base_uri": "https://localhost:8080/"
        }
      },
      "id": "IMCzDP15eY-F",
      "execution_count": 18,
      "outputs": [
        {
          "output_type": "stream",
          "name": "stdout",
          "text": [
            "Collecting gensim\n",
            "  Downloading gensim-4.3.3-cp311-cp311-manylinux_2_17_x86_64.manylinux2014_x86_64.whl.metadata (8.1 kB)\n",
            "Collecting numpy<2.0,>=1.18.5 (from gensim)\n",
            "  Downloading numpy-1.26.4-cp311-cp311-manylinux_2_17_x86_64.manylinux2014_x86_64.whl.metadata (61 kB)\n",
            "\u001b[2K     \u001b[90m━━━━━━━━━━━━━━━━━━━━━━━━━━━━━━━━━━━━━━━━\u001b[0m \u001b[32m61.0/61.0 kB\u001b[0m \u001b[31m2.3 MB/s\u001b[0m eta \u001b[36m0:00:00\u001b[0m\n",
            "\u001b[?25hCollecting scipy<1.14.0,>=1.7.0 (from gensim)\n",
            "  Downloading scipy-1.13.1-cp311-cp311-manylinux_2_17_x86_64.manylinux2014_x86_64.whl.metadata (60 kB)\n",
            "\u001b[2K     \u001b[90m━━━━━━━━━━━━━━━━━━━━━━━━━━━━━━━━━━━━━━━━\u001b[0m \u001b[32m60.6/60.6 kB\u001b[0m \u001b[31m2.3 MB/s\u001b[0m eta \u001b[36m0:00:00\u001b[0m\n",
            "\u001b[?25hCollecting smart-open>=1.8.1 (from gensim)\n",
            "  Downloading smart_open-7.1.0-py3-none-any.whl.metadata (24 kB)\n",
            "Collecting wrapt (from smart-open>=1.8.1->gensim)\n",
            "  Downloading wrapt-1.17.2-cp311-cp311-manylinux_2_5_x86_64.manylinux1_x86_64.manylinux_2_17_x86_64.manylinux2014_x86_64.whl.metadata (6.4 kB)\n",
            "Downloading gensim-4.3.3-cp311-cp311-manylinux_2_17_x86_64.manylinux2014_x86_64.whl (26.7 MB)\n",
            "\u001b[2K   \u001b[90m━━━━━━━━━━━━━━━━━━━━━━━━━━━━━━━━━━━━━━━━\u001b[0m \u001b[32m26.7/26.7 MB\u001b[0m \u001b[31m33.1 MB/s\u001b[0m eta \u001b[36m0:00:00\u001b[0m\n",
            "\u001b[?25hDownloading numpy-1.26.4-cp311-cp311-manylinux_2_17_x86_64.manylinux2014_x86_64.whl (18.3 MB)\n",
            "\u001b[2K   \u001b[90m━━━━━━━━━━━━━━━━━━━━━━━━━━━━━━━━━━━━━━━━\u001b[0m \u001b[32m18.3/18.3 MB\u001b[0m \u001b[31m58.2 MB/s\u001b[0m eta \u001b[36m0:00:00\u001b[0m\n",
            "\u001b[?25hDownloading scipy-1.13.1-cp311-cp311-manylinux_2_17_x86_64.manylinux2014_x86_64.whl (38.6 MB)\n",
            "\u001b[2K   \u001b[90m━━━━━━━━━━━━━━━━━━━━━━━━━━━━━━━━━━━━━━━━\u001b[0m \u001b[32m38.6/38.6 MB\u001b[0m \u001b[31m9.8 MB/s\u001b[0m eta \u001b[36m0:00:00\u001b[0m\n",
            "\u001b[?25hDownloading smart_open-7.1.0-py3-none-any.whl (61 kB)\n",
            "\u001b[2K   \u001b[90m━━━━━━━━━━━━━━━━━━━━━━━━━━━━━━━━━━━━━━━━\u001b[0m \u001b[32m61.7/61.7 kB\u001b[0m \u001b[31m5.3 MB/s\u001b[0m eta \u001b[36m0:00:00\u001b[0m\n",
            "\u001b[?25hDownloading wrapt-1.17.2-cp311-cp311-manylinux_2_5_x86_64.manylinux1_x86_64.manylinux_2_17_x86_64.manylinux2014_x86_64.whl (83 kB)\n",
            "\u001b[2K   \u001b[90m━━━━━━━━━━━━━━━━━━━━━━━━━━━━━━━━━━━━━━━━\u001b[0m \u001b[32m83.2/83.2 kB\u001b[0m \u001b[31m4.4 MB/s\u001b[0m eta \u001b[36m0:00:00\u001b[0m\n",
            "\u001b[?25hInstalling collected packages: wrapt, numpy, smart-open, scipy, gensim\n",
            "  Attempting uninstall: wrapt\n",
            "    Found existing installation: wrapt 1.17.2\n",
            "    Uninstalling wrapt-1.17.2:\n",
            "      Successfully uninstalled wrapt-1.17.2\n",
            "  Attempting uninstall: numpy\n",
            "    Found existing installation: numpy 2.0.2\n",
            "    Uninstalling numpy-2.0.2:\n",
            "      Successfully uninstalled numpy-2.0.2\n",
            "  Attempting uninstall: smart-open\n",
            "    Found existing installation: smart-open 7.1.0\n",
            "    Uninstalling smart-open-7.1.0:\n",
            "      Successfully uninstalled smart-open-7.1.0\n",
            "  Attempting uninstall: scipy\n",
            "    Found existing installation: scipy 1.15.3\n",
            "    Uninstalling scipy-1.15.3:\n",
            "      Successfully uninstalled scipy-1.15.3\n",
            "\u001b[31mERROR: pip's dependency resolver does not currently take into account all the packages that are installed. This behaviour is the source of the following dependency conflicts.\n",
            "thinc 8.3.6 requires numpy<3.0.0,>=2.0.0, but you have numpy 1.26.4 which is incompatible.\n",
            "tsfresh 0.21.0 requires scipy>=1.14.0; python_version >= \"3.10\", but you have scipy 1.13.1 which is incompatible.\u001b[0m\u001b[31m\n",
            "\u001b[0mSuccessfully installed gensim-4.3.3 numpy-1.26.4 scipy-1.13.1 smart-open-7.1.0 wrapt-1.17.2\n",
            "Could not import Word2Vec: numpy.dtype size changed, may indicate binary incompatibility. Expected 96 from C header, got 88 from PyObject\n",
            "Will continue without Word2Vec features\n",
            "Starting Feature Engineering...\n"
          ]
        }
      ]
    },
    {
      "cell_type": "code",
      "source": [
        "# Cell 31: Bag of Words (BoW) features\n",
        "print(\"Creating Bag of Words features...\")\n",
        "bow_vectorizer = CountVectorizer(max_features=5000)\n",
        "X_train_bow = bow_vectorizer.fit_transform(X_train)\n",
        "X_val_bow = bow_vectorizer.transform(X_val)\n",
        "\n",
        "print(f\"BoW vocabulary size: {len(bow_vectorizer.vocabulary_)}\")\n",
        "print(f\"BoW feature matrix shape: {X_train_bow.shape}\")\n",
        "\n",
        "# Display sample features\n",
        "feature_names = bow_vectorizer.get_feature_names_out()\n",
        "print(\"Sample BoW features (first 10):\", feature_names[:10])"
      ],
      "metadata": {
        "id": "da4GCcsBebpj",
        "outputId": "daa9d89b-9c47-4796-e30e-678e7c959480",
        "colab": {
          "base_uri": "https://localhost:8080/"
        }
      },
      "id": "da4GCcsBebpj",
      "execution_count": 19,
      "outputs": [
        {
          "output_type": "stream",
          "name": "stdout",
          "text": [
            "Creating Bag of Words features...\n",
            "BoW vocabulary size: 5000\n",
            "BoW feature matrix shape: (7634, 5000)\n",
            "Sample BoW features (first 10): ['00' '001' '002' '003' '004' '005' '006' '007' '0075' '008']\n"
          ]
        }
      ]
    },
    {
      "cell_type": "code",
      "source": [
        "# Cell 32: TF-IDF features\n",
        "print(\"Creating TF-IDF features...\")\n",
        "tfidf_vectorizer = TfidfVectorizer(max_features=5000)\n",
        "X_train_tfidf = tfidf_vectorizer.fit_transform(X_train)\n",
        "X_val_tfidf = tfidf_vectorizer.transform(X_val)\n",
        "\n",
        "print(f\"TF-IDF vocabulary size: {len(tfidf_vectorizer.vocabulary_)}\")\n",
        "print(f\"TF-IDF feature matrix shape: {X_train_tfidf.shape}\")\n",
        "\n",
        "# Visualize TF-IDF importance for first document\n",
        "first_doc_tfidf = X_train_tfidf[0].toarray()[0]\n",
        "# Get indices of top features\n",
        "top_indices = first_doc_tfidf.argsort()[-10:][::-1]\n",
        "top_features = tfidf_vectorizer.get_feature_names_out()[top_indices]\n",
        "top_weights = first_doc_tfidf[top_indices]\n",
        "\n",
        "plt.figure(figsize=(10, 6))\n",
        "plt.barh(top_features, top_weights)\n",
        "plt.title('Top TF-IDF features in first document')\n",
        "plt.xlabel('TF-IDF Weight')\n",
        "plt.tight_layout()\n",
        "plt.show()"
      ],
      "metadata": {
        "id": "KSjzRcqUe-kQ",
        "outputId": "771fed13-5658-4865-da21-2e46bb6e9fc6",
        "colab": {
          "base_uri": "https://localhost:8080/",
          "height": 656
        }
      },
      "id": "KSjzRcqUe-kQ",
      "execution_count": 20,
      "outputs": [
        {
          "output_type": "stream",
          "name": "stdout",
          "text": [
            "Creating TF-IDF features...\n",
            "TF-IDF vocabulary size: 5000\n",
            "TF-IDF feature matrix shape: (7634, 5000)\n"
          ]
        },
        {
          "output_type": "display_data",
          "data": {
            "text/plain": [
              "<Figure size 1000x600 with 1 Axes>"
            ],
            "image/png": "[encoded data removed]"
          },
          "metadata": {}
        }
      ]
    },
    {
      "cell_type": "markdown",
      "source": [
        "### Extra Feature Engineering (TF-IDF with N-grams)\n"
      ],
      "metadata": {
        "id": "h7SdlfLN_B_Q"
      },
      "id": "h7SdlfLN_B_Q"
    },
    {
      "cell_type": "code",
      "source": [
        "# TF-IDF with N-grams (unigrams + bigrams)\n",
        "print(\"Creating TF-IDF features with n-grams (unigrams + bigrams)...\")\n",
        "tfidf_ngram_vectorizer = TfidfVectorizer(ngram_range=(1, 2), max_features=8000)\n",
        "X_train_tfidf_ngram = tfidf_ngram_vectorizer.fit_transform(X_train)\n",
        "X_val_tfidf_ngram = tfidf_ngram_vectorizer.transform(X_val)\n",
        "\n",
        "print(f\"TF-IDF N-gram vocabulary size: {len(tfidf_ngram_vectorizer.vocabulary_)}\")\n",
        "print(f\"TF-IDF N-gram feature matrix shape: {X_train_tfidf_ngram.shape}\")"
      ],
      "metadata": {
        "id": "z7-6AmgB9opu",
        "outputId": "437fbc3d-525a-44d7-cc46-4a6bcf5619a8",
        "colab": {
          "base_uri": "https://localhost:8080/"
        }
      },
      "id": "z7-6AmgB9opu",
      "execution_count": 21,
      "outputs": [
        {
          "output_type": "stream",
          "name": "stdout",
          "text": [
            "Creating TF-IDF features with n-grams (unigrams + bigrams)...\n",
            "TF-IDF N-gram vocabulary size: 8000\n",
            "TF-IDF N-gram feature matrix shape: (7634, 8000)\n"
          ]
        }
      ]
    },
    {
      "cell_type": "code",
      "source": [
        "# Cell 33-37: Word2Vec features (conditional)\n",
        "# Only run if gensim is available\n",
        "if GENSIM_AVAILABLE:\n",
        "    print(\"Preparing data for Word2Vec...\")\n",
        "    # Function to tokenize text\n",
        "    def tokenize_texts(texts):\n",
        "        return [text.split() for text in texts]\n",
        "\n",
        "    # Tokenize all texts for training\n",
        "    all_tokenized = tokenize_texts(train_data['cleaned_text'])\n",
        "    # all_tokenized = tokenize_texts(X_train)\n",
        "\n",
        "    # Display a sample\n",
        "    print(f\"Sample tokenized text: {all_tokenized[0][:10]}...\")\n",
        "\n",
        "    # Train Word2Vec model\n",
        "    print(\"Training Word2Vec model...\")\n",
        "    w2v_model = Word2Vec(\n",
        "        sentences=all_tokenized,\n",
        "        vector_size=100,  # Embedding dimension\n",
        "        window=5,         # Context window size\n",
        "        min_count=2,      # Ignore words that appear less than this\n",
        "        workers=4,        # Number of processor cores\n",
        "        sg=1              # 1 for skip-gram, 0 for CBOW\n",
        "    )\n",
        "\n",
        "    print(f\"Word2Vec vocabulary size: {len(w2v_model.wv.key_to_index)}\")\n",
        "    print(f\"Word2Vec vector dimension: {w2v_model.wv.vector_size}\")\n",
        "\n",
        "    # Create document vectors from Word2Vec\n",
        "    print(\"Creating document vectors from Word2Vec...\")\n",
        "\n",
        "    def document_vector(text, model, vector_size=100):\n",
        "        \"\"\"\n",
        "        Create a document vector by averaging word vectors\n",
        "        for all words in the document\n",
        "        \"\"\"\n",
        "        # Split the text into words\n",
        "        words = text.split()\n",
        "\n",
        "        # Initialize an empty array for the document vector\n",
        "        doc_vector = np.zeros(vector_size)\n",
        "\n",
        "        # Count valid words\n",
        "        count = 0\n",
        "\n",
        "        # Add vectors for each word if it exists in the model\n",
        "        for word in words:\n",
        "            if word in model.wv:\n",
        "                doc_vector += model.wv[word]\n",
        "                count += 1\n",
        "\n",
        "        # Return the average vector\n",
        "        if count > 0:\n",
        "            return doc_vector / count\n",
        "        else:\n",
        "            return doc_vector  # Return zeros if no words found\n",
        "\n",
        "    # Create document vectors for training and validation sets\n",
        "    X_train_w2v = np.array([document_vector(text, w2v_model) for text in X_train])\n",
        "    X_val_w2v = np.array([document_vector(text, w2v_model) for text in X_val])\n",
        "\n",
        "    print(f\"Word2Vec document vectors shape: {X_train_w2v.shape}\")\n",
        "else:\n",
        "    print(\"Skipping Word2Vec feature engineering\")\n",
        "    X_train_w2v = None\n",
        "    X_val_w2v = None"
      ],
      "metadata": {
        "id": "AdGDPmnzfAHb",
        "outputId": "207443c8-f9c1-4ac1-e04a-a43e4a83d02a",
        "colab": {
          "base_uri": "https://localhost:8080/"
        }
      },
      "id": "AdGDPmnzfAHb",
      "execution_count": 38,
      "outputs": [
        {
          "output_type": "stream",
          "name": "stdout",
          "text": [
            "Skipping Word2Vec feature engineering\n"
          ]
        }
      ]
    },
    {
      "cell_type": "markdown",
      "source": [
        "#### Extra Feature Engineering (Length and structure features)"
      ],
      "metadata": {
        "id": "e6yg6kv8DLng"
      },
      "id": "e6yg6kv8DLng"
    },
    {
      "cell_type": "code",
      "source": [
        "# Step 1: Create DataFrames from X_train and X_val (text data)\n",
        "import pandas as pd\n",
        "\n",
        "train_struct = pd.DataFrame({'cleaned_text': X_train}).copy()\n",
        "val_struct = pd.DataFrame({'cleaned_text': X_val}).copy()\n",
        "\n",
        "# Step 2: Define function to extract structural features\n",
        "def extract_text_features(df, text_column='cleaned_text'):\n",
        "    df['char_count'] = df[text_column].apply(len)\n",
        "    df['word_count'] = df[text_column].apply(lambda x: len(x.split()))\n",
        "    df['avg_word_length'] = df['char_count'] / df['word_count']\n",
        "    df['punctuation_count'] = df[text_column].apply(lambda x: sum(1 for c in x if c in '.,;!?'))\n",
        "    df['capital_word_count'] = df[text_column].apply(lambda x: sum(1 for w in x.split() if w.isupper()))\n",
        "    return df\n",
        "\n",
        "# Step 3: Extract features\n",
        "train_struct = extract_text_features(train_struct)\n",
        "val_struct = extract_text_features(val_struct)\n",
        "\n",
        "# Step 4: Convert to NumPy arrays\n",
        "X_train_structural = train_struct[['char_count', 'word_count', 'avg_word_length',\n",
        "                                   'punctuation_count', 'capital_word_count']].values\n",
        "\n",
        "X_val_structural = val_struct[['char_count', 'word_count', 'avg_word_length',\n",
        "                               'punctuation_count', 'capital_word_count']].values\n",
        "\n",
        "# Step 5: Show result\n",
        "print(\"Structural feature shape:\", X_train_structural.shape)"
      ],
      "metadata": {
        "id": "nSpi-HB3AbNM",
        "outputId": "8a9a3128-5e7d-405d-8c05-448c4c13b2dd",
        "colab": {
          "base_uri": "https://localhost:8080/"
        }
      },
      "id": "nSpi-HB3AbNM",
      "execution_count": 39,
      "outputs": [
        {
          "output_type": "stream",
          "name": "stdout",
          "text": [
            "Structural feature shape: (7634, 5)\n"
          ]
        }
      ]
    },
    {
      "cell_type": "markdown",
      "source": [
        "#### Comparing features\n"
      ],
      "metadata": {
        "id": "Rsot_VJqDTOO"
      },
      "id": "Rsot_VJqDTOO"
    },
    {
      "cell_type": "code",
      "source": [
        "# Cell 38: Compare feature engineering methods\n",
        "print(\"Summary of Feature Engineering Methods:\")\n",
        "print(f\"1. Bag of Words: {X_train_bow.shape[1]} features\")\n",
        "print(f\"2. TF-IDF: {X_train_tfidf.shape[1]} features\")\n",
        "\n",
        "if X_train_w2v is not None:\n",
        "    print(f\"3. Word2Vec: {X_train_w2v.shape[1]} features\")\n",
        "\n",
        "    # Compare sparsity\n",
        "    bow_sparsity = 1.0 - (X_train_bow.nnz / (X_train_bow.shape[0] * X_train_bow.shape[1]))\n",
        "    tfidf_sparsity = 1.0 - (X_train_tfidf.nnz / (X_train_tfidf.shape[0] * X_train_tfidf.shape[1]))\n",
        "    w2v_sparsity = np.count_nonzero(X_train_w2v == 0) / (X_train_w2v.shape[0] * X_train_w2v.shape[1])\n",
        "\n",
        "    print(\"\\nSparsity (percentage of zero values):\")\n",
        "    print(f\"Bag of Words: {bow_sparsity:.2%}\")\n",
        "    print(f\"TF-IDF: {tfidf_sparsity:.2%}\")\n",
        "    print(f\"Word2Vec: {w2v_sparsity:.2%}\")\n",
        "else:\n",
        "    # Compare sparsity for BoW and TF-IDF only\n",
        "    bow_sparsity = 1.0 - (X_train_bow.nnz / (X_train_bow.shape[0] * X_train_bow.shape[1]))\n",
        "    tfidf_sparsity = 1.0 - (X_train_tfidf.nnz / (X_train_tfidf.shape[0] * X_train_tfidf.shape[1]))\n",
        "\n",
        "    print(\"\\nSparsity (percentage of zero values):\")\n",
        "    print(f\"Bag of Words: {bow_sparsity:.2%}\")\n",
        "    print(f\"TF-IDF: {tfidf_sparsity:.2%}\")\n",
        "\n",
        "print(\"\\nFeature engineering complete. Ready for model training!\")"
      ],
      "metadata": {
        "id": "tLfgZon0fECd",
        "outputId": "d37c06a0-0085-47c9-ba5c-aed240094c93",
        "colab": {
          "base_uri": "https://localhost:8080/"
        }
      },
      "id": "tLfgZon0fECd",
      "execution_count": 40,
      "outputs": [
        {
          "output_type": "stream",
          "name": "stdout",
          "text": [
            "Summary of Feature Engineering Methods:\n",
            "1. Bag of Words: 5000 features\n",
            "2. TF-IDF: 5000 features\n",
            "\n",
            "Sparsity (percentage of zero values):\n",
            "Bag of Words: 99.86%\n",
            "TF-IDF: 99.86%\n",
            "\n",
            "Feature engineering complete. Ready for model training!\n"
          ]
        }
      ]
    },
    {
      "cell_type": "code",
      "source": [
        "print(\" Summary of Feature Engineering Methods:\")\n",
        "\n",
        "# 1. Bag of Words\n",
        "print(f\"1. Bag of Words: {X_train_bow.shape[1]} features\")\n",
        "bow_sparsity = 1.0 - (X_train_bow.nnz / (X_train_bow.shape[0] * X_train_bow.shape[1]))\n",
        "print(f\"   - Sparsity: {bow_sparsity:.2%}\")\n",
        "\n",
        "# 2. TF-IDF\n",
        "print(f\"\\n2. TF-IDF: {X_train_tfidf.shape[1]} features\")\n",
        "tfidf_sparsity = 1.0 - (X_train_tfidf.nnz / (X_train_tfidf.shape[0] * X_train_tfidf.shape[1]))\n",
        "print(f\"   - Sparsity: {tfidf_sparsity:.2%}\")\n",
        "\n",
        "# 3. TF-IDF with N-Grams\n",
        "print(f\"\\n3. TF-IDF (Unigrams + Bigrams): {X_train_tfidf_ngram.shape[1]} features\")\n",
        "tfidf_ngram_sparsity = 1.0 - (X_train_tfidf_ngram.nnz / (X_train_tfidf_ngram.shape[0] * X_train_tfidf_ngram.shape[1]))\n",
        "print(f\"   - Sparsity: {tfidf_ngram_sparsity:.2%}\")\n",
        "\n",
        "# 4. Word2Vec\n",
        "if X_train_w2v is not None:\n",
        "    print(f\"\\n4. Word2Vec: {X_train_w2v.shape[1]} features\")\n",
        "    w2v_sparsity = np.count_nonzero(X_train_w2v == 0) / (X_train_w2v.shape[0] * X_train_w2v.shape[1])\n",
        "    print(f\"   - Sparsity: {w2v_sparsity:.2%}\")\n",
        "else:\n",
        "    print(\"\\n4. Word2Vec: Not available (gensim not installed or failed to load)\")\n",
        "\n",
        "# 5. Structural Features\n",
        "print(f\"\\n5. Structural Features: {X_train_structural.shape[1]} features\")\n",
        "structural_sparsity = np.count_nonzero(X_train_structural == 0) / (X_train_structural.shape[0] * X_train_structural.shape[1])\n",
        "print(f\"   - Sparsity: {structural_sparsity:.2%}\")\n",
        "\n",
        "print(\"\\n Feature engineering complete. You can now proceed to model training or feature selection.\")"
      ],
      "metadata": {
        "id": "NV0e5tBxDjKp",
        "outputId": "0e076fb7-7278-4009-8fc5-1f8364293ea6",
        "colab": {
          "base_uri": "https://localhost:8080/"
        }
      },
      "id": "NV0e5tBxDjKp",
      "execution_count": 42,
      "outputs": [
        {
          "output_type": "stream",
          "name": "stdout",
          "text": [
            " Summary of Feature Engineering Methods:\n",
            "1. Bag of Words: 5000 features\n",
            "   - Sparsity: 99.86%\n",
            "\n",
            "2. TF-IDF: 5000 features\n",
            "   - Sparsity: 99.86%\n",
            "\n",
            "3. TF-IDF (Unigrams + Bigrams): 8000 features\n",
            "   - Sparsity: 99.89%\n",
            "\n",
            "4. Word2Vec: Not available (gensim not installed or failed to load)\n",
            "\n",
            "5. Structural Features: 5 features\n",
            "   - Sparsity: 40.03%\n",
            "\n",
            " Feature engineering complete. You can now proceed to model training or feature selection.\n"
          ]
        }
      ]
    },
    {
      "cell_type": "markdown",
      "source": [
        "### model\n"
      ],
      "metadata": {
        "id": "L7yHZpHrfT9y"
      },
      "id": "L7yHZpHrfT9y"
    },
    {
      "cell_type": "code",
      "source": [
        "# Cell 39: Import necessary models and evaluation metrics\n",
        "from sklearn.neighbors import KNeighborsClassifier\n",
        "from sklearn.metrics import classification_report, confusion_matrix, accuracy_score\n",
        "import matplotlib.pyplot as plt\n",
        "import seaborn as sns\n",
        "\n",
        "print(\"Starting model training and evaluation...\")"
      ],
      "metadata": {
        "id": "xnIcXynIfWak",
        "outputId": "6bdbea59-d43f-42fc-a425-22123e19361b",
        "colab": {
          "base_uri": "https://localhost:8080/"
        }
      },
      "id": "xnIcXynIfWak",
      "execution_count": null,
      "outputs": [
        {
          "output_type": "stream",
          "name": "stdout",
          "text": [
            "Starting model training and evaluation...\n"
          ]
        }
      ]
    },
    {
      "cell_type": "code",
      "source": [
        "# Cell 40: Train KNN model with TF-IDF features\n",
        "print(\"Training KNN model with TF-IDF features...\")\n",
        "knn_tfidf = KNeighborsClassifier(n_neighbors=5)\n",
        "knn_tfidf.fit(X_train_tfidf, y_train)\n",
        "\n",
        "# Predict and evaluate\n",
        "y_pred_tfidf = knn_tfidf.predict(X_val_tfidf)\n",
        "print(\"\\nKNN with TF-IDF - Evaluation Metrics:\")\n",
        "print(f\"Accuracy: {accuracy_score(y_val, y_pred_tfidf):.4f}\")\n",
        "print(\"\\nClassification Report:\")\n",
        "print(classification_report(y_val, y_pred_tfidf))\n",
        "\n",
        "# Confusion Matrix\n",
        "plt.figure(figsize=(8, 6))\n",
        "cm = confusion_matrix(y_val, y_pred_tfidf)\n",
        "sns.heatmap(cm, annot=True, fmt=\"d\", cmap=\"Blues\", xticklabels=['Bearish', 'Bullish', 'Neutral'],\n",
        "           yticklabels=['Bearish', 'Bullish', 'Neutral'])\n",
        "plt.title('Confusion Matrix - KNN with TF-IDF')\n",
        "plt.xlabel('Predicted Label')\n",
        "plt.ylabel('True Label')\n",
        "plt.tight_layout()\n",
        "plt.show()"
      ],
      "metadata": {
        "id": "uI_rh6cLfXB1",
        "outputId": "b890c5fa-7285-4159-8bba-1361d76da007",
        "colab": {
          "base_uri": "https://localhost:8080/",
          "height": 894
        }
      },
      "id": "uI_rh6cLfXB1",
      "execution_count": null,
      "outputs": [
        {
          "output_type": "stream",
          "name": "stdout",
          "text": [
            "Training KNN model with TF-IDF features...\n",
            "\n",
            "KNN with TF-IDF - Evaluation Metrics:\n",
            "Accuracy: 0.6820\n",
            "\n",
            "Classification Report:\n",
            "              precision    recall  f1-score   support\n",
            "\n",
            "           0       0.72      0.10      0.18       288\n",
            "           1       0.80      0.14      0.24       385\n",
            "           2       0.68      0.99      0.80      1236\n",
            "\n",
            "    accuracy                           0.68      1909\n",
            "   macro avg       0.73      0.41      0.40      1909\n",
            "weighted avg       0.71      0.68      0.59      1909\n",
            "\n"
          ]
        },
        {
          "output_type": "display_data",
          "data": {
            "text/plain": [
              "<Figure size 800x600 with 2 Axes>"
            ],
            "image/png": "[encoded data removed]"
          },
          "metadata": {}
        }
      ]
    },
    {
      "cell_type": "code",
      "source": [
        "# Cell 41: Train KNN model with Word2Vec features\n",
        "print(\"Training KNN model with Word2Vec features...\")\n",
        "knn_w2v = KNeighborsClassifier(n_neighbors=5)\n",
        "knn_w2v.fit(X_train_w2v, y_train)\n",
        "\n",
        "# Predict and evaluate\n",
        "y_pred_w2v = knn_w2v.predict(X_val_w2v)\n",
        "print(\"\\nKNN with Word2Vec - Evaluation Metrics:\")\n",
        "print(f\"Accuracy: {accuracy_score(y_val, y_pred_w2v):.4f}\")\n",
        "print(\"\\nClassification Report:\")\n",
        "print(classification_report(y_val, y_pred_w2v))\n",
        "\n",
        "# Confusion Matrix\n",
        "plt.figure(figsize=(8, 6))\n",
        "cm = confusion_matrix(y_val, y_pred_w2v)\n",
        "sns.heatmap(cm, annot=True, fmt=\"d\", cmap=\"Blues\", xticklabels=['Bearish', 'Bullish', 'Neutral'],\n",
        "           yticklabels=['Bearish', 'Bullish', 'Neutral'])\n",
        "plt.title('Confusion Matrix - KNN with Word2Vec')\n",
        "plt.xlabel('Predicted Label')\n",
        "plt.ylabel('True Label')\n",
        "plt.tight_layout()\n",
        "plt.show()"
      ],
      "metadata": {
        "id": "8mRB5JMrfYcR",
        "outputId": "c670e42a-b4b2-44c6-d95c-78d6722a3841",
        "colab": {
          "base_uri": "https://localhost:8080/",
          "height": 1000
        }
      },
      "id": "8mRB5JMrfYcR",
      "execution_count": null,
      "outputs": [
        {
          "output_type": "stream",
          "name": "stderr",
          "text": [
            "Exception ignored on calling ctypes callback function: <function ThreadpoolController._find_libraries_with_dl_iterate_phdr.<locals>.match_library_callback at 0x7bf3fdfafba0>\n",
            "Traceback (most recent call last):\n",
            "  File \"/usr/local/lib/python3.11/dist-packages/threadpoolctl.py\", line 1005, in match_library_callback\n",
            "    self._make_controller_from_path(filepath)\n",
            "  File \"/usr/local/lib/python3.11/dist-packages/threadpoolctl.py\", line 1187, in _make_controller_from_path\n",
            "    lib_controller = controller_class(\n",
            "                     ^^^^^^^^^^^^^^^^^\n",
            "  File \"/usr/local/lib/python3.11/dist-packages/threadpoolctl.py\", line 114, in __init__\n",
            "    self.dynlib = ctypes.CDLL(filepath, mode=_RTLD_NOLOAD)\n",
            "                  ^^^^^^^^^^^^^^^^^^^^^^^^^^^^^^^^^^^^^^^^\n",
            "  File \"/usr/lib/python3.11/ctypes/__init__.py\", line 376, in __init__\n",
            "    self._handle = _dlopen(self._name, mode)\n",
            "                   ^^^^^^^^^^^^^^^^^^^^^^^^^\n",
            "OSError: dlopen() error\n",
            "Exception ignored on calling ctypes callback function: <function ThreadpoolController._find_libraries_with_dl_iterate_phdr.<locals>.match_library_callback at 0x7bf3fdfafba0>\n",
            "Traceback (most recent call last):\n",
            "  File \"/usr/local/lib/python3.11/dist-packages/threadpoolctl.py\", line 1005, in match_library_callback\n",
            "    self._make_controller_from_path(filepath)\n",
            "  File \"/usr/local/lib/python3.11/dist-packages/threadpoolctl.py\", line 1187, in _make_controller_from_path\n",
            "    lib_controller = controller_class(\n",
            "                     ^^^^^^^^^^^^^^^^^\n",
            "  File \"/usr/local/lib/python3.11/dist-packages/threadpoolctl.py\", line 114, in __init__\n",
            "    self.dynlib = ctypes.CDLL(filepath, mode=_RTLD_NOLOAD)\n",
            "                  ^^^^^^^^^^^^^^^^^^^^^^^^^^^^^^^^^^^^^^^^\n",
            "  File \"/usr/lib/python3.11/ctypes/__init__.py\", line 376, in __init__\n",
            "    self._handle = _dlopen(self._name, mode)\n",
            "                   ^^^^^^^^^^^^^^^^^^^^^^^^^\n",
            "OSError: dlopen() error\n"
          ]
        },
        {
          "output_type": "stream",
          "name": "stdout",
          "text": [
            "Training KNN model with Word2Vec features...\n",
            "\n",
            "KNN with Word2Vec - Evaluation Metrics:\n",
            "Accuracy: 0.6595\n",
            "\n",
            "Classification Report:\n",
            "              precision    recall  f1-score   support\n",
            "\n",
            "           0       0.32      0.26      0.29       288\n",
            "           1       0.46      0.40      0.43       385\n",
            "           2       0.77      0.83      0.80      1236\n",
            "\n",
            "    accuracy                           0.66      1909\n",
            "   macro avg       0.52      0.50      0.51      1909\n",
            "weighted avg       0.64      0.66      0.65      1909\n",
            "\n"
          ]
        },
        {
          "output_type": "display_data",
          "data": {
            "text/plain": [
              "<Figure size 800x600 with 2 Axes>"
            ],
            "image/png": "[encoded data removed]"
          },
          "metadata": {}
        }
      ]
    },
    {
      "cell_type": "code",
      "source": [
        "# Cell 42: Compare model performances\n",
        "models = ['KNN (TF-IDF)', 'KNN (Word2Vec)']\n",
        "accuracies = [\n",
        "    accuracy_score(y_val, y_pred_tfidf),\n",
        "    accuracy_score(y_val, y_pred_w2v)\n",
        "]\n",
        "\n",
        "plt.figure(figsize=(10, 6))\n",
        "sns.barplot(x=models, y=accuracies)\n",
        "plt.title('Model Accuracy Comparison')\n",
        "plt.ylabel('Accuracy')\n",
        "plt.ylim(0, 1)\n",
        "for i, acc in enumerate(accuracies):\n",
        "    plt.text(i, acc + 0.01, f'{acc:.4f}', ha='center')\n",
        "plt.tight_layout()\n",
        "plt.show()"
      ],
      "metadata": {
        "id": "q-iAPDoDfane",
        "outputId": "43bbd836-0dfb-4239-c495-230a50645064",
        "colab": {
          "base_uri": "https://localhost:8080/",
          "height": 601
        }
      },
      "id": "q-iAPDoDfane",
      "execution_count": null,
      "outputs": [
        {
          "output_type": "display_data",
          "data": {
            "text/plain": [
              "<Figure size 1000x600 with 1 Axes>"
            ],
            "image/png": "[encoded data removed]"
          },
          "metadata": {}
        }
      ]
    },
    {
      "cell_type": "code",
      "source": [
        "# Cell 44: LSTM implementation (optional)\n",
        "import tensorflow as tf\n",
        "from tensorflow.keras.preprocessing.text import Tokenizer\n",
        "from tensorflow.keras.preprocessing.sequence import pad_sequences\n",
        "from tensorflow.keras.models import Sequential\n",
        "from tensorflow.keras.layers import Dense, LSTM, Embedding, SpatialDropout1D\n",
        "\n",
        "# Set random seed for reproducibility\n",
        "tf.random.set_seed(42)\n",
        "\n",
        "# Tokenize text\n",
        "max_words = 5000  # Max vocabulary size\n",
        "max_len = 50      # Max sequence length\n",
        "tokenizer = Tokenizer(num_words=max_words)\n",
        "tokenizer.fit_on_texts(X_train)\n",
        "\n",
        "# Convert text to sequences\n",
        "X_train_seq = tokenizer.texts_to_sequences(X_train)\n",
        "X_val_seq = tokenizer.texts_to_sequences(X_val)\n",
        "\n",
        "# Pad sequences\n",
        "X_train_pad = pad_sequences(X_train_seq, maxlen=max_len)\n",
        "X_val_pad = pad_sequences(X_val_seq, maxlen=max_len)\n",
        "\n",
        "# Convert labels to categorical\n",
        "y_train_cat = tf.keras.utils.to_categorical(y_train, num_classes=3)\n",
        "y_val_cat = tf.keras.utils.to_categorical(y_val, num_classes=3)\n",
        "\n",
        "# Build LSTM model\n",
        "model = Sequential()\n",
        "model.add(Embedding(max_words, 100, input_length=max_len))\n",
        "model.add(SpatialDropout1D(0.2))\n",
        "model.add(LSTM(100, dropout=0.2, recurrent_dropout=0.2))\n",
        "model.add(Dense(3, activation='softmax'))\n",
        "\n",
        "# Compile model\n",
        "model.compile(loss='categorical_crossentropy', optimizer='adam', metrics=['accuracy'])\n",
        "\n",
        "# Train model\n",
        "history = model.fit(\n",
        "    X_train_pad, y_train_cat,\n",
        "    epochs=5,\n",
        "    batch_size=64,\n",
        "    validation_data=(X_val_pad, y_val_cat),\n",
        "    verbose=1\n",
        ")\n",
        "\n",
        "# Plot training history\n",
        "plt.figure(figsize=(12, 4))\n",
        "plt.subplot(1, 2, 1)\n",
        "plt.plot(history.history['accuracy'])\n",
        "plt.plot(history.history['val_accuracy'])\n",
        "plt.title('Model Accuracy')\n",
        "plt.ylabel('Accuracy')\n",
        "plt.xlabel('Epoch')\n",
        "plt.legend(['Train', 'Validation'], loc='upper left')\n",
        "\n",
        "plt.subplot(1, 2, 2)\n",
        "plt.plot(history.history['loss'])\n",
        "plt.plot(history.history['val_loss'])\n",
        "plt.title('Model Loss')\n",
        "plt.ylabel('Loss')\n",
        "plt.xlabel('Epoch')\n",
        "plt.legend(['Train', 'Validation'], loc='upper left')\n",
        "plt.tight_layout()\n",
        "plt.show()\n",
        "\n",
        "# Evaluate LSTM model\n",
        "y_pred_prob = model.predict(X_val_pad)\n",
        "y_pred_lstm = np.argmax(y_pred_prob, axis=1)\n",
        "\n",
        "print(\"\\nLSTM Model - Evaluation Metrics:\")\n",
        "print(f\"Accuracy: {accuracy_score(y_val, y_pred_lstm):.4f}\")\n",
        "print(\"\\nClassification Report:\")\n",
        "print(classification_report(y_val, y_pred_lstm))\n",
        "\n",
        "# Add LSTM to model comparison\n",
        "models.append('LSTM')\n",
        "accuracies.append(accuracy_score(y_val, y_pred_lstm))\n",
        "\n",
        "plt.figure(figsize=(10, 6))\n",
        "sns.barplot(x=models, y=accuracies)\n",
        "plt.title('Model Accuracy Comparison (including LSTM)')\n",
        "plt.ylabel('Accuracy')\n",
        "plt.ylim(0, 1)\n",
        "for i, acc in enumerate(accuracies):\n",
        "    plt.text(i, acc + 0.01, f'{acc:.4f}', ha='center')\n",
        "plt.tight_layout()\n",
        "plt.show()"
      ],
      "metadata": {
        "id": "pzJexIXtfjSi",
        "outputId": "af5d6f30-24f6-402c-a227-150cc79d967c",
        "colab": {
          "base_uri": "https://localhost:8080/",
          "height": 1000
        }
      },
      "id": "pzJexIXtfjSi",
      "execution_count": null,
      "outputs": [
        {
          "output_type": "stream",
          "name": "stderr",
          "text": [
            "/usr/local/lib/python3.11/dist-packages/keras/src/layers/core/embedding.py:90: UserWarning: Argument `input_length` is deprecated. Just remove it.\n",
            "  warnings.warn(\n"
          ]
        },
        {
          "output_type": "stream",
          "name": "stdout",
          "text": [
            "Epoch 1/5\n",
            "\u001b[1m120/120\u001b[0m \u001b[32m━━━━━━━━━━━━━━━━━━━━\u001b[0m\u001b[37m\u001b[0m \u001b[1m16s\u001b[0m 79ms/step - accuracy: 0.6312 - loss: 0.8927 - val_accuracy: 0.6998 - val_loss: 0.7155\n",
            "Epoch 2/5\n",
            "\u001b[1m120/120\u001b[0m \u001b[32m━━━━━━━━━━━━━━━━━━━━\u001b[0m\u001b[37m\u001b[0m \u001b[1m10s\u001b[0m 81ms/step - accuracy: 0.7437 - loss: 0.6058 - val_accuracy: 0.7800 - val_loss: 0.5919\n",
            "Epoch 3/5\n",
            "\u001b[1m120/120\u001b[0m \u001b[32m━━━━━━━━━━━━━━━━━━━━\u001b[0m\u001b[37m\u001b[0m \u001b[1m10s\u001b[0m 81ms/step - accuracy: 0.8483 - loss: 0.4058 - val_accuracy: 0.7936 - val_loss: 0.5985\n",
            "Epoch 4/5\n",
            "\u001b[1m120/120\u001b[0m \u001b[32m━━━━━━━━━━━━━━━━━━━━\u001b[0m\u001b[37m\u001b[0m \u001b[1m10s\u001b[0m 81ms/step - accuracy: 0.8913 - loss: 0.2949 - val_accuracy: 0.7873 - val_loss: 0.6483\n",
            "Epoch 5/5\n",
            "\u001b[1m120/120\u001b[0m \u001b[32m━━━━━━━━━━━━━━━━━━━━\u001b[0m\u001b[37m\u001b[0m \u001b[1m10s\u001b[0m 81ms/step - accuracy: 0.9221 - loss: 0.2173 - val_accuracy: 0.7816 - val_loss: 0.7350\n"
          ]
        },
        {
          "output_type": "display_data",
          "data": {
            "text/plain": [
              "<Figure size 1200x400 with 2 Axes>"
            ],
            "image/png": "[encoded data removed]"
          },
          "metadata": {}
        },
        {
          "output_type": "stream",
          "name": "stdout",
          "text": [
            "\u001b[1m60/60\u001b[0m \u001b[32m━━━━━━━━━━━━━━━━━━━━\u001b[0m\u001b[37m\u001b[0m \u001b[1m1s\u001b[0m 16ms/step\n",
            "\n",
            "LSTM Model - Evaluation Metrics:\n",
            "Accuracy: 0.7816\n",
            "\n",
            "Classification Report:\n",
            "              precision    recall  f1-score   support\n",
            "\n",
            "           0       0.58      0.54      0.56       288\n",
            "           1       0.71      0.64      0.67       385\n",
            "           2       0.84      0.88      0.86      1236\n",
            "\n",
            "    accuracy                           0.78      1909\n",
            "   macro avg       0.71      0.69      0.70      1909\n",
            "weighted avg       0.78      0.78      0.78      1909\n",
            "\n"
          ]
        },
        {
          "output_type": "display_data",
          "data": {
            "text/plain": [
              "<Figure size 1000x600 with 1 Axes>"
            ],
            "image/png": "[encoded data removed]"
          },
          "metadata": {}
        }
      ]
    },
    {
      "cell_type": "code",
      "source": [
        "# Cell 45: Load test data and make predictions with best model\n",
        "# Determine which model performed best on validation data\n",
        "print(\"Loading test data...\")\n",
        "try:\n",
        "    test_data = pd.read_csv('/content/test.csv')\n",
        "    print(f\"Test data loaded: {test_data.shape} rows\")\n",
        "except FileNotFoundError:\n",
        "    print(\"Test data file not found. Please upload the 'test.csv' file.\")\n",
        "    from google.colab import files\n",
        "    uploaded = files.upload()\n",
        "    test_data = pd.read_csv('test.csv')\n",
        "\n",
        "# Preprocess test data\n",
        "print(\"Preprocessing test data...\")\n",
        "test_data['cleaned_text'] = test_data['text'].apply(clean_text)\n",
        "test_data['text_no_stopwords'] = test_data['cleaned_text'].apply(remove_stopwords)\n",
        "test_data['lemmatized_text'] = test_data['text_no_stopwords'].apply(lemmatize_text)\n",
        "\n",
        "# Choose the best model for predictions (based on validation results)\n",
        "# For this example, let's assume TF-IDF with KNN performed best\n",
        "print(\"Making predictions with best model...\")\n",
        "X_test_tfidf = tfidf_vectorizer.transform(test_data['lemmatized_text'])\n",
        "predictions = knn_tfidf.predict(X_test_tfidf)\n",
        "\n",
        "# Create submission file\n",
        "submission = pd.DataFrame({\n",
        "    'id': test_data['id'],\n",
        "    'label': predictions\n",
        "})\n",
        "\n",
        "submission_file = 'pred_XX.csv'  # Replace XX with your group number\n",
        "submission.to_csv(submission_file, index=False)\n",
        "print(f\"Predictions saved to {submission_file}\")\n",
        "\n",
        "# If in Colab, provide download link\n",
        "try:\n",
        "    from google.colab import files\n",
        "    files.download(submission_file)\n",
        "    print(f\"Download initiated for {submission_file}\")\n",
        "except:\n",
        "    print(f\"File saved locally to {submission_file}\")"
      ],
      "metadata": {
        "id": "-rwVcePbfo0Z",
        "outputId": "7816cf7d-4dd7-4941-8573-7624b8cc8658",
        "colab": {
          "base_uri": "https://localhost:8080/",
          "height": 486
        }
      },
      "id": "-rwVcePbfo0Z",
      "execution_count": null,
      "outputs": [
        {
          "output_type": "stream",
          "name": "stdout",
          "text": [
            "Loading test data...\n",
            "Test data file not found. Please upload the 'test.csv' file.\n"
          ]
        },
        {
          "output_type": "display_data",
          "data": {
            "text/plain": [
              "<IPython.core.display.HTML object>"
            ],
            "text/html": [
              "\n",
              "     <input type=\"file\" id=\"files-aa3142d7-779d-482f-9ffe-b6a6f14f6f54\" name=\"files[]\" multiple disabled\n",
              "        style=\"border:none\" />\n",
              "     <output id=\"result-aa3142d7-779d-482f-9ffe-b6a6f14f6f54\">\n",
              "      Upload widget is only available when the cell has been executed in the\n",
              "      current browser session. Please rerun this cell to enable.\n",
              "      </output>\n",
              "      <script>// Copyright 2017 Google LLC\n",
              "//\n",
              "// Licensed under the Apache License, Version 2.0 (the \"License\");\n",
              "// you may not use this file except in compliance with the License.\n",
              "// You may obtain a copy of the License at\n",
              "//\n",
              "//      http://www.apache.org/licenses/LICENSE-2.0\n",
              "//\n",
              "// Unless required by applicable law or agreed to in writing, software\n",
              "// distributed under the License is distributed on an \"AS IS\" BASIS,\n",
              "// WITHOUT WARRANTIES OR CONDITIONS OF ANY KIND, either express or implied.\n",
              "// See the License for the specific language governing permissions and\n",
              "// limitations under the License.\n",
              "\n",
              "/**\n",
              " * @fileoverview Helpers for google.colab Python module.\n",
              " */\n",
              "(function(scope) {\n",
              "function span(text, styleAttributes = {}) {\n",
              "  const element = document.createElement('span');\n",
              "  element.textContent = text;\n",
              "  for (const key of Object.keys(styleAttributes)) {\n",
              "    element.style[key] = styleAttributes[key];\n",
              "  }\n",
              "  return element;\n",
              "}\n",
              "\n",
              "// Max number of bytes which will be uploaded at a time.\n",
              "const MAX_PAYLOAD_SIZE = 100 * 1024;\n",
              "\n",
              "function _uploadFiles(inputId, outputId) {\n",
              "  const steps = uploadFilesStep(inputId, outputId);\n",
              "  const outputElement = document.getElementById(outputId);\n",
              "  // Cache steps on the outputElement to make it available for the next call\n",
              "  // to uploadFilesContinue from Python.\n",
              "  outputElement.steps = steps;\n",
              "\n",
              "  return _uploadFilesContinue(outputId);\n",
              "}\n",
              "\n",
              "// This is roughly an async generator (not supported in the browser yet),\n",
              "// where there are multiple asynchronous steps and the Python side is going\n",
              "// to poll for completion of each step.\n",
              "// This uses a Promise to block the python side on completion of each step,\n",
              "// then passes the result of the previous step as the input to the next step.\n",
              "function _uploadFilesContinue(outputId) {\n",
              "  const outputElement = document.getElementById(outputId);\n",
              "  const steps = outputElement.steps;\n",
              "\n",
              "  const next = steps.next(outputElement.lastPromiseValue);\n",
              "  return Promise.resolve(next.value.promise).then((value) => {\n",
              "    // Cache the last promise value to make it available to the next\n",
              "    // step of the generator.\n",
              "    outputElement.lastPromiseValue = value;\n",
              "    return next.value.response;\n",
              "  });\n",
              "}\n",
              "\n",
              "/**\n",
              " * Generator function which is called between each async step of the upload\n",
              " * process.\n",
              " * @param {string} inputId Element ID of the input file picker element.\n",
              " * @param {string} outputId Element ID of the output display.\n",
              " * @return {!Iterable<!Object>} Iterable of next steps.\n",
              " */\n",
              "function* uploadFilesStep(inputId, outputId) {\n",
              "  const inputElement = document.getElementById(inputId);\n",
              "  inputElement.disabled = false;\n",
              "\n",
              "  const outputElement = document.getElementById(outputId);\n",
              "  outputElement.innerHTML = '';\n",
              "\n",
              "  const pickedPromise = new Promise((resolve) => {\n",
              "    inputElement.addEventListener('change', (e) => {\n",
              "      resolve(e.target.files);\n",
              "    });\n",
              "  });\n",
              "\n",
              "  const cancel = document.createElement('button');\n",
              "  inputElement.parentElement.appendChild(cancel);\n",
              "  cancel.textContent = 'Cancel upload';\n",
              "  const cancelPromise = new Promise((resolve) => {\n",
              "    cancel.onclick = () => {\n",
              "      resolve(null);\n",
              "    };\n",
              "  });\n",
              "\n",
              "  // Wait for the user to pick the files.\n",
              "  const files = yield {\n",
              "    promise: Promise.race([pickedPromise, cancelPromise]),\n",
              "    response: {\n",
              "      action: 'starting',\n",
              "    }\n",
              "  };\n",
              "\n",
              "  cancel.remove();\n",
              "\n",
              "  // Disable the input element since further picks are not allowed.\n",
              "  inputElement.disabled = true;\n",
              "\n",
              "  if (!files) {\n",
              "    return {\n",
              "      response: {\n",
              "        action: 'complete',\n",
              "      }\n",
              "    };\n",
              "  }\n",
              "\n",
              "  for (const file of files) {\n",
              "    const li = document.createElement('li');\n",
              "    li.append(span(file.name, {fontWeight: 'bold'}));\n",
              "    li.append(span(\n",
              "        `(${file.type || 'n/a'}) - ${file.size} bytes, ` +\n",
              "        `last modified: ${\n",
              "            file.lastModifiedDate ? file.lastModifiedDate.toLocaleDateString() :\n",
              "                                    'n/a'} - `));\n",
              "    const percent = span('0% done');\n",
              "    li.appendChild(percent);\n",
              "\n",
              "    outputElement.appendChild(li);\n",
              "\n",
              "    const fileDataPromise = new Promise((resolve) => {\n",
              "      const reader = new FileReader();\n",
              "      reader.onload = (e) => {\n",
              "        resolve(e.target.result);\n",
              "      };\n",
              "      reader.readAsArrayBuffer(file);\n",
              "    });\n",
              "    // Wait for the data to be ready.\n",
              "    let fileData = yield {\n",
              "      promise: fileDataPromise,\n",
              "      response: {\n",
              "        action: 'continue',\n",
              "      }\n",
              "    };\n",
              "\n",
              "    // Use a chunked sending to avoid message size limits. See b/62115660.\n",
              "    let position = 0;\n",
              "    do {\n",
              "      const length = Math.min(fileData.byteLength - position, MAX_PAYLOAD_SIZE);\n",
              "      const chunk = new Uint8Array(fileData, position, length);\n",
              "      position += length;\n",
              "\n",
              "      const base64 = btoa(String.fromCharCode.apply(null, chunk));\n",
              "      yield {\n",
              "        response: {\n",
              "          action: 'append',\n",
              "          file: file.name,\n",
              "          data: base64,\n",
              "        },\n",
              "      };\n",
              "\n",
              "      let percentDone = fileData.byteLength === 0 ?\n",
              "          100 :\n",
              "          Math.round((position / fileData.byteLength) * 100);\n",
              "      percent.textContent = `${percentDone}% done`;\n",
              "\n",
              "    } while (position < fileData.byteLength);\n",
              "  }\n",
              "\n",
              "  // All done.\n",
              "  yield {\n",
              "    response: {\n",
              "      action: 'complete',\n",
              "    }\n",
              "  };\n",
              "}\n",
              "\n",
              "scope.google = scope.google || {};\n",
              "scope.google.colab = scope.google.colab || {};\n",
              "scope.google.colab._files = {\n",
              "  _uploadFiles,\n",
              "  _uploadFilesContinue,\n",
              "};\n",
              "})(self);\n",
              "</script> "
            ]
          },
          "metadata": {}
        },
        {
          "output_type": "error",
          "ename": "KeyboardInterrupt",
          "evalue": "",
          "traceback": [
            "\u001b[0;31m---------------------------------------------------------------------------\u001b[0m",
            "\u001b[0;31mFileNotFoundError\u001b[0m                         Traceback (most recent call last)",
            "\u001b[0;32m<ipython-input-63-51021b4f5021>\u001b[0m in \u001b[0;36m<cell line: 0>\u001b[0;34m()\u001b[0m\n\u001b[1;32m      4\u001b[0m \u001b[0;32mtry\u001b[0m\u001b[0;34m:\u001b[0m\u001b[0;34m\u001b[0m\u001b[0;34m\u001b[0m\u001b[0m\n\u001b[0;32m----> 5\u001b[0;31m     \u001b[0mtest_data\u001b[0m \u001b[0;34m=\u001b[0m \u001b[0mpd\u001b[0m\u001b[0;34m.\u001b[0m\u001b[0mread_csv\u001b[0m\u001b[0;34m(\u001b[0m\u001b[0;34m'/content/test.csv'\u001b[0m\u001b[0;34m)\u001b[0m\u001b[0;34m\u001b[0m\u001b[0;34m\u001b[0m\u001b[0m\n\u001b[0m\u001b[1;32m      6\u001b[0m     \u001b[0mprint\u001b[0m\u001b[0;34m(\u001b[0m\u001b[0;34mf\"Test data loaded: {test_data.shape} rows\"\u001b[0m\u001b[0;34m)\u001b[0m\u001b[0;34m\u001b[0m\u001b[0;34m\u001b[0m\u001b[0m\n",
            "\u001b[0;32m/usr/local/lib/python3.11/dist-packages/pandas/io/parsers/readers.py\u001b[0m in \u001b[0;36mread_csv\u001b[0;34m(filepath_or_buffer, sep, delimiter, header, names, index_col, usecols, dtype, engine, converters, true_values, false_values, skipinitialspace, skiprows, skipfooter, nrows, na_values, keep_default_na, na_filter, verbose, skip_blank_lines, parse_dates, infer_datetime_format, keep_date_col, date_parser, date_format, dayfirst, cache_dates, iterator, chunksize, compression, thousands, decimal, lineterminator, quotechar, quoting, doublequote, escapechar, comment, encoding, encoding_errors, dialect, on_bad_lines, delim_whitespace, low_memory, memory_map, float_precision, storage_options, dtype_backend)\u001b[0m\n\u001b[1;32m   1025\u001b[0m \u001b[0;34m\u001b[0m\u001b[0m\n\u001b[0;32m-> 1026\u001b[0;31m     \u001b[0;32mreturn\u001b[0m \u001b[0m_read\u001b[0m\u001b[0;34m(\u001b[0m\u001b[0mfilepath_or_buffer\u001b[0m\u001b[0;34m,\u001b[0m \u001b[0mkwds\u001b[0m\u001b[0;34m)\u001b[0m\u001b[0;34m\u001b[0m\u001b[0;34m\u001b[0m\u001b[0m\n\u001b[0m\u001b[1;32m   1027\u001b[0m \u001b[0;34m\u001b[0m\u001b[0m\n",
            "\u001b[0;32m/usr/local/lib/python3.11/dist-packages/pandas/io/parsers/readers.py\u001b[0m in \u001b[0;36m_read\u001b[0;34m(filepath_or_buffer, kwds)\u001b[0m\n\u001b[1;32m    619\u001b[0m     \u001b[0;31m# Create the parser.\u001b[0m\u001b[0;34m\u001b[0m\u001b[0;34m\u001b[0m\u001b[0m\n\u001b[0;32m--> 620\u001b[0;31m     \u001b[0mparser\u001b[0m \u001b[0;34m=\u001b[0m \u001b[0mTextFileReader\u001b[0m\u001b[0;34m(\u001b[0m\u001b[0mfilepath_or_buffer\u001b[0m\u001b[0;34m,\u001b[0m \u001b[0;34m**\u001b[0m\u001b[0mkwds\u001b[0m\u001b[0;34m)\u001b[0m\u001b[0;34m\u001b[0m\u001b[0;34m\u001b[0m\u001b[0m\n\u001b[0m\u001b[1;32m    621\u001b[0m \u001b[0;34m\u001b[0m\u001b[0m\n",
            "\u001b[0;32m/usr/local/lib/python3.11/dist-packages/pandas/io/parsers/readers.py\u001b[0m in \u001b[0;36m__init__\u001b[0;34m(self, f, engine, **kwds)\u001b[0m\n\u001b[1;32m   1619\u001b[0m         \u001b[0mself\u001b[0m\u001b[0;34m.\u001b[0m\u001b[0mhandles\u001b[0m\u001b[0;34m:\u001b[0m \u001b[0mIOHandles\u001b[0m \u001b[0;34m|\u001b[0m \u001b[0;32mNone\u001b[0m \u001b[0;34m=\u001b[0m \u001b[0;32mNone\u001b[0m\u001b[0;34m\u001b[0m\u001b[0;34m\u001b[0m\u001b[0m\n\u001b[0;32m-> 1620\u001b[0;31m         \u001b[0mself\u001b[0m\u001b[0;34m.\u001b[0m\u001b[0m_engine\u001b[0m \u001b[0;34m=\u001b[0m \u001b[0mself\u001b[0m\u001b[0;34m.\u001b[0m\u001b[0m_make_engine\u001b[0m\u001b[0;34m(\u001b[0m\u001b[0mf\u001b[0m\u001b[0;34m,\u001b[0m \u001b[0mself\u001b[0m\u001b[0;34m.\u001b[0m\u001b[0mengine\u001b[0m\u001b[0;34m)\u001b[0m\u001b[0;34m\u001b[0m\u001b[0;34m\u001b[0m\u001b[0m\n\u001b[0m\u001b[1;32m   1621\u001b[0m \u001b[0;34m\u001b[0m\u001b[0m\n",
            "\u001b[0;32m/usr/local/lib/python3.11/dist-packages/pandas/io/parsers/readers.py\u001b[0m in \u001b[0;36m_make_engine\u001b[0;34m(self, f, engine)\u001b[0m\n\u001b[1;32m   1879\u001b[0m                     \u001b[0mmode\u001b[0m \u001b[0;34m+=\u001b[0m \u001b[0;34m\"b\"\u001b[0m\u001b[0;34m\u001b[0m\u001b[0;34m\u001b[0m\u001b[0m\n\u001b[0;32m-> 1880\u001b[0;31m             self.handles = get_handle(\n\u001b[0m\u001b[1;32m   1881\u001b[0m                 \u001b[0mf\u001b[0m\u001b[0;34m,\u001b[0m\u001b[0;34m\u001b[0m\u001b[0;34m\u001b[0m\u001b[0m\n",
            "\u001b[0;32m/usr/local/lib/python3.11/dist-packages/pandas/io/common.py\u001b[0m in \u001b[0;36mget_handle\u001b[0;34m(path_or_buf, mode, encoding, compression, memory_map, is_text, errors, storage_options)\u001b[0m\n\u001b[1;32m    872\u001b[0m             \u001b[0;31m# Encoding\u001b[0m\u001b[0;34m\u001b[0m\u001b[0;34m\u001b[0m\u001b[0m\n\u001b[0;32m--> 873\u001b[0;31m             handle = open(\n\u001b[0m\u001b[1;32m    874\u001b[0m                 \u001b[0mhandle\u001b[0m\u001b[0;34m,\u001b[0m\u001b[0;34m\u001b[0m\u001b[0;34m\u001b[0m\u001b[0m\n",
            "\u001b[0;31mFileNotFoundError\u001b[0m: [Errno 2] No such file or directory: '/content/test.csv'",
            "\nDuring handling of the above exception, another exception occurred:\n",
            "\u001b[0;31mKeyboardInterrupt\u001b[0m                         Traceback (most recent call last)",
            "\u001b[0;32m<ipython-input-63-51021b4f5021>\u001b[0m in \u001b[0;36m<cell line: 0>\u001b[0;34m()\u001b[0m\n\u001b[1;32m      8\u001b[0m     \u001b[0mprint\u001b[0m\u001b[0;34m(\u001b[0m\u001b[0;34m\"Test data file not found. Please upload the 'test.csv' file.\"\u001b[0m\u001b[0;34m)\u001b[0m\u001b[0;34m\u001b[0m\u001b[0;34m\u001b[0m\u001b[0m\n\u001b[1;32m      9\u001b[0m     \u001b[0;32mfrom\u001b[0m \u001b[0mgoogle\u001b[0m\u001b[0;34m.\u001b[0m\u001b[0mcolab\u001b[0m \u001b[0;32mimport\u001b[0m \u001b[0mfiles\u001b[0m\u001b[0;34m\u001b[0m\u001b[0;34m\u001b[0m\u001b[0m\n\u001b[0;32m---> 10\u001b[0;31m     \u001b[0muploaded\u001b[0m \u001b[0;34m=\u001b[0m \u001b[0mfiles\u001b[0m\u001b[0;34m.\u001b[0m\u001b[0mupload\u001b[0m\u001b[0;34m(\u001b[0m\u001b[0;34m)\u001b[0m\u001b[0;34m\u001b[0m\u001b[0;34m\u001b[0m\u001b[0m\n\u001b[0m\u001b[1;32m     11\u001b[0m     \u001b[0mtest_data\u001b[0m \u001b[0;34m=\u001b[0m \u001b[0mpd\u001b[0m\u001b[0;34m.\u001b[0m\u001b[0mread_csv\u001b[0m\u001b[0;34m(\u001b[0m\u001b[0;34m'test.csv'\u001b[0m\u001b[0;34m)\u001b[0m\u001b[0;34m\u001b[0m\u001b[0;34m\u001b[0m\u001b[0m\n\u001b[1;32m     12\u001b[0m \u001b[0;34m\u001b[0m\u001b[0m\n",
            "\u001b[0;32m/usr/local/lib/python3.11/dist-packages/google/colab/files.py\u001b[0m in \u001b[0;36mupload\u001b[0;34m(target_dir)\u001b[0m\n\u001b[1;32m     70\u001b[0m   \"\"\"\n\u001b[1;32m     71\u001b[0m \u001b[0;34m\u001b[0m\u001b[0m\n\u001b[0;32m---> 72\u001b[0;31m   \u001b[0muploaded_files\u001b[0m \u001b[0;34m=\u001b[0m \u001b[0m_upload_files\u001b[0m\u001b[0;34m(\u001b[0m\u001b[0mmultiple\u001b[0m\u001b[0;34m=\u001b[0m\u001b[0;32mTrue\u001b[0m\u001b[0;34m)\u001b[0m\u001b[0;34m\u001b[0m\u001b[0;34m\u001b[0m\u001b[0m\n\u001b[0m\u001b[1;32m     73\u001b[0m   \u001b[0;31m# Mapping from original filename to filename as saved locally.\u001b[0m\u001b[0;34m\u001b[0m\u001b[0;34m\u001b[0m\u001b[0m\n\u001b[1;32m     74\u001b[0m   \u001b[0mlocal_filenames\u001b[0m \u001b[0;34m=\u001b[0m \u001b[0mdict\u001b[0m\u001b[0;34m(\u001b[0m\u001b[0;34m)\u001b[0m\u001b[0;34m\u001b[0m\u001b[0;34m\u001b[0m\u001b[0m\n",
            "\u001b[0;32m/usr/local/lib/python3.11/dist-packages/google/colab/files.py\u001b[0m in \u001b[0;36m_upload_files\u001b[0;34m(multiple)\u001b[0m\n\u001b[1;32m    162\u001b[0m \u001b[0;34m\u001b[0m\u001b[0m\n\u001b[1;32m    163\u001b[0m   \u001b[0;31m# First result is always an indication that the file picker has completed.\u001b[0m\u001b[0;34m\u001b[0m\u001b[0;34m\u001b[0m\u001b[0m\n\u001b[0;32m--> 164\u001b[0;31m   result = _output.eval_js(\n\u001b[0m\u001b[1;32m    165\u001b[0m       'google.colab._files._uploadFiles(\"{input_id}\", \"{output_id}\")'.format(\n\u001b[1;32m    166\u001b[0m           \u001b[0minput_id\u001b[0m\u001b[0;34m=\u001b[0m\u001b[0minput_id\u001b[0m\u001b[0;34m,\u001b[0m \u001b[0moutput_id\u001b[0m\u001b[0;34m=\u001b[0m\u001b[0moutput_id\u001b[0m\u001b[0;34m\u001b[0m\u001b[0;34m\u001b[0m\u001b[0m\n",
            "\u001b[0;32m/usr/local/lib/python3.11/dist-packages/google/colab/output/_js.py\u001b[0m in \u001b[0;36meval_js\u001b[0;34m(script, ignore_result, timeout_sec)\u001b[0m\n\u001b[1;32m     38\u001b[0m   \u001b[0;32mif\u001b[0m \u001b[0mignore_result\u001b[0m\u001b[0;34m:\u001b[0m\u001b[0;34m\u001b[0m\u001b[0;34m\u001b[0m\u001b[0m\n\u001b[1;32m     39\u001b[0m     \u001b[0;32mreturn\u001b[0m\u001b[0;34m\u001b[0m\u001b[0;34m\u001b[0m\u001b[0m\n\u001b[0;32m---> 40\u001b[0;31m   \u001b[0;32mreturn\u001b[0m \u001b[0m_message\u001b[0m\u001b[0;34m.\u001b[0m\u001b[0mread_reply_from_input\u001b[0m\u001b[0;34m(\u001b[0m\u001b[0mrequest_id\u001b[0m\u001b[0;34m,\u001b[0m \u001b[0mtimeout_sec\u001b[0m\u001b[0;34m)\u001b[0m\u001b[0;34m\u001b[0m\u001b[0;34m\u001b[0m\u001b[0m\n\u001b[0m\u001b[1;32m     41\u001b[0m \u001b[0;34m\u001b[0m\u001b[0m\n\u001b[1;32m     42\u001b[0m \u001b[0;34m\u001b[0m\u001b[0m\n",
            "\u001b[0;32m/usr/local/lib/python3.11/dist-packages/google/colab/_message.py\u001b[0m in \u001b[0;36mread_reply_from_input\u001b[0;34m(message_id, timeout_sec)\u001b[0m\n\u001b[1;32m     94\u001b[0m     \u001b[0mreply\u001b[0m \u001b[0;34m=\u001b[0m \u001b[0m_read_next_input_message\u001b[0m\u001b[0;34m(\u001b[0m\u001b[0;34m)\u001b[0m\u001b[0;34m\u001b[0m\u001b[0;34m\u001b[0m\u001b[0m\n\u001b[1;32m     95\u001b[0m     \u001b[0;32mif\u001b[0m \u001b[0mreply\u001b[0m \u001b[0;34m==\u001b[0m \u001b[0m_NOT_READY\u001b[0m \u001b[0;32mor\u001b[0m \u001b[0;32mnot\u001b[0m \u001b[0misinstance\u001b[0m\u001b[0;34m(\u001b[0m\u001b[0mreply\u001b[0m\u001b[0;34m,\u001b[0m \u001b[0mdict\u001b[0m\u001b[0;34m)\u001b[0m\u001b[0;34m:\u001b[0m\u001b[0;34m\u001b[0m\u001b[0;34m\u001b[0m\u001b[0m\n\u001b[0;32m---> 96\u001b[0;31m       \u001b[0mtime\u001b[0m\u001b[0;34m.\u001b[0m\u001b[0msleep\u001b[0m\u001b[0;34m(\u001b[0m\u001b[0;36m0.025\u001b[0m\u001b[0;34m)\u001b[0m\u001b[0;34m\u001b[0m\u001b[0;34m\u001b[0m\u001b[0m\n\u001b[0m\u001b[1;32m     97\u001b[0m       \u001b[0;32mcontinue\u001b[0m\u001b[0;34m\u001b[0m\u001b[0;34m\u001b[0m\u001b[0m\n\u001b[1;32m     98\u001b[0m     if (\n",
            "\u001b[0;31mKeyboardInterrupt\u001b[0m: "
          ]
        }
      ]
    },
    {
      "cell_type": "code",
      "source": [
        "# Cell 46: Summary and conclusions\n",
        "print(\"\"\"\n",
        "Project Summary:\n",
        "---------------\n",
        "1. Preprocessing:\n",
        "   - Cleaned text (removed URLs, special characters, etc.)\n",
        "   - Removed stopwords\n",
        "   - Applied lemmatization\n",
        "\n",
        "2. Feature Engineering:\n",
        "   - Bag of Words (BoW)\n",
        "   - TF-IDF\n",
        "   - Word2Vec\n",
        "\n",
        "3. Models Trained:\n",
        "   - KNN with TF-IDF\n",
        "   - KNN with Word2Vec\n",
        "   - [Optional] LSTM\n",
        "\n",
        "4. Best Performing Model:\n",
        "   [Fill in based on your results]\n",
        "\n",
        "Future Work:\n",
        "-----------\n",
        "1. Fine-tune hyperparameters (e.g., k in KNN, LSTM architecture)\n",
        "2. Try more advanced transformer models like BERT\n",
        "3. Experiment with ensemble methods\n",
        "4. Implement additional preprocessing techniques\n",
        "\n",
        "The predictions are saved in 'pred_XX.csv' and ready for submission.\n",
        "\"\"\")"
      ],
      "metadata": {
        "id": "AudGjR56gMEf"
      },
      "id": "AudGjR56gMEf",
      "execution_count": null,
      "outputs": []
    },
    {
      "cell_type": "code",
      "source": [],
      "metadata": {
        "id": "s41_dIAngWsi"
      },
      "id": "s41_dIAngWsi",
      "execution_count": null,
      "outputs": []
    }
  ],
  "metadata": {
    "kernelspec": {
      "display_name": "DM2024",
      "language": "python",
      "name": "python3"
    },
    "language_info": {
      "codemirror_mode": {
        "name": "ipython",
        "version": 3
      },
      "file_extension": ".py",
      "mimetype": "text/x-python",
      "name": "python",
      "nbconvert_exporter": "python",
      "pygments_lexer": "ipython3",
      "version": "3.12.2"
    },
    "colab": {
      "provenance": [],
      "toc_visible": true
    }
  },
  "nbformat": 4,
  "nbformat_minor": 5
}