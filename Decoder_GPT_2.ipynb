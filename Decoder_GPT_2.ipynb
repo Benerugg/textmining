{
  "nbformat": 4,
  "nbformat_minor": 0,
  "metadata": {
    "colab": {
      "provenance": [],
      "gpuType": "T4"
    },
    "kernelspec": {
      "name": "python3",
      "display_name": "Python 3"
    },
    "language_info": {
      "name": "python"
    },
    "accelerator": "GPU"
  },
  "cells": [
    {
      "cell_type": "code",
      "execution_count": 84,
      "metadata": {
        "id": "n2BQ7OK3P8Nk"
      },
      "outputs": [],
      "source": [
        "# !pip install transformers datasets scikit-learn pandas torch\n",
        "# !pip install accelerate"
      ]
    },
    {
      "cell_type": "code",
      "source": [
        "# !pip uninstall -y transformers\n",
        "# !pip install transformers\n"
      ],
      "metadata": {
        "id": "jur02WU5gNi8"
      },
      "execution_count": 85,
      "outputs": []
    },
    {
      "cell_type": "code",
      "source": [
        "# !pip install transformers[torch] --force-reinstall"
      ],
      "metadata": {
        "id": "lb1n4gTohEAl"
      },
      "execution_count": 86,
      "outputs": []
    },
    {
      "cell_type": "code",
      "source": [
        "import pandas as pd\n",
        "import numpy as np\n",
        "import matplotlib.pyplot as plt\n",
        "import torch\n",
        "import re\n",
        "from sklearn.model_selection import train_test_split\n",
        "from sklearn.metrics import accuracy_score, precision_recall_fscore_support\n",
        "from transformers import GPT2Tokenizer, GPT2ForSequenceClassification, Trainer, TrainingArguments,TrainerCallback, EarlyStoppingCallback"
      ],
      "metadata": {
        "id": "FmC-wlJ4QsZ2"
      },
      "execution_count": 87,
      "outputs": []
    },
    {
      "cell_type": "code",
      "source": [
        "# Load train and test data\n",
        "train_df = pd.read_csv(\"train.csv\")\n",
        "test_df = pd.read_csv(\"test.csv\")"
      ],
      "metadata": {
        "id": "UPbDs-d4Qt5b"
      },
      "execution_count": 88,
      "outputs": []
    },
    {
      "cell_type": "code",
      "source": [
        "print(train_df.head())\n",
        "print(test_df.head())"
      ],
      "metadata": {
        "id": "QXFnD0xWQwTD",
        "colab": {
          "base_uri": "https://localhost:8080/"
        },
        "outputId": "5ca1a955-0aa7-408a-81dc-32b26ccdbf8a"
      },
      "execution_count": 89,
      "outputs": [
        {
          "output_type": "stream",
          "name": "stdout",
          "text": [
            "                                                text  label\n",
            "0  $BYND - JPMorgan reels in expectations on Beyo...      0\n",
            "1  $CCL $RCL - Nomura points to bookings weakness...      0\n",
            "2  $CX - Cemex cut at Credit Suisse, J.P. Morgan ...      0\n",
            "3  $ESS: BTIG Research cuts to Neutral https://t....      0\n",
            "4  $FNKO - Funko slides after Piper Jaffray PT cu...      0\n",
            "   id                                               text\n",
            "0   0  ETF assets to surge tenfold in 10 years to $50...\n",
            "1   1  Here’s What Hedge Funds Think Evolution Petrol...\n",
            "2   2  $PVH - Phillips-Van Heusen Q3 2020 Earnings Pr...\n",
            "3   3  China is in the process of waiving retaliatory...\n",
            "4   4  Highlight: “When growth is scarce, investors s...\n"
          ]
        }
      ]
    },
    {
      "cell_type": "markdown",
      "source": [
        "We perform basic data preprocessing that was applied in the preprocessing file as well, the only difference is that we do not remove non-alphanumeric characters becuase we want to preserve emojis, punctuation, and special characters - thats how GPT2 was trained."
      ],
      "metadata": {
        "id": "w55MAd8zRfRW"
      }
    },
    {
      "cell_type": "code",
      "source": [
        "def clean_text_gpt2(text):\n",
        "    text = str(text)\n",
        "    text = text.lower()\n",
        "    text = re.sub(r'http\\S+|www\\S+|https\\S+', '', text)\n",
        "    text = re.sub(r'@\\w+', '', text)\n",
        "    text = re.sub(r'#(\\w+)', r'\\1', text)\n",
        "    text = re.sub(r'\\s+', ' ', text).strip()\n",
        "    return text\n"
      ],
      "metadata": {
        "id": "YCfgIs-oQzRL"
      },
      "execution_count": 90,
      "outputs": []
    },
    {
      "cell_type": "code",
      "source": [
        "# Applying the preprocessing\n",
        "train_df['text'] = train_df['text'].apply(clean_text_gpt2)\n",
        "test_df['text'] = test_df['text'].apply(clean_text_gpt2)"
      ],
      "metadata": {
        "id": "6N5J1-spR8cB"
      },
      "execution_count": 91,
      "outputs": []
    },
    {
      "cell_type": "code",
      "source": [
        "# Prepare GPT-2 tokenizer\n",
        "tokenizer = GPT2Tokenizer.from_pretrained(\"gpt2\")\n",
        "tokenizer.pad_token = tokenizer.eos_token  # GPT2 has no pad token so we have to implement as well to ensure that every"
      ],
      "metadata": {
        "id": "B8JBfmOvTW_d"
      },
      "execution_count": 92,
      "outputs": []
    },
    {
      "cell_type": "code",
      "source": [
        "# Spliting train into train and validation\n",
        "train_texts, val_texts, train_labels, val_labels = train_test_split(\n",
        "    train_df['text'].tolist(),\n",
        "    train_df['label'].tolist(),\n",
        "    test_size=0.2,\n",
        "    random_state=42,\n",
        "    stratify=train_df['label'].tolist()\n",
        ")"
      ],
      "metadata": {
        "id": "bhWfzC8vTixp"
      },
      "execution_count": 93,
      "outputs": []
    },
    {
      "cell_type": "code",
      "source": [
        "# Tokenize the data\n",
        "train_encodings = tokenizer(train_texts, truncation=True, padding=True, max_length=128)\n",
        "val_encodings = tokenizer(val_texts, truncation=True, padding=True, max_length=128)\n",
        "test_encodings = tokenizer(test_df['text'].tolist(), truncation=True, padding=True, max_length=128)"
      ],
      "metadata": {
        "id": "AtlP66YxUa0I"
      },
      "execution_count": 94,
      "outputs": []
    },
    {
      "cell_type": "code",
      "source": [
        "# Dataset class\n",
        "class TweetDataset(torch.utils.data.Dataset):\n",
        "    def __init__(self, encodings, labels=None):\n",
        "        self.encodings = encodings\n",
        "        self.labels = labels\n",
        "\n",
        "    def __getitem__(self, idx):\n",
        "        item = {key: torch.tensor(val[idx]) for key, val in self.encodings.items()}\n",
        "        if self.labels is not None:\n",
        "            item['labels'] = torch.tensor(self.labels[idx])\n",
        "        return item\n",
        "\n",
        "    def __len__(self):\n",
        "        return len(self.encodings['input_ids'])"
      ],
      "metadata": {
        "id": "hsUX6nr7Uasn"
      },
      "execution_count": 95,
      "outputs": []
    },
    {
      "cell_type": "code",
      "source": [
        "from transformers import TrainerCallback\n",
        "\n",
        "# Custom callback to store losses and metrics\n",
        "class LossAndMetricsLogger(TrainerCallback):\n",
        "    def __init__(self):\n",
        "        self.train_losses = []\n",
        "        self.eval_losses = []\n",
        "        self.eval_accuracies = []\n",
        "        self.eval_f1s = []\n",
        "\n",
        "    def on_log(self, args, state, control, logs=None, **kwargs):\n",
        "        if logs is not None:\n",
        "            if 'loss' in logs:\n",
        "                self.train_losses.append(logs['loss'])\n",
        "            if 'eval_loss' in logs:\n",
        "                self.eval_losses.append(logs['eval_loss'])\n",
        "            if 'eval_accuracy' in logs:\n",
        "                self.eval_accuracies.append(logs['eval_accuracy'])\n",
        "            if 'eval_f1' in logs:\n",
        "                self.eval_f1s.append(logs['eval_f1'])\n",
        "\n",
        "logger = LossAndMetricsLogger()"
      ],
      "metadata": {
        "id": "FZkUCp7VmMyz"
      },
      "execution_count": 96,
      "outputs": []
    },
    {
      "cell_type": "code",
      "source": [
        "train_dataset = TweetDataset(train_encodings, train_labels)\n",
        "val_dataset = TweetDataset(val_encodings, val_labels)\n",
        "test_dataset = TweetDataset(test_encodings)"
      ],
      "metadata": {
        "id": "M8wEuNTBUoH_"
      },
      "execution_count": 97,
      "outputs": []
    },
    {
      "cell_type": "code",
      "source": [
        "# Load GPT2 decoder model for classification (we have three labels 0,1,2)\n",
        "model = GPT2ForSequenceClassification.from_pretrained(\"gpt2\", num_labels=3)\n",
        "model.config.pad_token_id = model.config.eos_token_id\n",
        "\n",
        "model.config.hidden_dropout_prob = 0.3\n",
        "model.config.attn_pdrop = 0.3\n",
        "model.config.embd_pdrop = 0.3"
      ],
      "metadata": {
        "id": "pa0AgJiZUo6Q",
        "colab": {
          "base_uri": "https://localhost:8080/"
        },
        "outputId": "efdc4200-f77d-436a-ad17-5ca111844c7d"
      },
      "execution_count": 98,
      "outputs": [
        {
          "output_type": "stream",
          "name": "stderr",
          "text": [
            "Some weights of GPT2ForSequenceClassification were not initialized from the model checkpoint at gpt2 and are newly initialized: ['score.weight']\n",
            "You should probably TRAIN this model on a down-stream task to be able to use it for predictions and inference.\n"
          ]
        }
      ]
    },
    {
      "cell_type": "code",
      "source": [
        "# Evaluation Metrics - we are using macrof1 score because our labels are inbalanced\n",
        "def compute_metrics(pred):\n",
        "    labels = pred.label_ids\n",
        "    preds = np.argmax(pred.predictions, axis=1)\n",
        "    precision, recall, f1, _ = precision_recall_fscore_support(labels, preds, average='macro')\n",
        "    acc = accuracy_score(labels, preds)\n",
        "    return {\n",
        "        'accuracy': acc,\n",
        "        'f1': f1,\n",
        "        'precision': precision,\n",
        "        'recall': recall\n",
        "    }"
      ],
      "metadata": {
        "id": "Wzo8UaPMVP3w"
      },
      "execution_count": 99,
      "outputs": []
    },
    {
      "cell_type": "code",
      "source": [
        "# Training arguments\n",
        "training_args = TrainingArguments(\n",
        "    output_dir=\"./results\",\n",
        "    eval_strategy=\"epoch\",\n",
        "    save_strategy=\"epoch\",\n",
        "    num_train_epochs=10,\n",
        "    per_device_train_batch_size=8,\n",
        "    per_device_eval_batch_size=8,\n",
        "    warmup_steps=100,\n",
        "    learning_rate=5e-5,\n",
        "    weight_decay=0.05,\n",
        "    logging_dir=\"./logs\",\n",
        "    logging_steps=10,\n",
        "    load_best_model_at_end=True,\n",
        "    metric_for_best_model=\"f1\", # we are considering macro f1 score for evaluation of the best model\n",
        "    save_total_limit=1\n",
        ")\n",
        "\n",
        "# Trainer\n",
        "trainer = Trainer(\n",
        "    model=model,\n",
        "    args=training_args,\n",
        "    train_dataset=train_dataset,\n",
        "    eval_dataset=val_dataset,\n",
        "    compute_metrics=compute_metrics,\n",
        "    callbacks=[logger, EarlyStoppingCallback(early_stopping_patience=2)]\n",
        ")"
      ],
      "metadata": {
        "id": "a7cgLptm4XAG"
      },
      "execution_count": 105,
      "outputs": []
    },
    {
      "cell_type": "code",
      "source": [
        "trainer.train()"
      ],
      "metadata": {
        "colab": {
          "base_uri": "https://localhost:8080/",
          "height": 254
        },
        "id": "lQgBSgya4-uC",
        "outputId": "8e50d8b6-d0dc-4a29-b184-a429cff06123"
      },
      "execution_count": 106,
      "outputs": [
        {
          "output_type": "display_data",
          "data": {
            "text/plain": [
              "<IPython.core.display.HTML object>"
            ],
            "text/html": [
              "\n",
              "    <div>\n",
              "      \n",
              "      <progress value='3820' max='9550' style='width:300px; height:20px; vertical-align: middle;'></progress>\n",
              "      [3820/9550 15:02 < 22:34, 4.23 it/s, Epoch 4/10]\n",
              "    </div>\n",
              "    <table border=\"1\" class=\"dataframe\">\n",
              "  <thead>\n",
              " <tr style=\"text-align: left;\">\n",
              "      <th>Epoch</th>\n",
              "      <th>Training Loss</th>\n",
              "      <th>Validation Loss</th>\n",
              "      <th>Accuracy</th>\n",
              "      <th>F1</th>\n",
              "      <th>Precision</th>\n",
              "      <th>Recall</th>\n",
              "    </tr>\n",
              "  </thead>\n",
              "  <tbody>\n",
              "    <tr>\n",
              "      <td>1</td>\n",
              "      <td>0.336000</td>\n",
              "      <td>0.478218</td>\n",
              "      <td>0.834992</td>\n",
              "      <td>0.790465</td>\n",
              "      <td>0.781947</td>\n",
              "      <td>0.803962</td>\n",
              "    </tr>\n",
              "    <tr>\n",
              "      <td>2</td>\n",
              "      <td>0.364700</td>\n",
              "      <td>0.430558</td>\n",
              "      <td>0.858565</td>\n",
              "      <td>0.808546</td>\n",
              "      <td>0.832378</td>\n",
              "      <td>0.792220</td>\n",
              "    </tr>\n",
              "    <tr>\n",
              "      <td>3</td>\n",
              "      <td>0.434600</td>\n",
              "      <td>0.693705</td>\n",
              "      <td>0.848612</td>\n",
              "      <td>0.803426</td>\n",
              "      <td>0.800731</td>\n",
              "      <td>0.807235</td>\n",
              "    </tr>\n",
              "    <tr>\n",
              "      <td>4</td>\n",
              "      <td>0.095900</td>\n",
              "      <td>0.893581</td>\n",
              "      <td>0.844945</td>\n",
              "      <td>0.808093</td>\n",
              "      <td>0.789299</td>\n",
              "      <td>0.831992</td>\n",
              "    </tr>\n",
              "  </tbody>\n",
              "</table><p>"
            ]
          },
          "metadata": {}
        },
        {
          "output_type": "execute_result",
          "data": {
            "text/plain": [
              "TrainOutput(global_step=3820, training_loss=0.38697695289957895, metrics={'train_runtime': 902.5077, 'train_samples_per_second': 84.587, 'train_steps_per_second': 10.582, 'total_flos': 1589572307017728.0, 'train_loss': 0.38697695289957895, 'epoch': 4.0})"
            ]
          },
          "metadata": {},
          "execution_count": 106
        }
      ]
    },
    {
      "cell_type": "code",
      "source": [
        "# Evaluate\n",
        "results = trainer.evaluate()\n",
        "print(\"Validation Results:\", results)\n",
        "\n",
        "# Predict on test set\n",
        "predictions = trainer.predict(test_dataset)\n",
        "preds = np.argmax(predictions.predictions, axis=1)"
      ],
      "metadata": {
        "id": "OWZst3EzTWzx",
        "colab": {
          "base_uri": "https://localhost:8080/",
          "height": 55
        },
        "outputId": "9dc5dacf-6a7f-4c6a-e7e1-79d03e3150a2"
      },
      "execution_count": 107,
      "outputs": [
        {
          "output_type": "display_data",
          "data": {
            "text/plain": [
              "<IPython.core.display.HTML object>"
            ],
            "text/html": []
          },
          "metadata": {}
        },
        {
          "output_type": "stream",
          "name": "stdout",
          "text": [
            "Validation Results: {'eval_loss': 0.4305581748485565, 'eval_accuracy': 0.8585646935568361, 'eval_f1': 0.8085464604152129, 'eval_precision': 0.8323781565265632, 'eval_recall': 0.7922200799021187, 'eval_runtime': 8.4953, 'eval_samples_per_second': 224.712, 'eval_steps_per_second': 28.133, 'epoch': 4.0}\n"
          ]
        }
      ]
    },
    {
      "cell_type": "code",
      "source": [
        "# File with test label for submission\n",
        "test_df['label'] = preds\n",
        "test_df[['id','label']].to_csv(\"pred_decoder.csv\", index=False)\n",
        "\n",
        "print(\"Prediction file saved as pred_decoder.csv\")"
      ],
      "metadata": {
        "colab": {
          "base_uri": "https://localhost:8080/"
        },
        "id": "FdhwNNMliCak",
        "outputId": "c1783876-9cb9-4b61-a789-97221e663eca"
      },
      "execution_count": 108,
      "outputs": [
        {
          "output_type": "stream",
          "name": "stdout",
          "text": [
            "Prediction file saved as pred_decoder.csv\n"
          ]
        }
      ]
    },
    {
      "cell_type": "code",
      "source": [
        "# Calculate train losses per epoch\n",
        "train_steps_per_epoch = len(logger.train_losses) // len(logger.eval_losses)\n",
        "train_losses_epoch = [\n",
        "    np.mean(logger.train_losses[i*train_steps_per_epoch : (i+1)*train_steps_per_epoch])\n",
        "    for i in range(len(logger.eval_losses))\n",
        "]\n",
        "epochs = range(1, len(logger.eval_losses) + 1)\n",
        "\n",
        "plt.figure(figsize=(18, 5))\n",
        "\n",
        "plt.subplot(1, 3, 1)\n",
        "plt.plot(epochs, train_losses_epoch, label=\"Train Loss\", marker='o')\n",
        "plt.plot(epochs, logger.eval_losses, label=\"Validation Loss\", marker='o')\n",
        "plt.xlabel(\"Epoch\")\n",
        "plt.ylabel(\"Loss\")\n",
        "plt.title(\"Loss\")\n",
        "plt.legend()\n",
        "plt.grid(True)\n"
      ],
      "metadata": {
        "colab": {
          "base_uri": "https://localhost:8080/",
          "height": 487
        },
        "id": "NKoemaMm3ESJ",
        "outputId": "c808b80b-5741-4324-f45f-4a52b9a0e942"
      },
      "execution_count": 110,
      "outputs": [
        {
          "output_type": "display_data",
          "data": {
            "text/plain": [
              "<Figure size 1800x500 with 1 Axes>"
            ],
            "image/png": "[encoded data removed]"
          },
          "metadata": {}
        }
      ]
    }
  ]
}