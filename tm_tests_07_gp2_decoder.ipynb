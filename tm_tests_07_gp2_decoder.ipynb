{
  "cells": [
    {
      "cell_type": "markdown",
      "metadata": {
        "id": "6cM8xPZg-uMx"
      },
      "source": [
        "\n",
        "# GPT-2 Decoder Model for Sentiment Classification (extra task)\n",
        "\n",
        "This notebook implements a sentiment classification pipeline using a decoder-based transformer model (GPT-2).\n",
        "We classify financial tweets into three sentiment categories: **bearish (0), neutral (1), bullish (2)**.\n",
        "The notebook includes steps for data loading, preprocessing, tokenization, model configuration, training, and evaluation.\n",
        "\n",
        "---\n"
      ]
    },
    {
      "cell_type": "code",
      "execution_count": null,
      "metadata": {
        "id": "n2BQ7OK3P8Nk"
      },
      "outputs": [],
      "source": [
        "# !pip install transformers datasets scikit-learn pandas torch\n",
        "# !pip install accelerate"
      ]
    },
    {
      "cell_type": "code",
      "execution_count": null,
      "metadata": {
        "id": "jur02WU5gNi8"
      },
      "outputs": [],
      "source": [
        "# !pip uninstall -y transformers\n",
        "# !pip install transformers\n"
      ]
    },
    {
      "cell_type": "markdown",
      "metadata": {
        "id": "YWWDqWy7xkNe"
      },
      "source": [
        "---"
      ]
    },
    {
      "cell_type": "markdown",
      "metadata": {
        "id": "3JNo80R_-uM0"
      },
      "source": [
        "## Import Required Libraries"
      ]
    },
    {
      "cell_type": "code",
      "execution_count": 1,
      "metadata": {
        "id": "FmC-wlJ4QsZ2"
      },
      "outputs": [],
      "source": [
        "import pandas as pd\n",
        "import numpy as np\n",
        "import matplotlib.pyplot as plt\n",
        "import random\n",
        "import torch\n",
        "import re\n",
        "from sklearn.model_selection import train_test_split\n",
        "from sklearn.metrics import accuracy_score, precision_recall_fscore_support, classification_report, confusion_matrix, ConfusionMatrixDisplay\n",
        "from transformers import GPT2Tokenizer, GPT2ForSequenceClassification, Trainer, TrainingArguments,TrainerCallback, EarlyStoppingCallback"
      ]
    },
    {
      "cell_type": "markdown",
      "metadata": {
        "id": "7AnoKgbqxkNf"
      },
      "source": [
        "---"
      ]
    },
    {
      "cell_type": "markdown",
      "metadata": {
        "id": "7sKf_zvaxkNf"
      },
      "source": [
        "## Set the seed for reproducibility"
      ]
    },
    {
      "cell_type": "code",
      "execution_count": 5,
      "metadata": {
        "id": "6akmGnQFxkNf"
      },
      "outputs": [],
      "source": [
        "def set_seed(seed):\n",
        "    random.seed(seed)\n",
        "    np.random.seed(seed)\n",
        "    torch.manual_seed(seed)\n",
        "    if torch.cuda.is_available():\n",
        "        torch.cuda.manual_seed_all(seed)\n",
        "    torch.backends.cudnn.deterministic = True\n",
        "    torch.backends.cudnn.benchmark = False\n",
        "\n",
        "set_seed(42)\n"
      ]
    },
    {
      "cell_type": "markdown",
      "metadata": {
        "id": "cT3KsGvPxkNf"
      },
      "source": [
        "---"
      ]
    },
    {
      "cell_type": "markdown",
      "metadata": {
        "id": "3mHxndWUxkNf"
      },
      "source": [
        "## Load the dataset"
      ]
    },
    {
      "cell_type": "code",
      "execution_count": 27,
      "metadata": {
        "id": "UPbDs-d4Qt5b"
      },
      "outputs": [],
      "source": [
        "# Load train and test data\n",
        "train_df = pd.read_csv(\"train.csv\")\n",
        "test_df = pd.read_csv(\"test.csv\")"
      ]
    },
    {
      "cell_type": "code",
      "execution_count": 28,
      "metadata": {
        "colab": {
          "base_uri": "https://localhost:8080/"
        },
        "id": "QXFnD0xWQwTD",
        "outputId": "9f25239a-9671-43d7-f40b-82ec4d15a053"
      },
      "outputs": [
        {
          "name": "stdout",
          "output_type": "stream",
          "text": [
            "                                                text  label\n",
            "0  $BYND - JPMorgan reels in expectations on Beyo...      0\n",
            "1  $CCL $RCL - Nomura points to bookings weakness...      0\n",
            "2  $CX - Cemex cut at Credit Suisse, J.P. Morgan ...      0\n",
            "3  $ESS: BTIG Research cuts to Neutral https://t....      0\n",
            "4  $FNKO - Funko slides after Piper Jaffray PT cu...      0\n",
            "   id                                               text\n",
            "0   0  ETF assets to surge tenfold in 10 years to $50...\n",
            "1   1  Here’s What Hedge Funds Think Evolution Petrol...\n",
            "2   2  $PVH - Phillips-Van Heusen Q3 2020 Earnings Pr...\n",
            "3   3  China is in the process of waiving retaliatory...\n",
            "4   4  Highlight: “When growth is scarce, investors s...\n"
          ]
        }
      ],
      "source": [
        "print(train_df.head())\n",
        "print(test_df.head())"
      ]
    },
    {
      "cell_type": "markdown",
      "metadata": {
        "id": "DbRg4EfbxkNg"
      },
      "source": [
        "---"
      ]
    },
    {
      "cell_type": "markdown",
      "metadata": {
        "id": "31Eh_d1-xkNg"
      },
      "source": [
        "## Simply Preprocessing"
      ]
    },
    {
      "cell_type": "markdown",
      "metadata": {
        "id": "w55MAd8zRfRW"
      },
      "source": [
        "We perform basic data preprocessing that was applied in the preprocessing file as well, the only difference is that we do not remove non-alphanumeric characters becuase we want to preserve emojis, punctuation, and special characters. We only apply small preprocessing because GPT2 was trained on raw data and it can benefit for example from emojis"
      ]
    },
    {
      "cell_type": "code",
      "execution_count": 29,
      "metadata": {
        "id": "YCfgIs-oQzRL"
      },
      "outputs": [],
      "source": [
        "def clean_text_gpt2(text):\n",
        "    text = str(text)\n",
        "    text = text.lower()\n",
        "    text = re.sub(r'http\\S+|www\\S+|https\\S+', '', text)\n",
        "    text = re.sub(r'@\\w+', '', text)\n",
        "    text = re.sub(r'#(\\w+)', r'\\1', text)\n",
        "    text = re.sub(r'\\s+', ' ', text).strip()\n",
        "    return text\n"
      ]
    },
    {
      "cell_type": "code",
      "execution_count": 30,
      "metadata": {
        "id": "6N5J1-spR8cB"
      },
      "outputs": [],
      "source": [
        "# Applying the preprocessing\n",
        "train_df['text'] = train_df['text'].apply(clean_text_gpt2)\n",
        "test_df['text'] = test_df['text'].apply(clean_text_gpt2)"
      ]
    },
    {
      "cell_type": "markdown",
      "metadata": {
        "id": "2LutNMrD-uM0"
      },
      "source": [
        "---\n",
        "## Loading and Tokenizing the splitted data\n",
        "<br> GPT-2 does not have a dedicated padding token (since it was pretrained for language modeling where padding wasn't needed).\n",
        "<br> Thus, we manually assign the special EOS (end-of-sequence) token to serve as padding token.This allows padding during fine-tunning stage."
      ]
    },
    {
      "cell_type": "code",
      "execution_count": 31,
      "metadata": {
        "id": "B8JBfmOvTW_d"
      },
      "outputs": [],
      "source": [
        "# Prepare GPT-2 tokenizer\n",
        "tokenizer = GPT2Tokenizer.from_pretrained(\"gpt2\")\n",
        "tokenizer.pad_token = tokenizer.eos_token"
      ]
    },
    {
      "cell_type": "code",
      "execution_count": 32,
      "metadata": {
        "id": "bhWfzC8vTixp"
      },
      "outputs": [],
      "source": [
        "# Spliting train into train and validation\n",
        "train_texts, val_texts, train_labels, val_labels = train_test_split(\n",
        "    train_df['text'].tolist(),\n",
        "    train_df['label'].tolist(),\n",
        "    test_size=0.2,\n",
        "    random_state=42,\n",
        "    stratify=train_df['label'].tolist()\n",
        ")"
      ]
    },
    {
      "cell_type": "code",
      "execution_count": 33,
      "metadata": {
        "id": "AtlP66YxUa0I"
      },
      "outputs": [],
      "source": [
        "# Tokenize the data\n",
        "train_encodings = tokenizer(train_texts, truncation=True, padding=True, max_length=128)\n",
        "val_encodings = tokenizer(val_texts, truncation=True, padding=True, max_length=128)\n",
        "test_encodings = tokenizer(test_df['text'].tolist(), truncation=True, padding=True, max_length=128)"
      ]
    },
    {
      "cell_type": "markdown",
      "metadata": {
        "id": "I02omGJdxkNh"
      },
      "source": [
        "---\n",
        "## Custom Dataset Class for GPT-2 Fine-Tuning\n",
        "\n",
        "We define a custom PyTorch Dataset class (`TweetDataset`) to handle our tokenized data and labels. We build it, because the Hugging Face Trainer requires datasets that return both inputs and labels in dictionary format.\n"
      ]
    },
    {
      "cell_type": "code",
      "execution_count": 34,
      "metadata": {
        "id": "hsUX6nr7Uasn"
      },
      "outputs": [],
      "source": [
        "# Dataset class\n",
        "class TweetDataset(torch.utils.data.Dataset):\n",
        "    def __init__(self, encodings, labels=None):\n",
        "        self.encodings = encodings\n",
        "        self.labels = labels\n",
        "\n",
        "    def __getitem__(self, idx):\n",
        "        item = {key: torch.tensor(val[idx]) for key, val in self.encodings.items()}\n",
        "        if self.labels is not None:\n",
        "            item['labels'] = torch.tensor(self.labels[idx])\n",
        "        return item\n",
        "\n",
        "    def __len__(self):\n",
        "        return len(self.encodings['input_ids'])"
      ]
    },
    {
      "cell_type": "code",
      "execution_count": 35,
      "metadata": {
        "id": "M8wEuNTBUoH_"
      },
      "outputs": [],
      "source": [
        "train_dataset = TweetDataset(train_encodings, train_labels)\n",
        "val_dataset = TweetDataset(val_encodings, val_labels)\n",
        "test_dataset = TweetDataset(test_encodings)"
      ]
    },
    {
      "cell_type": "markdown",
      "metadata": {
        "id": "9GgChNsqxkNh"
      },
      "source": [
        "---"
      ]
    },
    {
      "cell_type": "markdown",
      "metadata": {
        "id": "XZsrjImBxkNh"
      },
      "source": [
        "## Custom Callback for Logging Training and Evaluation Metrics\n",
        "\n",
        "We implement a custom callback class (`LossAndMetricsLogger`) that extends Hugging Face's `TrainerCallback`. This allows us to capture and store losses and evaluation metrics during training for further analysis and visualization."
      ]
    },
    {
      "cell_type": "code",
      "execution_count": 36,
      "metadata": {
        "id": "FZkUCp7VmMyz"
      },
      "outputs": [],
      "source": [
        "class LossAndMetricsLogger(TrainerCallback):\n",
        "    def __init__(self):\n",
        "        self.train_losses = []\n",
        "        self.eval_losses = []\n",
        "        self.eval_accuracies = []\n",
        "        self.eval_f1s = []\n",
        "\n",
        "    def on_log(self, args, state, control, logs=None, **kwargs):\n",
        "        if logs is not None:\n",
        "            if 'loss' in logs:\n",
        "                self.train_losses.append(logs['loss'])\n",
        "            if 'eval_loss' in logs:\n",
        "                self.eval_losses.append(logs['eval_loss'])\n",
        "            if 'eval_accuracy' in logs:\n",
        "                self.eval_accuracies.append(logs['eval_accuracy'])\n",
        "            if 'eval_f1' in logs:\n",
        "                self.eval_f1s.append(logs['eval_f1'])\n",
        "\n",
        "logger = LossAndMetricsLogger()"
      ]
    },
    {
      "cell_type": "markdown",
      "metadata": {
        "id": "n6qf_kx7-uM1"
      },
      "source": [
        "---\n",
        "## Load GPT-2 Model with Classification Head"
      ]
    },
    {
      "cell_type": "markdown",
      "metadata": {
        "id": "hDdqkXl9xkNi"
      },
      "source": [
        "We load the pretrained GPT-2 model and adapt it for our sentiment classification task Since GPT-2 was originally trained for language modeling, we use `GPT2ForSequenceClassification` to add a new classification head on top of the pretrained transformer layers.\n",
        "\n",
        "- `num_labels=3` specifies the number of output classes.\n",
        "- Since GPT-2 has no native padding token, we assign its end-of-sequence token (eos_token) as the padding token\n",
        "- Dropout probabilities (`hidden_dropout_prob`, `attn_pdrop`, and `embd_pdrop`) are increased to 0.3 to reduce overfitting during fine-tuning (because we train on relative small dataset)\n"
      ]
    },
    {
      "cell_type": "code",
      "execution_count": 37,
      "metadata": {
        "colab": {
          "base_uri": "https://localhost:8080/"
        },
        "id": "pa0AgJiZUo6Q",
        "outputId": "d9921782-02ff-4fc5-bd8c-ed90503a558a"
      },
      "outputs": [
        {
          "name": "stderr",
          "output_type": "stream",
          "text": [
            "Some weights of GPT2ForSequenceClassification were not initialized from the model checkpoint at gpt2 and are newly initialized: ['score.weight']\n",
            "You should probably TRAIN this model on a down-stream task to be able to use it for predictions and inference.\n"
          ]
        }
      ],
      "source": [
        "# Load GPT2 decoder model for classification (we have three labels 0,1,2)\n",
        "model = GPT2ForSequenceClassification.from_pretrained(\"gpt2\", num_labels=3)\n",
        "model.config.pad_token_id = model.config.eos_token_id\n",
        "\n",
        "model.config.hidden_dropout_prob = 0.3\n",
        "model.config.attn_pdrop = 0.3\n",
        "model.config.embd_pdrop = 0.3"
      ]
    },
    {
      "cell_type": "markdown",
      "metadata": {
        "id": "2lWzqm6u-uM1"
      },
      "source": [
        "---\n",
        "## Define Evaluation Metrics\n",
        "\n",
        "We create a funcion that computer accuracy, macro f1 score, maacro precision and macro recall. Those metrics are later used to evaluate the results of the model."
      ]
    },
    {
      "cell_type": "code",
      "execution_count": 38,
      "metadata": {
        "id": "Wzo8UaPMVP3w"
      },
      "outputs": [],
      "source": [
        "# Evaluation Metrics - we are using macro scores because our labels are inbalanced\n",
        "def compute_metrics(pred):\n",
        "    labels = pred.label_ids\n",
        "    preds = np.argmax(pred.predictions, axis=1)\n",
        "    precision, recall, f1, _ = precision_recall_fscore_support(labels, preds, average='macro')\n",
        "    acc = accuracy_score(labels, preds)\n",
        "    return {\n",
        "        'accuracy': acc,\n",
        "        'f1': f1,\n",
        "        'precision': precision,\n",
        "        'recall': recall\n",
        "    }"
      ]
    },
    {
      "cell_type": "markdown",
      "metadata": {
        "id": "MK76iaWZxkNi"
      },
      "source": [
        "---"
      ]
    },
    {
      "cell_type": "markdown",
      "metadata": {
        "id": "XntxXw8V-uM1"
      },
      "source": [
        "## Train the model\n",
        "<br> Model is trained to select the best model based on the macroF1  score."
      ]
    },
    {
      "cell_type": "code",
      "execution_count": 20,
      "metadata": {
        "id": "a7cgLptm4XAG"
      },
      "outputs": [],
      "source": [
        "# Training arguments\n",
        "training_args = TrainingArguments(\n",
        "    output_dir=\"./results\",\n",
        "    eval_strategy=\"epoch\",\n",
        "    save_strategy=\"epoch\",\n",
        "    num_train_epochs=10,\n",
        "    per_device_train_batch_size=8,\n",
        "    per_device_eval_batch_size=8,\n",
        "    warmup_steps=100,\n",
        "    learning_rate=5e-5,\n",
        "    weight_decay=0.05,\n",
        "    logging_dir=\"./logs\",\n",
        "    logging_steps=10,\n",
        "    load_best_model_at_end=True,\n",
        "    metric_for_best_model=\"f1\", # we are considering macro f1 score for evaluation of the best model\n",
        "    save_total_limit=1,\n",
        "    seed=42,\n",
        "    report_to=\"none\"\n",
        "\n",
        ")\n",
        "\n",
        "# Trainer\n",
        "trainer = Trainer(\n",
        "    model=model,\n",
        "    args=training_args,\n",
        "    train_dataset=train_dataset,\n",
        "    eval_dataset=val_dataset,\n",
        "    compute_metrics=compute_metrics,\n",
        "    callbacks=[logger, EarlyStoppingCallback(early_stopping_patience=2)]\n",
        ")"
      ]
    },
    {
      "cell_type": "code",
      "execution_count": 21,
      "metadata": {
        "colab": {
          "base_uri": "https://localhost:8080/",
          "height": 348
        },
        "id": "lQgBSgya4-uC",
        "outputId": "f21d45b4-1b99-4fc1-b25e-39e744ee30c4"
      },
      "outputs": [
        {
          "data": {
            "text/html": [
              "\n",
              "    <div>\n",
              "      \n",
              "      <progress value='6685' max='9550' style='width:300px; height:20px; vertical-align: middle;'></progress>\n",
              "      [6685/9550 23:35 < 10:06, 4.72 it/s, Epoch 7/10]\n",
              "    </div>\n",
              "    <table border=\"1\" class=\"dataframe\">\n",
              "  <thead>\n",
              " <tr style=\"text-align: left;\">\n",
              "      <th>Epoch</th>\n",
              "      <th>Training Loss</th>\n",
              "      <th>Validation Loss</th>\n",
              "      <th>Accuracy</th>\n",
              "      <th>F1</th>\n",
              "      <th>Precision</th>\n",
              "      <th>Recall</th>\n",
              "    </tr>\n",
              "  </thead>\n",
              "  <tbody>\n",
              "    <tr>\n",
              "      <td>1</td>\n",
              "      <td>0.347700</td>\n",
              "      <td>0.480566</td>\n",
              "      <td>0.836040</td>\n",
              "      <td>0.778741</td>\n",
              "      <td>0.803213</td>\n",
              "      <td>0.761445</td>\n",
              "    </tr>\n",
              "    <tr>\n",
              "      <td>2</td>\n",
              "      <td>0.339600</td>\n",
              "      <td>0.471982</td>\n",
              "      <td>0.855422</td>\n",
              "      <td>0.809872</td>\n",
              "      <td>0.819728</td>\n",
              "      <td>0.801838</td>\n",
              "    </tr>\n",
              "    <tr>\n",
              "      <td>3</td>\n",
              "      <td>0.358400</td>\n",
              "      <td>0.859906</td>\n",
              "      <td>0.861184</td>\n",
              "      <td>0.810438</td>\n",
              "      <td>0.838415</td>\n",
              "      <td>0.788139</td>\n",
              "    </tr>\n",
              "    <tr>\n",
              "      <td>4</td>\n",
              "      <td>0.250100</td>\n",
              "      <td>0.888943</td>\n",
              "      <td>0.849660</td>\n",
              "      <td>0.811254</td>\n",
              "      <td>0.799590</td>\n",
              "      <td>0.825211</td>\n",
              "    </tr>\n",
              "    <tr>\n",
              "      <td>5</td>\n",
              "      <td>0.174700</td>\n",
              "      <td>1.145403</td>\n",
              "      <td>0.860136</td>\n",
              "      <td>0.818516</td>\n",
              "      <td>0.820495</td>\n",
              "      <td>0.816693</td>\n",
              "    </tr>\n",
              "    <tr>\n",
              "      <td>6</td>\n",
              "      <td>0.062400</td>\n",
              "      <td>1.439283</td>\n",
              "      <td>0.854374</td>\n",
              "      <td>0.810353</td>\n",
              "      <td>0.822937</td>\n",
              "      <td>0.800320</td>\n",
              "    </tr>\n",
              "    <tr>\n",
              "      <td>7</td>\n",
              "      <td>0.000300</td>\n",
              "      <td>1.526135</td>\n",
              "      <td>0.850183</td>\n",
              "      <td>0.809497</td>\n",
              "      <td>0.801809</td>\n",
              "      <td>0.819824</td>\n",
              "    </tr>\n",
              "  </tbody>\n",
              "</table><p>"
            ],
            "text/plain": [
              "<IPython.core.display.HTML object>"
            ]
          },
          "metadata": {},
          "output_type": "display_data"
        },
        {
          "data": {
            "text/plain": [
              "TrainOutput(global_step=6685, training_loss=0.23433281272802325, metrics={'train_runtime': 1416.9785, 'train_samples_per_second': 53.875, 'train_steps_per_second': 6.74, 'total_flos': 2781751537281024.0, 'train_loss': 0.23433281272802325, 'epoch': 7.0})"
            ]
          },
          "execution_count": 21,
          "metadata": {},
          "output_type": "execute_result"
        }
      ],
      "source": [
        "trainer.train()"
      ]
    },
    {
      "cell_type": "markdown",
      "metadata": {
        "id": "aV1-pcin-uM2"
      },
      "source": [
        "## Plot the train and validation loss"
      ]
    },
    {
      "cell_type": "code",
      "execution_count": 22,
      "metadata": {
        "colab": {
          "base_uri": "https://localhost:8080/",
          "height": 487
        },
        "id": "NKoemaMm3ESJ",
        "outputId": "9e26eef6-963b-4af8-b686-680750f90014"
      },
      "outputs": [
        {
          "data": {
            "image/png": "[encoded data removed]",
            "text/plain": [
              "<Figure size 1800x500 with 1 Axes>"
            ]
          },
          "metadata": {},
          "output_type": "display_data"
        }
      ],
      "source": [
        "# Calculate train losses per epoch\n",
        "train_steps_per_epoch = len(logger.train_losses) // len(logger.eval_losses)\n",
        "train_losses_epoch = [\n",
        "    np.mean(logger.train_losses[i*train_steps_per_epoch : (i+1)*train_steps_per_epoch])\n",
        "    for i in range(len(logger.eval_losses))\n",
        "]\n",
        "epochs = range(1, len(logger.eval_losses) + 1)\n",
        "\n",
        "plt.figure(figsize=(18, 5))\n",
        "\n",
        "plt.subplot(1, 3, 1)\n",
        "plt.plot(epochs, train_losses_epoch, label=\"Train Loss\", marker='o')\n",
        "plt.plot(epochs, logger.eval_losses, label=\"Validation Loss\", marker='o')\n",
        "plt.xlabel(\"Epoch\")\n",
        "plt.ylabel(\"Loss\")\n",
        "plt.title(\"Loss\")\n",
        "plt.legend()\n",
        "plt.grid(True)\n"
      ]
    },
    {
      "cell_type": "markdown",
      "metadata": {
        "id": "BonbC04tMG-T"
      },
      "source": [
        "We got the best macroF1 score for the 6th epoch, but in that epoch difference between training and validation loss is quite significant which means that model fits the training data much better than it generalizes to new (validation) data. It most likely due too many epochs.\n",
        "\n",
        "<br> Model seems to be the best at epoch 2, where we can see a good trade-off between loss and other metrics."
      ]
    },
    {
      "cell_type": "markdown",
      "metadata": {},
      "source": [
        "---"
      ]
    },
    {
      "cell_type": "markdown",
      "metadata": {
        "id": "-a3d_vJhLAPa"
      },
      "source": [
        "## Running the  model with less epoch (only 2)"
      ]
    },
    {
      "cell_type": "code",
      "execution_count": 39,
      "metadata": {
        "id": "84cdaoN4K_qs"
      },
      "outputs": [],
      "source": [
        "# Training arguments\n",
        "training_args = TrainingArguments(\n",
        "    output_dir=\"./results_epoch2\",\n",
        "    eval_strategy=\"epoch\",\n",
        "    save_strategy=\"epoch\",\n",
        "    num_train_epochs=2,\n",
        "    per_device_train_batch_size=8,\n",
        "    per_device_eval_batch_size=8,\n",
        "    warmup_steps=100,\n",
        "    learning_rate=5e-5,\n",
        "    weight_decay=0.05,\n",
        "    logging_dir=\"./logs\",\n",
        "    logging_steps=10,\n",
        "    load_best_model_at_end=True,\n",
        "    metric_for_best_model=\"f1\",\n",
        "    save_total_limit=2,\n",
        "    seed=42,\n",
        "    report_to=\"none\"\n",
        ")\n",
        "\n",
        "\n",
        "# Trainer\n",
        "trainer = Trainer(\n",
        "    model=model,\n",
        "    args=training_args,\n",
        "    train_dataset=train_dataset,\n",
        "    eval_dataset=val_dataset,\n",
        "    compute_metrics=compute_metrics,\n",
        "    callbacks=[logger, EarlyStoppingCallback(early_stopping_patience=2)]\n",
        ")"
      ]
    },
    {
      "cell_type": "code",
      "execution_count": 40,
      "metadata": {
        "colab": {
          "base_uri": "https://localhost:8080/",
          "height": 192
        },
        "id": "0-fnoFk2LJz8",
        "outputId": "41269e53-ee59-4b59-cf84-dab328dfb777"
      },
      "outputs": [
        {
          "data": {
            "text/html": [
              "\n",
              "    <div>\n",
              "      \n",
              "      <progress value='1910' max='1910' style='width:300px; height:20px; vertical-align: middle;'></progress>\n",
              "      [1910/1910 07:01, Epoch 2/2]\n",
              "    </div>\n",
              "    <table border=\"1\" class=\"dataframe\">\n",
              "  <thead>\n",
              " <tr style=\"text-align: left;\">\n",
              "      <th>Epoch</th>\n",
              "      <th>Training Loss</th>\n",
              "      <th>Validation Loss</th>\n",
              "      <th>Accuracy</th>\n",
              "      <th>F1</th>\n",
              "      <th>Precision</th>\n",
              "      <th>Recall</th>\n",
              "    </tr>\n",
              "  </thead>\n",
              "  <tbody>\n",
              "    <tr>\n",
              "      <td>1</td>\n",
              "      <td>0.315000</td>\n",
              "      <td>0.426438</td>\n",
              "      <td>0.859089</td>\n",
              "      <td>0.816783</td>\n",
              "      <td>0.819403</td>\n",
              "      <td>0.819601</td>\n",
              "    </tr>\n",
              "    <tr>\n",
              "      <td>2</td>\n",
              "      <td>0.180600</td>\n",
              "      <td>0.426372</td>\n",
              "      <td>0.867470</td>\n",
              "      <td>0.827156</td>\n",
              "      <td>0.832606</td>\n",
              "      <td>0.823080</td>\n",
              "    </tr>\n",
              "  </tbody>\n",
              "</table><p>"
            ],
            "text/plain": [
              "<IPython.core.display.HTML object>"
            ]
          },
          "metadata": {},
          "output_type": "display_data"
        },
        {
          "data": {
            "text/plain": [
              "TrainOutput(global_step=1910, training_loss=0.45564663666081057, metrics={'train_runtime': 421.3767, 'train_samples_per_second': 36.234, 'train_steps_per_second': 4.533, 'total_flos': 794786153508864.0, 'train_loss': 0.45564663666081057, 'epoch': 2.0})"
            ]
          },
          "execution_count": 40,
          "metadata": {},
          "output_type": "execute_result"
        }
      ],
      "source": [
        "trainer.train()"
      ]
    },
    {
      "cell_type": "markdown",
      "metadata": {},
      "source": [
        "---"
      ]
    },
    {
      "cell_type": "markdown",
      "metadata": {
        "id": "eCvLr0YX-uM1"
      },
      "source": [
        "## Evaluation of the best model"
      ]
    },
    {
      "cell_type": "code",
      "execution_count": 41,
      "metadata": {
        "colab": {
          "base_uri": "https://localhost:8080/",
          "height": 722
        },
        "id": "7t6Z11Kt-uM2",
        "outputId": "0b45f9eb-a977-4572-9b5f-cc82a9db5b16"
      },
      "outputs": [
        {
          "data": {
            "text/html": [],
            "text/plain": [
              "<IPython.core.display.HTML object>"
            ]
          },
          "metadata": {},
          "output_type": "display_data"
        },
        {
          "name": "stdout",
          "output_type": "stream",
          "text": [
            "\n",
            "Classification Report on Validation Set:\n",
            "\n",
            "              precision    recall  f1-score   support\n",
            "\n",
            " Bearish (0)     0.7559    0.7847    0.7700       288\n",
            " Bullish (1)     0.8405    0.7662    0.8016       385\n",
            " Neutral (2)     0.9015    0.9183    0.9098      1236\n",
            "\n",
            "    accuracy                         0.8675      1909\n",
            "   macro avg     0.8326    0.8231    0.8272      1909\n",
            "weighted avg     0.8672    0.8675    0.8669      1909\n",
            "\n"
          ]
        },
        {
          "data": {
            "text/plain": [
              "<Figure size 600x600 with 0 Axes>"
            ]
          },
          "metadata": {},
          "output_type": "display_data"
        },
        {
          "data": {
            "image/png": "[encoded data removed]",
            "text/plain": [
              "<Figure size 640x480 with 2 Axes>"
            ]
          },
          "metadata": {},
          "output_type": "display_data"
        }
      ],
      "source": [
        "# Predict on validation set\n",
        "predictions_val = trainer.predict(val_dataset)\n",
        "\n",
        "# Extract true labels and predicted labels\n",
        "y_true = predictions_val.label_ids\n",
        "y_pred = predictions_val.predictions.argmax(axis=1)\n",
        "\n",
        "# Classification report\n",
        "target_names = [\"Bearish (0)\", \"Bullish (1)\", \"Neutral (2)\"]\n",
        "report = classification_report(y_true, y_pred, target_names=target_names, digits=4)\n",
        "\n",
        "print(\"\\nClassification Report on Validation Set:\\n\")\n",
        "print(report)\n",
        "\n",
        "# Confusion matrix\n",
        "cm = confusion_matrix(y_true, y_pred)\n",
        "disp = ConfusionMatrixDisplay(confusion_matrix=cm, display_labels=target_names)\n",
        "\n",
        "plt.figure(figsize=(6, 6))\n",
        "disp.plot(cmap=\"Blues\", values_format=\"d\")\n",
        "plt.title(\"Confusion Matrix on Validation Set\")\n",
        "plt.show()\n"
      ]
    },
    {
      "cell_type": "markdown",
      "metadata": {},
      "source": [
        "---"
      ]
    },
    {
      "cell_type": "markdown",
      "metadata": {},
      "source": [
        "## Predictions on the test dataset"
      ]
    },
    {
      "cell_type": "code",
      "execution_count": null,
      "metadata": {
        "colab": {
          "base_uri": "https://localhost:8080/",
          "height": 17
        },
        "id": "CgAqcqV--uM2",
        "outputId": "d3657805-f634-4401-e43b-e6a93642a2ac"
      },
      "outputs": [
        {
          "data": {
            "text/html": [],
            "text/plain": [
              "<IPython.core.display.HTML object>"
            ]
          },
          "metadata": {},
          "output_type": "display_data"
        }
      ],
      "source": [
        "# Predict on test set\n",
        "predictions = trainer.predict(test_dataset)\n",
        "preds_test = np.argmax(predictions.predictions, axis=1)"
      ]
    },
    {
      "cell_type": "code",
      "execution_count": null,
      "metadata": {
        "id": "-QfWvAyEIHUD"
      },
      "outputs": [],
      "source": [
        "# File with test label \n",
        "test_df['label'] = preds_test\n",
        "test_df[['id','label']].to_csv(\"pred_decoder.csv\", index=False)\n",
        "\n",
        "print(\"Prediction file saved as pred_decoder.csv\")"
      ]
    }
  ],
  "metadata": {
    "accelerator": "GPU",
    "colab": {
      "gpuType": "T4",
      "provenance": []
    },
    "kernelspec": {
      "display_name": "Python 3",
      "name": "python3"
    },
    "language_info": {
      "name": "python"
    }
  },
  "nbformat": 4,
  "nbformat_minor": 0
}
