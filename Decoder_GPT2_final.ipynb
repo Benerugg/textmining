{
  "cells": [
    {
      "cell_type": "markdown",
      "metadata": {
        "id": "6cM8xPZg-uMx"
      },
      "source": [
        "\n",
        "# GPT-2 Decoder Model for Sentiment Classification (extra task)\n",
        "\n",
        "This notebook implements a sentiment classification pipeline using a decoder-based transformer model (GPT-2).\n",
        "We classify financial tweets into three sentiment categories: **bearish (0), neutral (1), bullish (2)**.\n",
        "The notebook includes steps for data loading, preprocessing, tokenization, model configuration, training, and evaluation.\n",
        "\n",
        "---\n"
      ]
    },
    {
      "cell_type": "code",
      "execution_count": 18,
      "metadata": {
        "id": "n2BQ7OK3P8Nk"
      },
      "outputs": [],
      "source": [
        "# !pip install transformers datasets scikit-learn pandas torch\n",
        "# !pip install accelerate"
      ]
    },
    {
      "cell_type": "code",
      "execution_count": 19,
      "metadata": {
        "id": "jur02WU5gNi8"
      },
      "outputs": [],
      "source": [
        "# !pip uninstall -y transformers\n",
        "# !pip install transformers\n"
      ]
    },
    {
      "cell_type": "markdown",
      "metadata": {
        "id": "3JNo80R_-uM0"
      },
      "source": [
        "## Import Required Libraries"
      ]
    },
    {
      "cell_type": "code",
      "execution_count": 45,
      "metadata": {
        "id": "FmC-wlJ4QsZ2"
      },
      "outputs": [],
      "source": [
        "import pandas as pd\n",
        "import numpy as np\n",
        "import matplotlib.pyplot as plt\n",
        "import torch\n",
        "import re\n",
        "from sklearn.model_selection import train_test_split\n",
        "from sklearn.metrics import accuracy_score, precision_recall_fscore_support, classification_report, confusion_matrix, ConfusionMatrixDisplay\n",
        "from transformers import GPT2Tokenizer, GPT2ForSequenceClassification, Trainer, TrainingArguments,TrainerCallback, EarlyStoppingCallback"
      ]
    },
    {
      "cell_type": "code",
      "execution_count": 46,
      "metadata": {
        "id": "UPbDs-d4Qt5b"
      },
      "outputs": [],
      "source": [
        "# Load train and test data\n",
        "train_df = pd.read_csv(\"train.csv\")\n",
        "test_df = pd.read_csv(\"test.csv\")"
      ]
    },
    {
      "cell_type": "code",
      "execution_count": 47,
      "metadata": {
        "colab": {
          "base_uri": "https://localhost:8080/"
        },
        "id": "QXFnD0xWQwTD",
        "outputId": "7e8d3fb3-4fc6-4a35-b507-e2ac8b38a24f"
      },
      "outputs": [
        {
          "output_type": "stream",
          "name": "stdout",
          "text": [
            "                                                text  label\n",
            "0  $BYND - JPMorgan reels in expectations on Beyo...      0\n",
            "1  $CCL $RCL - Nomura points to bookings weakness...      0\n",
            "2  $CX - Cemex cut at Credit Suisse, J.P. Morgan ...      0\n",
            "3  $ESS: BTIG Research cuts to Neutral https://t....      0\n",
            "4  $FNKO - Funko slides after Piper Jaffray PT cu...      0\n",
            "   id                                               text\n",
            "0   0  ETF assets to surge tenfold in 10 years to $50...\n",
            "1   1  Here’s What Hedge Funds Think Evolution Petrol...\n",
            "2   2  $PVH - Phillips-Van Heusen Q3 2020 Earnings Pr...\n",
            "3   3  China is in the process of waiving retaliatory...\n",
            "4   4  Highlight: “When growth is scarce, investors s...\n"
          ]
        }
      ],
      "source": [
        "print(train_df.head())\n",
        "print(test_df.head())"
      ]
    },
    {
      "cell_type": "markdown",
      "metadata": {
        "id": "w55MAd8zRfRW"
      },
      "source": [
        "We perform basic data preprocessing that was applied in the preprocessing file as well, the only difference is that we do not remove non-alphanumeric characters becuase we want to preserve emojis, punctuation, and special characters - thats how GPT2 was trained."
      ]
    },
    {
      "cell_type": "code",
      "execution_count": 48,
      "metadata": {
        "id": "YCfgIs-oQzRL"
      },
      "outputs": [],
      "source": [
        "def clean_text_gpt2(text):\n",
        "    text = str(text)\n",
        "    text = text.lower()\n",
        "    text = re.sub(r'http\\S+|www\\S+|https\\S+', '', text)\n",
        "    text = re.sub(r'@\\w+', '', text)\n",
        "    text = re.sub(r'#(\\w+)', r'\\1', text)\n",
        "    text = re.sub(r'\\s+', ' ', text).strip()\n",
        "    return text\n"
      ]
    },
    {
      "cell_type": "code",
      "execution_count": 49,
      "metadata": {
        "id": "6N5J1-spR8cB"
      },
      "outputs": [],
      "source": [
        "# Applying the preprocessing\n",
        "train_df['text'] = train_df['text'].apply(clean_text_gpt2)\n",
        "test_df['text'] = test_df['text'].apply(clean_text_gpt2)"
      ]
    },
    {
      "cell_type": "markdown",
      "metadata": {
        "id": "2LutNMrD-uM0"
      },
      "source": [
        "## Load Tokenizer"
      ]
    },
    {
      "cell_type": "code",
      "execution_count": 50,
      "metadata": {
        "id": "B8JBfmOvTW_d"
      },
      "outputs": [],
      "source": [
        "# Prepare GPT-2 tokenizer\n",
        "tokenizer = GPT2Tokenizer.from_pretrained(\"gpt2\")\n",
        "tokenizer.pad_token = tokenizer.eos_token  # GPT2 has no pad token so we have to implement as well to ensure that every"
      ]
    },
    {
      "cell_type": "code",
      "execution_count": 51,
      "metadata": {
        "id": "bhWfzC8vTixp"
      },
      "outputs": [],
      "source": [
        "# Spliting train into train and validation\n",
        "train_texts, val_texts, train_labels, val_labels = train_test_split(\n",
        "    train_df['text'].tolist(),\n",
        "    train_df['label'].tolist(),\n",
        "    test_size=0.2,\n",
        "    random_state=42,\n",
        "    stratify=train_df['label'].tolist()\n",
        ")"
      ]
    },
    {
      "cell_type": "code",
      "execution_count": 52,
      "metadata": {
        "id": "AtlP66YxUa0I"
      },
      "outputs": [],
      "source": [
        "# Tokenize the data\n",
        "train_encodings = tokenizer(train_texts, truncation=True, padding=True, max_length=128)\n",
        "val_encodings = tokenizer(val_texts, truncation=True, padding=True, max_length=128)\n",
        "test_encodings = tokenizer(test_df['text'].tolist(), truncation=True, padding=True, max_length=128)"
      ]
    },
    {
      "cell_type": "code",
      "execution_count": 53,
      "metadata": {
        "id": "hsUX6nr7Uasn"
      },
      "outputs": [],
      "source": [
        "# Dataset class\n",
        "class TweetDataset(torch.utils.data.Dataset):\n",
        "    def __init__(self, encodings, labels=None):\n",
        "        self.encodings = encodings\n",
        "        self.labels = labels\n",
        "\n",
        "    def __getitem__(self, idx):\n",
        "        item = {key: torch.tensor(val[idx]) for key, val in self.encodings.items()}\n",
        "        if self.labels is not None:\n",
        "            item['labels'] = torch.tensor(self.labels[idx])\n",
        "        return item\n",
        "\n",
        "    def __len__(self):\n",
        "        return len(self.encodings['input_ids'])"
      ]
    },
    {
      "cell_type": "code",
      "execution_count": 54,
      "metadata": {
        "id": "FZkUCp7VmMyz"
      },
      "outputs": [],
      "source": [
        "# Custom callback to store losses and metrics\n",
        "class LossAndMetricsLogger(TrainerCallback):\n",
        "    def __init__(self):\n",
        "        self.train_losses = []\n",
        "        self.eval_losses = []\n",
        "        self.eval_accuracies = []\n",
        "        self.eval_f1s = []\n",
        "\n",
        "    def on_log(self, args, state, control, logs=None, **kwargs):\n",
        "        if logs is not None:\n",
        "            if 'loss' in logs:\n",
        "                self.train_losses.append(logs['loss'])\n",
        "            if 'eval_loss' in logs:\n",
        "                self.eval_losses.append(logs['eval_loss'])\n",
        "            if 'eval_accuracy' in logs:\n",
        "                self.eval_accuracies.append(logs['eval_accuracy'])\n",
        "            if 'eval_f1' in logs:\n",
        "                self.eval_f1s.append(logs['eval_f1'])\n",
        "\n",
        "logger = LossAndMetricsLogger()"
      ]
    },
    {
      "cell_type": "code",
      "execution_count": 55,
      "metadata": {
        "id": "M8wEuNTBUoH_"
      },
      "outputs": [],
      "source": [
        "train_dataset = TweetDataset(train_encodings, train_labels)\n",
        "val_dataset = TweetDataset(val_encodings, val_labels)\n",
        "test_dataset = TweetDataset(test_encodings)"
      ]
    },
    {
      "cell_type": "markdown",
      "metadata": {
        "id": "n6qf_kx7-uM1"
      },
      "source": [
        "## Load GPT-2 Model with Classification Head"
      ]
    },
    {
      "cell_type": "code",
      "execution_count": 56,
      "metadata": {
        "colab": {
          "base_uri": "https://localhost:8080/"
        },
        "id": "pa0AgJiZUo6Q",
        "outputId": "aba56517-ff92-4f19-be2d-820637d56a2c"
      },
      "outputs": [
        {
          "output_type": "stream",
          "name": "stderr",
          "text": [
            "Some weights of GPT2ForSequenceClassification were not initialized from the model checkpoint at gpt2 and are newly initialized: ['score.weight']\n",
            "You should probably TRAIN this model on a down-stream task to be able to use it for predictions and inference.\n"
          ]
        }
      ],
      "source": [
        "# Load GPT2 decoder model for classification (we have three labels 0,1,2)\n",
        "model = GPT2ForSequenceClassification.from_pretrained(\"gpt2\", num_labels=3)\n",
        "model.config.pad_token_id = model.config.eos_token_id\n",
        "\n",
        "model.config.hidden_dropout_prob = 0.3\n",
        "model.config.attn_pdrop = 0.3\n",
        "model.config.embd_pdrop = 0.3"
      ]
    },
    {
      "cell_type": "markdown",
      "metadata": {
        "id": "2lWzqm6u-uM1"
      },
      "source": [
        "## Define Evaluation Metrics"
      ]
    },
    {
      "cell_type": "code",
      "execution_count": 57,
      "metadata": {
        "id": "Wzo8UaPMVP3w"
      },
      "outputs": [],
      "source": [
        "# Evaluation Metrics - we are using macrof1 score because our labels are inbalanced\n",
        "def compute_metrics(pred):\n",
        "    labels = pred.label_ids\n",
        "    preds = np.argmax(pred.predictions, axis=1)\n",
        "    precision, recall, f1, _ = precision_recall_fscore_support(labels, preds, average='macro')\n",
        "    acc = accuracy_score(labels, preds)\n",
        "    return {\n",
        "        'accuracy': acc,\n",
        "        'f1': f1,\n",
        "        'precision': precision,\n",
        "        'recall': recall\n",
        "    }"
      ]
    },
    {
      "cell_type": "markdown",
      "metadata": {
        "id": "XntxXw8V-uM1"
      },
      "source": [
        "## Train the model\n",
        "<br> Model is trained to look for the best macroF1 score."
      ]
    },
    {
      "cell_type": "code",
      "execution_count": 33,
      "metadata": {
        "id": "a7cgLptm4XAG"
      },
      "outputs": [],
      "source": [
        "# Training arguments\n",
        "training_args = TrainingArguments(\n",
        "    output_dir=\"./results\",\n",
        "    eval_strategy=\"epoch\",\n",
        "    save_strategy=\"epoch\",\n",
        "    num_train_epochs=10,\n",
        "    per_device_train_batch_size=8,\n",
        "    per_device_eval_batch_size=8,\n",
        "    warmup_steps=100,\n",
        "    learning_rate=5e-5,\n",
        "    weight_decay=0.05,\n",
        "    logging_dir=\"./logs\",\n",
        "    logging_steps=10,\n",
        "    load_best_model_at_end=True,\n",
        "    metric_for_best_model=\"f1\", # we are considering macro f1 score for evaluation of the best model\n",
        "    save_total_limit=1,\n",
        ")\n",
        "\n",
        "# Trainer\n",
        "trainer = Trainer(\n",
        "    model=model,\n",
        "    args=training_args,\n",
        "    train_dataset=train_dataset,\n",
        "    eval_dataset=val_dataset,\n",
        "    compute_metrics=compute_metrics,\n",
        "    callbacks=[logger, EarlyStoppingCallback(early_stopping_patience=2)]\n",
        ")"
      ]
    },
    {
      "cell_type": "code",
      "execution_count": 34,
      "metadata": {
        "colab": {
          "base_uri": "https://localhost:8080/",
          "height": 616
        },
        "id": "lQgBSgya4-uC",
        "outputId": "03987b0e-50d7-4fa1-f2fe-9fff8b97bb8a"
      },
      "outputs": [
        {
          "output_type": "display_data",
          "data": {
            "text/plain": [
              "<IPython.core.display.Javascript object>"
            ],
            "application/javascript": [
              "\n",
              "        window._wandbApiKey = new Promise((resolve, reject) => {\n",
              "            function loadScript(url) {\n",
              "            return new Promise(function(resolve, reject) {\n",
              "                let newScript = document.createElement(\"script\");\n",
              "                newScript.onerror = reject;\n",
              "                newScript.onload = resolve;\n",
              "                document.body.appendChild(newScript);\n",
              "                newScript.src = url;\n",
              "            });\n",
              "            }\n",
              "            loadScript(\"https://cdn.jsdelivr.net/npm/postmate/build/postmate.min.js\").then(() => {\n",
              "            const iframe = document.createElement('iframe')\n",
              "            iframe.style.cssText = \"width:0;height:0;border:none\"\n",
              "            document.body.appendChild(iframe)\n",
              "            const handshake = new Postmate({\n",
              "                container: iframe,\n",
              "                url: 'https://wandb.ai/authorize'\n",
              "            });\n",
              "            const timeout = setTimeout(() => reject(\"Couldn't auto authenticate\"), 5000)\n",
              "            handshake.then(function(child) {\n",
              "                child.on('authorize', data => {\n",
              "                    clearTimeout(timeout)\n",
              "                    resolve(data)\n",
              "                });\n",
              "            });\n",
              "            })\n",
              "        });\n",
              "    "
            ]
          },
          "metadata": {}
        },
        {
          "output_type": "stream",
          "name": "stderr",
          "text": [
            "\u001b[34m\u001b[1mwandb\u001b[0m: Logging into wandb.ai. (Learn how to deploy a W&B server locally: https://wandb.me/wandb-server)\n",
            "\u001b[34m\u001b[1mwandb\u001b[0m: You can find your API key in your browser here: https://wandb.ai/authorize?ref=models\n",
            "wandb: Paste an API key from your profile and hit enter:"
          ]
        },
        {
          "name": "stdout",
          "output_type": "stream",
          "text": [
            " ··········\n"
          ]
        },
        {
          "output_type": "stream",
          "name": "stderr",
          "text": [
            "\u001b[34m\u001b[1mwandb\u001b[0m: \u001b[33mWARNING\u001b[0m If you're specifying your api key in code, ensure this code is not shared publicly.\n",
            "\u001b[34m\u001b[1mwandb\u001b[0m: \u001b[33mWARNING\u001b[0m Consider setting the WANDB_API_KEY environment variable, or running `wandb login` from the command line.\n",
            "\u001b[34m\u001b[1mwandb\u001b[0m: No netrc file found, creating one.\n",
            "\u001b[34m\u001b[1mwandb\u001b[0m: Appending key for api.wandb.ai to your netrc file: /root/.netrc\n",
            "\u001b[34m\u001b[1mwandb\u001b[0m: Currently logged in as: \u001b[33mkarpieniajulia\u001b[0m (\u001b[33mkarpieniajulia-nova-ims-su\u001b[0m) to \u001b[32mhttps://api.wandb.ai\u001b[0m. Use \u001b[1m`wandb login --relogin`\u001b[0m to force relogin\n"
          ]
        },
        {
          "output_type": "display_data",
          "data": {
            "text/plain": [
              "<IPython.core.display.HTML object>"
            ],
            "text/html": [
              "Tracking run with wandb version 0.19.11"
            ]
          },
          "metadata": {}
        },
        {
          "output_type": "display_data",
          "data": {
            "text/plain": [
              "<IPython.core.display.HTML object>"
            ],
            "text/html": [
              "Run data is saved locally in <code>/content/wandb/run-20250613_155815-m5hl5ony</code>"
            ]
          },
          "metadata": {}
        },
        {
          "output_type": "display_data",
          "data": {
            "text/plain": [
              "<IPython.core.display.HTML object>"
            ],
            "text/html": [
              "Syncing run <strong><a href='https://wandb.ai/karpieniajulia-nova-ims-su/huggingface/runs/m5hl5ony' target=\"_blank\">./results</a></strong> to <a href='https://wandb.ai/karpieniajulia-nova-ims-su/huggingface' target=\"_blank\">Weights & Biases</a> (<a href='https://wandb.me/developer-guide' target=\"_blank\">docs</a>)<br>"
            ]
          },
          "metadata": {}
        },
        {
          "output_type": "display_data",
          "data": {
            "text/plain": [
              "<IPython.core.display.HTML object>"
            ],
            "text/html": [
              " View project at <a href='https://wandb.ai/karpieniajulia-nova-ims-su/huggingface' target=\"_blank\">https://wandb.ai/karpieniajulia-nova-ims-su/huggingface</a>"
            ]
          },
          "metadata": {}
        },
        {
          "output_type": "display_data",
          "data": {
            "text/plain": [
              "<IPython.core.display.HTML object>"
            ],
            "text/html": [
              " View run at <a href='https://wandb.ai/karpieniajulia-nova-ims-su/huggingface/runs/m5hl5ony' target=\"_blank\">https://wandb.ai/karpieniajulia-nova-ims-su/huggingface/runs/m5hl5ony</a>"
            ]
          },
          "metadata": {}
        },
        {
          "output_type": "display_data",
          "data": {
            "text/plain": [
              "<IPython.core.display.HTML object>"
            ],
            "text/html": [
              "\n",
              "    <div>\n",
              "      \n",
              "      <progress value='6685' max='9550' style='width:300px; height:20px; vertical-align: middle;'></progress>\n",
              "      [6685/9550 26:21 < 11:17, 4.23 it/s, Epoch 7/10]\n",
              "    </div>\n",
              "    <table border=\"1\" class=\"dataframe\">\n",
              "  <thead>\n",
              " <tr style=\"text-align: left;\">\n",
              "      <th>Epoch</th>\n",
              "      <th>Training Loss</th>\n",
              "      <th>Validation Loss</th>\n",
              "      <th>Accuracy</th>\n",
              "      <th>F1</th>\n",
              "      <th>Precision</th>\n",
              "      <th>Recall</th>\n",
              "    </tr>\n",
              "  </thead>\n",
              "  <tbody>\n",
              "    <tr>\n",
              "      <td>1</td>\n",
              "      <td>0.347700</td>\n",
              "      <td>0.480566</td>\n",
              "      <td>0.836040</td>\n",
              "      <td>0.778741</td>\n",
              "      <td>0.803213</td>\n",
              "      <td>0.761445</td>\n",
              "    </tr>\n",
              "    <tr>\n",
              "      <td>2</td>\n",
              "      <td>0.339600</td>\n",
              "      <td>0.471982</td>\n",
              "      <td>0.855422</td>\n",
              "      <td>0.809872</td>\n",
              "      <td>0.819728</td>\n",
              "      <td>0.801838</td>\n",
              "    </tr>\n",
              "    <tr>\n",
              "      <td>3</td>\n",
              "      <td>0.358400</td>\n",
              "      <td>0.859906</td>\n",
              "      <td>0.861184</td>\n",
              "      <td>0.810438</td>\n",
              "      <td>0.838415</td>\n",
              "      <td>0.788139</td>\n",
              "    </tr>\n",
              "    <tr>\n",
              "      <td>4</td>\n",
              "      <td>0.250100</td>\n",
              "      <td>0.888943</td>\n",
              "      <td>0.849660</td>\n",
              "      <td>0.811254</td>\n",
              "      <td>0.799590</td>\n",
              "      <td>0.825211</td>\n",
              "    </tr>\n",
              "    <tr>\n",
              "      <td>5</td>\n",
              "      <td>0.174700</td>\n",
              "      <td>1.145403</td>\n",
              "      <td>0.860136</td>\n",
              "      <td>0.818516</td>\n",
              "      <td>0.820495</td>\n",
              "      <td>0.816693</td>\n",
              "    </tr>\n",
              "    <tr>\n",
              "      <td>6</td>\n",
              "      <td>0.062400</td>\n",
              "      <td>1.439283</td>\n",
              "      <td>0.854374</td>\n",
              "      <td>0.810353</td>\n",
              "      <td>0.822937</td>\n",
              "      <td>0.800320</td>\n",
              "    </tr>\n",
              "    <tr>\n",
              "      <td>7</td>\n",
              "      <td>0.000300</td>\n",
              "      <td>1.526135</td>\n",
              "      <td>0.850183</td>\n",
              "      <td>0.809497</td>\n",
              "      <td>0.801809</td>\n",
              "      <td>0.819824</td>\n",
              "    </tr>\n",
              "  </tbody>\n",
              "</table><p>"
            ]
          },
          "metadata": {}
        },
        {
          "output_type": "execute_result",
          "data": {
            "text/plain": [
              "TrainOutput(global_step=6685, training_loss=0.23433281272802325, metrics={'train_runtime': 1774.319, 'train_samples_per_second': 43.025, 'train_steps_per_second': 5.382, 'total_flos': 2781751537281024.0, 'train_loss': 0.23433281272802325, 'epoch': 7.0})"
            ]
          },
          "metadata": {},
          "execution_count": 34
        }
      ],
      "source": [
        "trainer.train()"
      ]
    },
    {
      "cell_type": "markdown",
      "metadata": {
        "id": "aV1-pcin-uM2"
      },
      "source": [
        "## Plot the train and validation loss"
      ]
    },
    {
      "cell_type": "code",
      "execution_count": 38,
      "metadata": {
        "colab": {
          "base_uri": "https://localhost:8080/",
          "height": 487
        },
        "id": "NKoemaMm3ESJ",
        "outputId": "29943c73-3e1c-4029-d3e7-114eb79f118a"
      },
      "outputs": [
        {
          "output_type": "display_data",
          "data": {
            "text/plain": [
              "<Figure size 1800x500 with 1 Axes>"
            ],
            "image/png": "[encoded data removed]"
          },
          "metadata": {}
        }
      ],
      "source": [
        "# Calculate train losses per epoch\n",
        "train_steps_per_epoch = len(logger.train_losses) // len(logger.eval_losses)\n",
        "train_losses_epoch = [\n",
        "    np.mean(logger.train_losses[i*train_steps_per_epoch : (i+1)*train_steps_per_epoch])\n",
        "    for i in range(len(logger.eval_losses))\n",
        "]\n",
        "epochs = range(1, len(logger.eval_losses) + 1)\n",
        "\n",
        "plt.figure(figsize=(18, 5))\n",
        "\n",
        "plt.subplot(1, 3, 1)\n",
        "plt.plot(epochs, train_losses_epoch, label=\"Train Loss\", marker='o')\n",
        "plt.plot(epochs, logger.eval_losses, label=\"Validation Loss\", marker='o')\n",
        "plt.xlabel(\"Epoch\")\n",
        "plt.ylabel(\"Loss\")\n",
        "plt.title(\"Loss\")\n",
        "plt.legend()\n",
        "plt.grid(True)\n"
      ]
    },
    {
      "cell_type": "markdown",
      "source": [
        "We got the best macroF1 score for the 5th epoch, but in that epoch difference between training and validation loss is quite significant which means that model fits the training data much better than it generalizes to new (validation) data. Mostly due to many epochs.\n",
        "\n",
        "<br> Thus, as the best model we choose epoch 2 which generalize much better and it is a good trade-off between loss and other metrics."
      ],
      "metadata": {
        "id": "BonbC04tMG-T"
      }
    },
    {
      "cell_type": "markdown",
      "source": [
        "## Running the best model"
      ],
      "metadata": {
        "id": "-a3d_vJhLAPa"
      }
    },
    {
      "cell_type": "code",
      "source": [
        "# Training arguments\n",
        "training_args = TrainingArguments(\n",
        "    output_dir=\"./results_epoch2\",\n",
        "    eval_strategy=\"epoch\",\n",
        "    save_strategy=\"epoch\",\n",
        "    num_train_epochs=2,\n",
        "    per_device_train_batch_size=8,\n",
        "    per_device_eval_batch_size=8,\n",
        "    warmup_steps=100,\n",
        "    learning_rate=5e-5,\n",
        "    weight_decay=0.05,\n",
        "    logging_dir=\"./logs\",\n",
        "    logging_steps=10,\n",
        "    load_best_model_at_end=True,\n",
        "    metric_for_best_model=\"f1\",\n",
        "    save_total_limit=2\n",
        ")\n",
        "\n",
        "\n",
        "# Trainer\n",
        "trainer = Trainer(\n",
        "    model=model,\n",
        "    args=training_args,\n",
        "    train_dataset=train_dataset,\n",
        "    eval_dataset=val_dataset,\n",
        "    compute_metrics=compute_metrics,\n",
        "    callbacks=[logger, EarlyStoppingCallback(early_stopping_patience=2)]\n",
        ")"
      ],
      "metadata": {
        "id": "84cdaoN4K_qs"
      },
      "execution_count": 58,
      "outputs": []
    },
    {
      "cell_type": "code",
      "source": [
        "trainer.train()"
      ],
      "metadata": {
        "colab": {
          "base_uri": "https://localhost:8080/",
          "height": 192
        },
        "id": "0-fnoFk2LJz8",
        "outputId": "8d99516d-dd7d-4fab-9a01-0f546d3c59a6"
      },
      "execution_count": 59,
      "outputs": [
        {
          "output_type": "display_data",
          "data": {
            "text/plain": [
              "<IPython.core.display.HTML object>"
            ],
            "text/html": [
              "\n",
              "    <div>\n",
              "      \n",
              "      <progress value='1910' max='1910' style='width:300px; height:20px; vertical-align: middle;'></progress>\n",
              "      [1910/1910 07:54, Epoch 2/2]\n",
              "    </div>\n",
              "    <table border=\"1\" class=\"dataframe\">\n",
              "  <thead>\n",
              " <tr style=\"text-align: left;\">\n",
              "      <th>Epoch</th>\n",
              "      <th>Training Loss</th>\n",
              "      <th>Validation Loss</th>\n",
              "      <th>Accuracy</th>\n",
              "      <th>F1</th>\n",
              "      <th>Precision</th>\n",
              "      <th>Recall</th>\n",
              "    </tr>\n",
              "  </thead>\n",
              "  <tbody>\n",
              "    <tr>\n",
              "      <td>1</td>\n",
              "      <td>0.321600</td>\n",
              "      <td>0.475040</td>\n",
              "      <td>0.834468</td>\n",
              "      <td>0.780105</td>\n",
              "      <td>0.790584</td>\n",
              "      <td>0.780787</td>\n",
              "    </tr>\n",
              "    <tr>\n",
              "      <td>2</td>\n",
              "      <td>0.198200</td>\n",
              "      <td>0.400639</td>\n",
              "      <td>0.860660</td>\n",
              "      <td>0.817901</td>\n",
              "      <td>0.815951</td>\n",
              "      <td>0.820209</td>\n",
              "    </tr>\n",
              "  </tbody>\n",
              "</table><p>"
            ]
          },
          "metadata": {}
        },
        {
          "output_type": "execute_result",
          "data": {
            "text/plain": [
              "TrainOutput(global_step=1910, training_loss=0.5665539796439765, metrics={'train_runtime': 474.335, 'train_samples_per_second': 32.188, 'train_steps_per_second': 4.027, 'total_flos': 794786153508864.0, 'train_loss': 0.5665539796439765, 'epoch': 2.0})"
            ]
          },
          "metadata": {},
          "execution_count": 59
        }
      ]
    },
    {
      "cell_type": "markdown",
      "metadata": {
        "id": "eCvLr0YX-uM1"
      },
      "source": [
        "## Evaluation of the best model (second epoch)"
      ]
    },
    {
      "cell_type": "code",
      "execution_count": 43,
      "metadata": {
        "colab": {
          "base_uri": "https://localhost:8080/",
          "height": 722
        },
        "id": "7t6Z11Kt-uM2",
        "outputId": "08301218-295d-46f5-91cd-e7da684cf38b"
      },
      "outputs": [
        {
          "output_type": "display_data",
          "data": {
            "text/plain": [
              "<IPython.core.display.HTML object>"
            ],
            "text/html": []
          },
          "metadata": {}
        },
        {
          "output_type": "stream",
          "name": "stdout",
          "text": [
            "\n",
            "Classification Report on Validation Set:\n",
            "\n",
            "              precision    recall  f1-score   support\n",
            "\n",
            " Bearish (0)     0.7424    0.7604    0.7513       288\n",
            " Bullish (1)     0.8138    0.7948    0.8042       385\n",
            " Neutral (2)     0.9023    0.9037    0.9030      1236\n",
            "\n",
            "    accuracy                         0.8601      1909\n",
            "   macro avg     0.8195    0.8196    0.8195      1909\n",
            "weighted avg     0.8603    0.8601    0.8602      1909\n",
            "\n"
          ]
        },
        {
          "output_type": "display_data",
          "data": {
            "text/plain": [
              "<Figure size 600x600 with 0 Axes>"
            ]
          },
          "metadata": {}
        },
        {
          "output_type": "display_data",
          "data": {
            "text/plain": [
              "<Figure size 640x480 with 2 Axes>"
            ],
            "image/png": "[encoded data removed]"
          },
          "metadata": {}
        }
      ],
      "source": [
        "# Predict on validation set\n",
        "predictions_val = trainer.predict(val_dataset)\n",
        "\n",
        "# Extract true labels and predicted labels\n",
        "y_true = predictions_val.label_ids\n",
        "y_pred = predictions_val.predictions.argmax(axis=1)\n",
        "\n",
        "# Classification report\n",
        "target_names = [\"Bearish (0)\", \"Bullish (1)\", \"Neutral (2)\"]\n",
        "report = classification_report(y_true, y_pred, target_names=target_names, digits=4)\n",
        "\n",
        "print(\"\\nClassification Report on Validation Set:\\n\")\n",
        "print(report)\n",
        "\n",
        "# Confusion matrix\n",
        "cm = confusion_matrix(y_true, y_pred)\n",
        "disp = ConfusionMatrixDisplay(confusion_matrix=cm, display_labels=target_names)\n",
        "\n",
        "plt.figure(figsize=(6, 6))\n",
        "disp.plot(cmap=\"Blues\", values_format=\"d\")\n",
        "plt.title(\"Confusion Matrix on Validation Set\")\n",
        "plt.show()\n"
      ]
    },
    {
      "cell_type": "code",
      "execution_count": 44,
      "metadata": {
        "colab": {
          "base_uri": "https://localhost:8080/",
          "height": 17
        },
        "id": "CgAqcqV--uM2",
        "outputId": "d3657805-f634-4401-e43b-e6a93642a2ac"
      },
      "outputs": [
        {
          "output_type": "display_data",
          "data": {
            "text/plain": [
              "<IPython.core.display.HTML object>"
            ],
            "text/html": []
          },
          "metadata": {}
        }
      ],
      "source": [
        "# Predict on test set\n",
        "predictions = trainer.predict(test_dataset)\n",
        "preds_test = np.argmax(predictions.predictions, axis=1)"
      ]
    },
    {
      "cell_type": "code",
      "source": [
        "# # File with test label for submission\n",
        "# test_df['label'] = preds\n",
        "# test_df[['id','label']].to_csv(\"pred_decoder.csv\", index=False)\n",
        "\n",
        "# print(\"Prediction file saved as pred_decoder.csv\")"
      ],
      "metadata": {
        "id": "-QfWvAyEIHUD"
      },
      "execution_count": null,
      "outputs": []
    }
  ],
  "metadata": {
    "accelerator": "GPU",
    "colab": {
      "gpuType": "T4",
      "provenance": []
    },
    "kernelspec": {
      "display_name": "Python 3",
      "name": "python3"
    },
    "language_info": {
      "name": "python"
    }
  },
  "nbformat": 4,
  "nbformat_minor": 0
}